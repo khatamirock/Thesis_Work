{
  "cells": [
    {
      "cell_type": "code",
      "execution_count": null,
      "metadata": {
        "colab": {
          "base_uri": "https://localhost:8080/"
        },
        "id": "b0-b3yb-0Iia",
        "outputId": "d60d2223-d2ee-42ed-d6e6-00ebf859438f"
      },
      "outputs": [],
      "source": [
        "!wget 'https://www.manythings.org/anki/ben-eng.zip'\n",
        "!unzip /content/ben-eng.zip\n",
        "# ben_txt='/content/drive/MyDrive/translt/hasan-etal-2020-low/2.75M/ben.txt'\n",
        "# eng_txt='/content/drive/MyDrive/translt/hasan-etal-2020-low/2.75M/eng.txt'\n",
        "\n",
        "\n",
        "# with open(ben_txt) as f:\n",
        "#  ben_lst = f.read().split(\"\\n\")[:-1]\n",
        "# with open(eng_txt) as f:\n",
        "#  en_lst = f.read().split(\"\\n\")[:-1]\n",
        "# len(ben_lst),len(en_lst)\n",
        "\n",
        "\n"
      ]
    },
    {
      "cell_type": "code",
      "execution_count": null,
      "metadata": {
        "id": "B_cGpR5YQeP4"
      },
      "outputs": [],
      "source": [
        "for line in lines[:20]:\n",
        "    english, spanish = line.split(\"\\t\")\n",
        "    spanish = \"[start] \" + spanish + \" [end]\"\n",
        "    text_pairs.append((english, spanish))"
      ]
    },
    {
      "cell_type": "code",
      "execution_count": 17,
      "metadata": {
        "colab": {
          "base_uri": "https://localhost:8080/"
        },
        "id": "Xfy65PLvFkv7",
        "outputId": "e9adb55e-7ba9-409d-93f6-32917be788e8"
      },
      "outputs": [
        {
          "data": {
            "text/plain": [
              "(['সে ঘুরে ল্যাংডনের চোখের দিকে তাকায়।',\n",
              "  'সব মানুষের মধ্যে সমতা আনতে হলে কারও না কারও স্বাধীনতায় হস্তক্ষেপ করতেই হবে।',\n",
              "  'যাই জিজ্ঞেস কর না কেন, সব প্রশ্নের জবাব দিব ডিনারের পর।',\n",
              "  'ঠিক যখন আমি সভাকে শুভরাত জানিয়ে বিদায় নিতে উদ্যত, একজন লোক সত্বর আমার কাছে এসে নিজের পরিচয় দেয়।',\n",
              "  'যেতে দিন!',\n",
              "  'এবার ক্যামারলেনগো ঘুরে দাঁড়াল আবার, তাকাল অন্য সৈনিকদের দিকে, জোয়ানগণ, আমি আর কোন প্রাণঘাতি ঘটনা দেখতে চাই না এই সন্ধ্যায়।',\n",
              "  'তাদের ট্যাক্সি এখন কোথায়?',\n",
              "  'বেশিরভাগ গবেষকই মনে করেন যে, এতসব গুরুত্বপূর্ণ আবিষ্কারের পেছনে নিশ্চয়ই সেপিয়েন্সদের বুদ্ধিবৃত্তিক দক্ষতার কোনো পরিবর্তন দায়ী।',\n",
              "  'দশকের পর দশক ধরে এসব প্রাণীর জীবাশ্ম আর দেহাবশেষের খোঁজে দুই আমেরিকার পাহাড় ও সমতলে চষে বেড়াচ্ছেন বিশেষজ্ঞরা। যখনই তাঁরা কোনো কিছু খুঁজে পাচ্ছেন পরম যত্নে সেগুলো পাঠিয়ে দিচ্ছেন গবেষণাগারে।',\n",
              "  'এটা প্রাপ্ত বয়স্কদের জন্য এক রকমের স্কুলও বলা চলে।'],\n",
              " 2753069)"
            ]
          },
          "execution_count": 17,
          "metadata": {},
          "output_type": "execute_result"
        }
      ],
      "source": [
        "ben_lst[:10],len(ben_lst)"
      ]
    },
    {
      "cell_type": "code",
      "execution_count": 1,
      "metadata": {
        "id": "QnBRgtYfaPUY"
      },
      "outputs": [],
      "source": [
        "NUM_SENTENCES = 20000 # Use only the first 20,000 records.\n",
        "MAX_NUM_WORDS = 50000 # Use 20,000 words for tokenizing\n",
        "MAX_SENT_LEN = 20\n",
        "\n",
        "EMBEDDING_SIZE = 100\n",
        "\n",
        "LSTM_NEURONS = 100\n",
        "\n",
        "BATCH_SIZE = 64\n",
        "EPOCHS = 5"
      ]
    },
    {
      "cell_type": "code",
      "execution_count": 2,
      "metadata": {
        "id": "ubAXBVKUYkhE"
      },
      "outputs": [],
      "source": [
        "\n",
        "inputs = []\n",
        "outputs_i = []\n",
        "outputs = []\n",
        "\n",
        "data_file = open('ben.txt', encoding='utf-8')\n"
      ]
    },
    {
      "cell_type": "markdown",
      "metadata": {
        "id": "t2QWKkXPwER6"
      },
      "source": [
        "# 2.7M"
      ]
    },
    {
      "cell_type": "code",
      "execution_count": 5,
      "metadata": {
        "colab": {
          "base_uri": "https://localhost:8080/"
        },
        "id": "7MnP91rraQkS",
        "outputId": "e7e89da0-b07d-4ac8-afb1-ee352da829a4"
      },
      "outputs": [
        {
          "name": "stdout",
          "output_type": "stream",
          "text": [
            "Total inputs = 6513\n",
            "Total intermediate outputs = 6513\n",
            "Total outputs = 6513\n",
            "\n",
            "Sample:\n",
            "It's me.\n",
            "<sos> আমি।\n",
            "আমি। <eos>\n"
          ]
        }
      ],
      "source": [
        "inputs = []\n",
        "outputs_i = []\n",
        "outputs = []\n",
        "\n",
        "data_file = open('ben.txt', encoding='utf-8')\n",
        "\n",
        "count = 0\n",
        "for line in data_file:\n",
        "    count += 1\n",
        "    if count > NUM_SENTENCES:\n",
        "        break\n",
        "    if '\\t' not in line:\n",
        "        continue\n",
        "    ip, temp_op, extra = line.rstrip().split('\\t')\n",
        "    op_i = '<sos> '+temp_op\n",
        "    op = temp_op+' <eos>'\n",
        "    inputs.append(ip)\n",
        "    outputs_i.append(op_i)\n",
        "    outputs.append(op)\n",
        "\n",
        "print('Total inputs =', len(inputs))\n",
        "print('Total intermediate outputs =', len(outputs_i))\n",
        "print('Total outputs =', len(outputs))\n",
        "print('\\nSample:')\n",
        "print(inputs[100])\n",
        "print(outputs_i[100])\n",
        "print(outputs[100])"
      ]
    },
    {
      "cell_type": "code",
      "execution_count": 27,
      "metadata": {
        "colab": {
          "base_uri": "https://localhost:8080/"
        },
        "id": "2FX1oD2gIOn3",
        "outputId": "af53f0fb-4bb5-401f-d04c-780daa6c81c1"
      },
      "outputs": [
        {
          "data": {
            "text/plain": [
              "(190, 72327)"
            ]
          },
          "execution_count": 27,
          "metadata": {},
          "output_type": "execute_result"
        }
      ],
      "source": [
        "len(baki[6]),len(inputs)"
      ]
    },
    {
      "cell_type": "code",
      "execution_count": 6,
      "metadata": {
        "colab": {
          "base_uri": "https://localhost:8080/"
        },
        "id": "U5-m52I9axOd",
        "outputId": "3599f907-8383-4627-e447-dac581c442eb"
      },
      "outputs": [
        {
          "data": {
            "text/plain": [
              "(['<sos> যাও।', '<sos> যান।', '<sos> যা।', '<sos> পালাও!'],\n",
              " ['Go.', 'Go.', 'Go.', 'Run!'])"
            ]
          },
          "execution_count": 6,
          "metadata": {},
          "output_type": "execute_result"
        }
      ],
      "source": [
        "outputs_i[:4],inputs[:4]"
      ]
    },
    {
      "cell_type": "markdown",
      "metadata": {
        "id": "BXgm_epCwH51"
      },
      "source": [
        "# ORIG"
      ]
    },
    {
      "cell_type": "code",
      "execution_count": 7,
      "metadata": {
        "colab": {
          "base_uri": "https://localhost:8080/"
        },
        "id": "XHRZI7jewJst",
        "outputId": "e232874a-40c0-4971-e0cd-d9ef10a33e28"
      },
      "outputs": [
        {
          "name": "stdout",
          "output_type": "stream",
          "text": [
            "Total unique words in input: 2715\n",
            "Length of longest sentence in input: 20\n",
            "Total unique words in output: 5242\n",
            "Length of longest sentence in output: 19\n"
          ]
        }
      ],
      "source": [
        "from keras.preprocessing.text import Tokenizer\n",
        "\n",
        "input_tokenizer = Tokenizer(num_words=MAX_NUM_WORDS)\n",
        "input_tokenizer.fit_on_texts(inputs)\n",
        "\n",
        "inputs_seq = input_tokenizer.texts_to_sequences(inputs)\n",
        "\n",
        "inputs_word2index = input_tokenizer.word_index\n",
        "print('Total unique words in input:', len(inputs_word2index))\n",
        "\n",
        "inputs_numwords = len(inputs_word2index)+1\n",
        "\n",
        "inputs_maxlen = max(len(s) for s in inputs_seq)\n",
        "print('Length of longest sentence in input:', inputs_maxlen)\n",
        "\n",
        "output_tokenizer = Tokenizer(num_words=MAX_NUM_WORDS, filters='')\n",
        "output_tokenizer.fit_on_texts(outputs_i + outputs)\n",
        "\n",
        "outputs_i_seq = output_tokenizer.texts_to_sequences(outputs_i)\n",
        "outputs_seq = output_tokenizer.texts_to_sequences(outputs)\n",
        "\n",
        "outputs_word2index = output_tokenizer.word_index\n",
        "print('Total unique words in output:', len(outputs_word2index))\n",
        "\n",
        "outputs_numwords = len(outputs_word2index)+1\n",
        "\n",
        "outputs_maxlen = max(len(s) for s in outputs_seq)\n",
        "print('Length of longest sentence in output:', outputs_maxlen)"
      ]
    },
    {
      "cell_type": "code",
      "execution_count": 8,
      "metadata": {
        "colab": {
          "base_uri": "https://localhost:8080/"
        },
        "id": "Sg_3866gbM9P",
        "outputId": "a876ec0f-f5b3-4d38-c77f-a3b2f20dede4"
      },
      "outputs": [
        {
          "name": "stdout",
          "output_type": "stream",
          "text": [
            "Total inputs = 6513\n",
            "Total intermediate outputs = 6513\n",
            "Total outputs = 6513\n"
          ]
        }
      ],
      "source": [
        "print('Total inputs =', len(inputs))\n",
        "print('Total intermediate outputs =', len(outputs_i))\n",
        "print('Total outputs =', len(outputs))\n"
      ]
    },
    {
      "cell_type": "code",
      "execution_count": null,
      "metadata": {
        "id": "5Oyv40R6hVYV"
      },
      "outputs": [],
      "source": []
    },
    {
      "cell_type": "code",
      "execution_count": 9,
      "metadata": {
        "colab": {
          "base_uri": "https://localhost:8080/"
        },
        "id": "-dUtMtyTbVHp",
        "outputId": "1cda7200-0dd3-4e2e-ef3b-317c1fcdd2be"
      },
      "outputs": [
        {
          "name": "stdout",
          "output_type": "stream",
          "text": [
            "encoder_input_sequences shape: (6513, 20)\n",
            "decoder_inputs_sequences shape: (6513, 19)\n",
            "decoder_output_sequences shape: (6513, 19)\n"
          ]
        }
      ],
      "source": [
        "from keras.preprocessing.sequence import pad_sequences\n",
        "\n",
        "encoder_input_sequences = pad_sequences(inputs_seq, maxlen=inputs_maxlen,padding='post')\n",
        "print('encoder_input_sequences shape:', encoder_input_sequences.shape)\n",
        "\n",
        "decoder_input_sequences = pad_sequences(outputs_i_seq, maxlen=outputs_maxlen, padding='post')\n",
        "print('decoder_inputs_sequences shape:', decoder_input_sequences.shape)\n",
        "\n",
        "decoder_output_sequences = pad_sequences(outputs_seq, maxlen=outputs_maxlen, padding='post')\n",
        "print('decoder_output_sequences shape:', decoder_output_sequences.shape)"
      ]
    },
    {
      "cell_type": "code",
      "execution_count": 10,
      "metadata": {
        "colab": {
          "base_uri": "https://localhost:8080/"
        },
        "id": "OUYIW5Ycom8T",
        "outputId": "b9ec377a-8800-4ea2-b816-0d88e77d3063"
      },
      "outputs": [
        {
          "data": {
            "text/plain": [
              "([31, 188],\n",
              " 'We lost.',\n",
              " array([ 31, 188,   0,   0,   0,   0,   0,   0,   0,   0,   0,   0,   0,\n",
              "          0,   0,   0,   0,   0,   0,   0]))"
            ]
          },
          "execution_count": 10,
          "metadata": {},
          "output_type": "execute_result"
        }
      ],
      "source": [
        "id=123\n",
        "\n",
        "inputs_seq[id],inputs[id],encoder_input_sequences[id]"
      ]
    },
    {
      "cell_type": "code",
      "execution_count": 11,
      "metadata": {
        "colab": {
          "base_uri": "https://localhost:8080/"
        },
        "id": "VNmThpi_hXiv",
        "outputId": "d85dca8d-acae-4278-91c7-ba0e97f7dcc3"
      },
      "outputs": [
        {
          "data": {
            "text/plain": [
              "([1, 16, 955, 224],\n",
              " '<sos> আমরা হেরে গেছিলাম।',\n",
              " array([  1,  16, 955, 224,   0,   0,   0,   0,   0,   0,   0,   0,   0,\n",
              "          0,   0,   0,   0,   0,   0]))"
            ]
          },
          "execution_count": 11,
          "metadata": {},
          "output_type": "execute_result"
        }
      ],
      "source": [
        "# input_tokenizer.texts_to_sequences(inputs),len(outputs_seq)\n",
        "id=123\n",
        "\n",
        "outputs_i_seq[id],outputs_i[id],decoder_input_sequences[id]"
      ]
    },
    {
      "cell_type": "code",
      "execution_count": 32,
      "metadata": {
        "colab": {
          "base_uri": "https://localhost:8080/"
        },
        "id": "PqnVx7tuI6zz",
        "outputId": "b6e62dbe-6b6e-4dff-b23a-eae100bf0c00"
      },
      "outputs": [
        {
          "data": {
            "text/plain": [
              "(0, [], 11, 71652)"
            ]
          },
          "execution_count": 32,
          "metadata": {},
          "output_type": "execute_result"
        }
      ],
      "source": [
        "bigg=[]\n",
        "pos=[]\n",
        "avlen=0\n",
        "lest=0\n",
        "for i,x in enumerate(outputs_seq):\n",
        "  avlen+=len(x)\n",
        "  if 1< len(x)<30 :\n",
        "    lest+=1\n",
        "  if len(x)>40:\n",
        "\n",
        "    bigg.append(x)\n",
        "    pos.append(i)\n",
        "len(bigg),pos,avlen//len(inputs),lest"
      ]
    },
    {
      "cell_type": "code",
      "execution_count": 33,
      "metadata": {
        "colab": {
          "base_uri": "https://localhost:8080/",
          "height": 175
        },
        "id": "KY9uzO-poC6V",
        "outputId": "4fc307a5-bb29-4ac2-a43a-fb4c5c1ea774"
      },
      "outputs": [
        {
          "ename": "IndexError",
          "evalue": "list index out of range",
          "output_type": "error",
          "traceback": [
            "\u001b[0;31m---------------------------------------------------------------------------\u001b[0m",
            "\u001b[0;31mIndexError\u001b[0m                                Traceback (most recent call last)",
            "\u001b[0;32m<ipython-input-33-9b821b0e56bc>\u001b[0m in \u001b[0;36m<cell line: 1>\u001b[0;34m()\u001b[0m\n\u001b[0;32m----> 1\u001b[0;31m \u001b[0mbigg\u001b[0m\u001b[0;34m[\u001b[0m\u001b[0;36m1\u001b[0m\u001b[0;34m]\u001b[0m\u001b[0;34m\u001b[0m\u001b[0;34m\u001b[0m\u001b[0m\n\u001b[0m",
            "\u001b[0;31mIndexError\u001b[0m: list index out of range"
          ]
        }
      ],
      "source": [
        "bigg[1]"
      ]
    },
    {
      "cell_type": "code",
      "execution_count": 152,
      "metadata": {
        "colab": {
          "base_uri": "https://localhost:8080/"
        },
        "id": "RqlyK6Gah11B",
        "outputId": "5fce2351-3c36-4eef-b247-275690bdb80b"
      },
      "outputs": [
        {
          "data": {
            "text/plain": [
              "[119, 19, 521]"
            ]
          },
          "execution_count": 152,
          "metadata": {},
          "output_type": "execute_result"
        }
      ],
      "source": [
        "inputs_seq[1321]"
      ]
    },
    {
      "cell_type": "code",
      "execution_count": 12,
      "metadata": {
        "colab": {
          "base_uri": "https://localhost:8080/"
        },
        "id": "E92BAulNDdkB",
        "outputId": "35558915-e2dc-4092-9079-970511e12b36"
      },
      "outputs": [
        {
          "data": {
            "text/plain": [
              "array([457,   0,   0,   0,   0,   0,   0,   0,   0,   0,   0,   0,   0,\n",
              "         0,   0,   0,   0,   0,   0,   0])"
            ]
          },
          "execution_count": 12,
          "metadata": {},
          "output_type": "execute_result"
        }
      ],
      "source": [
        "encoder_input_sequences[10]"
      ]
    },
    {
      "cell_type": "code",
      "execution_count": null,
      "metadata": {
        "colab": {
          "base_uri": "https://localhost:8080/",
          "height": 366
        },
        "id": "tbosWroqiQcJ",
        "outputId": "147a84a3-bff3-4edb-f11d-2f3643ed24e5"
      },
      "outputs": [
        {
          "ename": "ModuleNotFoundError",
          "evalue": "No module named 'bnlp'",
          "output_type": "error",
          "traceback": [
            "\u001b[0;31m---------------------------------------------------------------------------\u001b[0m",
            "\u001b[0;31mModuleNotFoundError\u001b[0m                       Traceback (most recent call last)",
            "\u001b[0;32m<ipython-input-13-38b16ca7a826>\u001b[0m in \u001b[0;36m<cell line: 1>\u001b[0;34m()\u001b[0m\n\u001b[0;32m----> 1\u001b[0;31m \u001b[0;32mfrom\u001b[0m \u001b[0mbnlp\u001b[0m \u001b[0;32mimport\u001b[0m \u001b[0mBengaliGlove\u001b[0m\u001b[0;34m\u001b[0m\u001b[0;34m\u001b[0m\u001b[0m\n\u001b[0m\u001b[1;32m      2\u001b[0m \u001b[0;34m\u001b[0m\u001b[0m\n\u001b[1;32m      3\u001b[0m \u001b[0mbengali_glove\u001b[0m \u001b[0;34m=\u001b[0m \u001b[0mBengaliGlove\u001b[0m\u001b[0;34m(\u001b[0m\u001b[0;34m)\u001b[0m \u001b[0;31m# will automatically download pretrained model\u001b[0m\u001b[0;34m\u001b[0m\u001b[0;34m\u001b[0m\u001b[0m\n",
            "\u001b[0;31mModuleNotFoundError\u001b[0m: No module named 'bnlp'",
            "",
            "\u001b[0;31m---------------------------------------------------------------------------\u001b[0;32m\nNOTE: If your import is failing due to a missing package, you can\nmanually install dependencies using either !pip or !apt.\n\nTo view examples of installing some common dependencies, click the\n\"Open Examples\" button below.\n\u001b[0;31m---------------------------------------------------------------------------\u001b[0m\n"
          ]
        }
      ],
      "source": [
        "from bnlp import BengaliGlove\n",
        "\n",
        "bengali_glove = BengaliGlove() # will automatically download pretrained model"
      ]
    },
    {
      "cell_type": "code",
      "execution_count": 14,
      "metadata": {
        "id": "1S8DxKhWie4b"
      },
      "outputs": [],
      "source": [
        "from numpy import asarray, zeros\n",
        "embeddings_dict = dict()\n",
        "# !wget http://nlp.stanford.edu/data/glove.6B.zip\n",
        "# !unzip glove.6B.zip\n",
        "glove_file = open('/content/drive/MyDrive/translt/glove.6B.100d.txt', encoding='utf8')"
      ]
    },
    {
      "cell_type": "code",
      "execution_count": 15,
      "metadata": {
        "id": "Yaz_Se0isK10"
      },
      "outputs": [],
      "source": [
        "for line in glove_file:\n",
        "    records = line.split()\n",
        "    word = records[0]\n",
        "    vector = asarray(records[1:], dtype='float32')\n",
        "    embeddings_dict[word] = vector\n",
        "glove_file.close()"
      ]
    },
    {
      "cell_type": "code",
      "execution_count": 38,
      "metadata": {
        "colab": {
          "base_uri": "https://localhost:8080/"
        },
        "id": "6btCicpwskPW",
        "outputId": "e89f18e9-b13c-406c-81a0-072faf96e35f"
      },
      "outputs": [
        {
          "name": "stdout",
          "output_type": "stream",
          "text": [
            "the [-0.038194 -0.24487   0.72812  -0.39961   0.083172  0.043953 -0.39141\n",
            "  0.3344   -0.57545   0.087459]\n",
            ", [-0.10767   0.11053   0.59812  -0.54361   0.67396   0.10663   0.038867\n",
            "  0.35481   0.06351  -0.094189]\n",
            ". [-0.33979   0.20941   0.46348  -0.64792  -0.38377   0.038034  0.17127\n",
            "  0.15978   0.46619  -0.019169]\n",
            "of [-0.1529  -0.24279  0.89837  0.16996  0.53516  0.48784 -0.58826 -0.17982\n",
            " -1.3581   0.42541]\n",
            "to [-0.1897    0.050024  0.19084  -0.049184 -0.089737  0.21006  -0.54952\n",
            "  0.098377 -0.20135   0.34241 ]\n",
            "and [-0.071953  0.23127   0.023731 -0.50638   0.33923   0.1959   -0.32943\n",
            "  0.18364  -0.18057   0.28963 ]\n",
            "in [ 0.085703 -0.22201   0.16569   0.13373   0.38239   0.35401   0.01287\n",
            "  0.22461  -0.43817   0.50164 ]\n",
            "a [-0.27086   0.044006 -0.02026  -0.17395   0.6444    0.71213   0.3551\n",
            "  0.47138  -0.29637   0.54427 ]\n",
            "\" [-0.30457  -0.23645   0.17576  -0.72854  -0.28343  -0.2564    0.26587\n",
            "  0.025309 -0.074775 -0.3766  ]\n",
            "'s [ 0.58854 -0.2025   0.73479 -0.68338 -0.19675 -0.1802  -0.39177  0.34172\n",
            " -0.60561  0.63816]\n",
            "for [-0.14401   0.32554   0.14257  -0.099227  0.72536   0.19321  -0.24188\n",
            "  0.20223  -0.89599   0.15215 ]\n"
          ]
        }
      ],
      "source": [
        "for i,x in enumerate(embeddings_dict):\n",
        "  print(x,embeddings_dict[x][:10])\n",
        "  if i==10:break\n"
      ]
    },
    {
      "cell_type": "code",
      "execution_count": 39,
      "metadata": {
        "colab": {
          "base_uri": "https://localhost:8080/"
        },
        "id": "03KItgsQLPdq",
        "outputId": "f2514cb0-6b84-49fa-e191-03adc57cc43a"
      },
      "outputs": [
        {
          "data": {
            "text/plain": [
              "(31265, 50000)"
            ]
          },
          "execution_count": 39,
          "metadata": {},
          "output_type": "execute_result"
        }
      ],
      "source": [
        "len(inputs_word2index)+1,MAX_NUM_WORDS"
      ]
    },
    {
      "cell_type": "code",
      "execution_count": 40,
      "metadata": {
        "id": "qVfKBzz3tE-P"
      },
      "outputs": [],
      "source": [
        "num_words =min(MAX_NUM_WORDS, len(inputs_word2index)+1)\n",
        "\n",
        "embedding_matrix = zeros((num_words, EMBEDDING_SIZE))\n",
        "\n",
        "for word, index in inputs_word2index.items():\n",
        "    embedding_vector = embeddings_dict.get(word)\n",
        "    if embedding_vector is not None:\n",
        "        embedding_matrix[index] = embedding_vector"
      ]
    },
    {
      "cell_type": "code",
      "execution_count": 19,
      "metadata": {
        "id": "KilMjp5pweB_"
      },
      "outputs": [],
      "source": [
        "from numpy import asarray, zeros\n",
        "\n",
        "embeddings_dict = dict()\n",
        "\n",
        "glove_file = open('/content/drive/MyDrive/translt/glove.6B.100d.txt', encoding='utf8')\n",
        "\n",
        "for line in glove_file:\n",
        "    records = line.split()\n",
        "    word = records[0]\n",
        "    vector = asarray(records[1:], dtype='float32')\n",
        "    embeddings_dict[word] = vector\n",
        "\n",
        "glove_file.close()\n",
        "\n",
        "num_words = min(MAX_NUM_WORDS, len(inputs_word2index)+1)\n",
        "\n",
        "embedding_matrix = zeros((num_words, EMBEDDING_SIZE))\n",
        "\n",
        "for word, index in inputs_word2index.items():\n",
        "    embedding_vector = embeddings_dict.get(word)\n",
        "    if embedding_vector is not None:\n",
        "        embedding_matrix[index] = embedding_vector"
      ]
    },
    {
      "cell_type": "markdown",
      "metadata": {
        "id": "xOJ2LuAn12Ey"
      },
      "source": [
        "**en:2715 bn:5242**\n",
        "\n",
        "---\n",
        "\n"
      ]
    },
    {
      "cell_type": "code",
      "execution_count": 13,
      "metadata": {
        "id": "_5RWuthp4hlD"
      },
      "outputs": [
        {
          "ename": "NameError",
          "evalue": "name 'num_words' is not defined",
          "output_type": "error",
          "traceback": [
            "\u001b[1;31m---------------------------------------------------------------------------\u001b[0m",
            "\u001b[1;31mNameError\u001b[0m                                 Traceback (most recent call last)",
            "Cell \u001b[1;32mIn[13], line 3\u001b[0m\n\u001b[0;32m      1\u001b[0m \u001b[38;5;28;01mfrom\u001b[39;00m \u001b[38;5;21;01mkeras\u001b[39;00m\u001b[38;5;21;01m.\u001b[39;00m\u001b[38;5;21;01mlayers\u001b[39;00m \u001b[38;5;28;01mimport\u001b[39;00m Input, Embedding, LSTM, Dense\n\u001b[1;32m----> 3\u001b[0m encoder_embedding_layer \u001b[38;5;241m=\u001b[39m Embedding(\u001b[43mnum_words\u001b[49m, EMBEDDING_SIZE, weights\u001b[38;5;241m=\u001b[39m\u001b[38;5;28;01mNone\u001b[39;00m, input_length\u001b[38;5;241m=\u001b[39minputs_maxlen)\n\u001b[0;32m      4\u001b[0m decoder_embedding_layer \u001b[38;5;241m=\u001b[39m Embedding(outputs_numwords, LSTM_NEURONS)\n",
            "\u001b[1;31mNameError\u001b[0m: name 'num_words' is not defined"
          ]
        }
      ],
      "source": [
        "from keras.layers import Input, Embedding, LSTM, Dense\n",
        "\n",
        "encoder_embedding_layer = Embedding(num_words, EMBEDDING_SIZE, weights=None, input_length=inputs_maxlen)\n",
        "decoder_embedding_layer = Embedding(outputs_numwords, LSTM_NEURONS)"
      ]
    },
    {
      "cell_type": "code",
      "execution_count": 21,
      "metadata": {
        "colab": {
          "base_uri": "https://localhost:8080/"
        },
        "id": "abdxvmZ4Kihc",
        "outputId": "d158c365-4d08-4a60-c63e-6fb2b3693f60"
      },
      "outputs": [
        {
          "data": {
            "text/plain": [
              "(6513, 5243)"
            ]
          },
          "execution_count": 21,
          "metadata": {},
          "output_type": "execute_result"
        }
      ],
      "source": [
        "len(decoder_output_sequences),outputs_numwords"
      ]
    },
    {
      "cell_type": "code",
      "execution_count": 160,
      "metadata": {
        "id": "Pv124MCnZ5xI"
      },
      "outputs": [],
      "source": [
        "import tensorflow as tf\n",
        "\n",
        "# Assuming source_vectorization and target_vectorization are TextVectorization layers\n",
        "\n",
        "batch_size =1000\n",
        "\n",
        "def format_dataset(eng, ben):\n",
        "    eng = source_vectorization(eng)\n",
        "    ben = target_vectorization(ben)\n",
        "    # print(ben[:,:10] )\n",
        "    # Ensure ben has the expected shape before slicing\n",
        "    # ben = tf.reshape(ben, [tf.shape(ben)[0], -1])  # Reshape to 2D\n",
        "    return {\"eng\": eng, \"ben\": ben[:, :-1]}, ben[:, 1:]\n",
        "\n",
        "def make_dataset(pairs):\n",
        "    eng_texts, ben_texts = zip(*pairs)\n",
        "    eng_texts = list(eng_texts)\n",
        "    ben_texts = list(ben_texts)\n",
        "    dataset = tf.data.Dataset.from_tensor_slices((eng_texts, ben_texts))\n",
        "    dataset = dataset.batch(batch_size)\n",
        "    dataset = dataset.map(format_dataset, num_parallel_calls=tf.data.experimental.AUTOTUNE)\n",
        "    return dataset.shuffle(2048).prefetch(16).cache()\n"
      ]
    },
    {
      "cell_type": "code",
      "execution_count": null,
      "metadata": {
        "id": "RrX9mLnscKF_"
      },
      "outputs": [],
      "source": [
        "import tensorflow as tf\n",
        "import string\n",
        "import re\n",
        "from tensorflow.keras import layers\n",
        "sequence_length=30\n",
        "max_token=50000\n",
        "source_vectorization = layers.TextVectorization(\n",
        "  max_tokens=max_token,\n",
        "  output_mode=\"int\",\n",
        "  output_sequence_length=sequence_length,\n",
        "  # standardize=custom_standardization\n",
        ")\n",
        "target_vectorization = layers.TextVectorization(\n",
        "  max_tokens=max_token,\n",
        "  output_mode=\"int\",\n",
        "  output_sequence_length=sequence_length + 1,\n",
        "\n",
        ")"
      ]
    },
    {
      "cell_type": "code",
      "execution_count": null,
      "metadata": {
        "id": "ECoz41XveddF"
      },
      "outputs": [],
      "source": [
        "def createVector(pairs,vectorztn):\n",
        "  batch_size = 10000  # Adjust the batch size based on your available memory\n",
        "  num_batches = len(pairs) // batch_size + 1\n",
        "\n",
        "  for i in range(num_batches):\n",
        "      start_idx = i * batch_size\n",
        "      end_idx = min((i + 1) * batch_size, len(pairs))\n",
        "      batch_texts = pairs[start_idx:end_idx]\n",
        "      vectorztn.adapt(batch_texts)\n",
        "  # return vectorztn\n",
        "      # target_vectorization.adapt(batch_ben_texts)  # Uncomment if needed\n",
        "\n"
      ]
    },
    {
      "cell_type": "code",
      "execution_count": null,
      "metadata": {
        "colab": {
          "base_uri": "https://localhost:8080/"
        },
        "id": "kp0K_rJ7fhf1",
        "outputId": "470ae69f-93b3-41aa-b7ce-7174138edace"
      },
      "outputs": [
        {
          "data": {
            "text/plain": [
              "(357768, 357768)"
            ]
          },
          "execution_count": 114,
          "metadata": {},
          "output_type": "execute_result"
        }
      ],
      "source": [
        "len(inputs),len(outputs)"
      ]
    },
    {
      "cell_type": "code",
      "execution_count": null,
      "metadata": {
        "id": "ybqGktQlek7P"
      },
      "outputs": [],
      "source": [
        "# createVector(inputs,source_vectorization)\n",
        "createVector(outputs,target_vectorization)"
      ]
    },
    {
      "cell_type": "code",
      "execution_count": null,
      "metadata": {
        "colab": {
          "base_uri": "https://localhost:8080/"
        },
        "id": "jTooBa0VewNt",
        "outputId": "7a154948-6d26-4f7e-e647-804a1956eeee"
      },
      "outputs": [
        {
          "name": "stdout",
          "output_type": "stream",
          "text": [
            "Vocabulary: ['', '[UNK]', 'the', 'of', 'and', 'in', 'to', 'a', 'was', 'is', 'as', 'for', 'on', 'he', 'are', 'by', 'with', 'from', 'his', 'at', 'it', 'were', 'bangladesh', 'this', 'an', 'also', 'that', 'or', 'bengal', 'be', 'their', 'dhaka', 'but', 'km', 'have', 'its', 'upazila', 'under', 'which', 'has', 'all', 'had', 'not', 'government', 'there', 'one', 'these', 'after', 'other', 'they', 'been', 'some', 'during', 'about', 'india', 'population', 'two', 'district', '1', 'school', 'into', 'khan', 'area', 'university', 'many', 'however', 'water', 'most', 'east', 'between', 'college', 'people', 'sq', 'number', 'muslim', 'land', 'literacy', 'rural', 'main', 'mosque', 'village', 'first', 'rate', 'him', 'union', 'new', 'time', 'pakistan', 'road', 'others', 'country', 'bangla', 'known', 'century', 'up', 'total', 'only', 'established', 'used', 'female', 'calcutta', 'such', 'national', 'education', 'made', 'years', 'three', 'may', 'institutions', 'important', 'through', 'river', 'over', 'more', 'male', 'them', 'per', 'health', 'areas', 'who', 'war', 'part', 'movement', 'hindu', 'chittagong', 'became', 'than', 'later', 'high', 'shah', 'name', 'activities', 'religious', 'extinct', 'development', 'when', 'system', 'centre', 'army', '2', 'period', 'no', 'indian', '3', 'local', 'life', 'general', 'different', 'any', 'agricultural', 'students', 'north', 'islam', 'year', 'social', 'both', 'work', 'took', 'liberation', 'called', 'very', 'history', 'family', 'out', 'like', 'buddhist', 'ahmed', 'society', 'abdul', 'published', 'etc', 'can', 'born', 'act', 'rahman', 'cultural', 'administration', 'west', 'several', 'see', 'research', 'now', 'large', 'while', 'public', 'bank', 'world', 'service', 'against', 'member', 'company', '4', '1971', 'educational', 'among', 'source', 'songs', 'members', 'early', 'crops', 'various', 'usually', 'town', 'started', 'formed', 'within', 'professor', 'president', 'major', 'located', 'found', 'council', 'british', 'well', 'state', 'political', 'nearly', 'language', 'including', 'held', 'facilities', 'electricity', 'died', 'came', 'building', 'ali', 'primary', 'library', 'english', 'each', 'density', 'chowdhury', 'bureau', 'urban', 'statistics', 'sources', 'since', 'muhammad', 'group', 'ad', 'soil', 'institute', 'before', 'another', 'women', 'then', 'south', 'rivers', 'present', 'law', 'freedom', 'due', 'city', 'census', '2001', 'use', 'she', 'set', 'same', 'landowner', 'committee', 'ancient', 'according', 'access', '15', 'traditional', 'role', 'rice', 'revenue', 'place', 'party', 'noted', 'introduced', 'father', 'elected', 'department', 'community', 'communication', 'board', 'bazar', 'appointed', 'thana', 'secondary', 'mughal', 'literature', 'kolkata', 'great', 'even', 'eastern', 'did', 'being', 'art', 'april', '25', 'would', 'special', 'sector', 'second', 'killed', 'fighters', 'death', 'court', '5', 'training', 'theatre', 'temple', 'small', 'parts', 'muslims', 'market', 'five', 'could', 'capital', 'besides', 'thus', 'those', 'pak', 'own', 'museum', 'municipality', 'joined', 'hospital', 'wrote', 'mill', 'followed', 'famous', 'control', 'central', '10', 'where', 'tubewell', 'sylhet', 'soils', 'medical', 'industries', 'himself', 'given', 'form', 'so', 'report', 'paddy', 'near', 'nawab', 'mainly', 'international', 'december', 'day', 'created', '9', 'types', 'science', 'rule', 'rajshahi', 'railway', 'pond', 'organisations', 'named', 'million', 'jute', 'groups', 'fruits', 'four', 'food', 'fisheries', 'factory', 'civil', 'chief', 'built', 'because', 'association', 'around', 'although', 'transport', 'son', 'organisation', 'md', 'management', 'league', 'households', 'good', 'generally', 'every', 'dwelling', 'drinking', 'business', 'average', '6', '12', 'zamindars', 'trade', 'towards', 'tap', 'pucca', 'provided', 'policy', 'mud', 'military', 'long', 'her', 'got', 'foreign', 'folk', 'end', 'dr', 'culture', 'class', 'christian', 'bengali', 'based', 'age', 'times', 'though', 'support', 'sanskrit', 'received', 'music', 'middle', 'mentioned', 'level', 'include', 'few', 'dinajpur', 'days', 'books', 'beel', 'basis', 'almost', '20', 'until', 'turned', 'take', 'species', 'site', 'region', 'production', 'minister', 'm', 'led', 'june', 'here', 'governor', 'degree', 'continued', 'commission', 'centres', 'c', 'book', 'bodies', '1972', '14', 'tomb', 'short', 'private', 'persian', 'ownership', 'october', 'mohammad', 'march', 'king', 'increased', 'human', 'higher', 'ganges', 'further', 'field', 'do', 'divided', 'complex', 'bogra', 'available', 'assembly', 'archaeological', '24', 'written', 'writer', 'worked', 'united', 'technology', 'taken', 'still', 'stage', 'secretary', 'project', 'politics', 'poet', 'plan', 'persons', 'particularly', 'organised', 'natural', 'mymensingh', 'make', 'left', 'landless', 'hossain', 'fish', 'down', 'districts', 'course', 'congress', 'clinic', 'bamboo', 'arabic', 'academy', '30', 'will', 'together', 'throughout', 'sultan', 'student', 'settlement', 'programme', 'power', 'popular', 'officers', 'ngos', 'network', 'much', 'modern', 'miles', 'mass', 'madrasa', 'low', 'khulna', 'islamic', 'following', 'february', 'developed', 'commercial', 'children', 'began', '22', '18', '11', 'works', 'ward', 'unit', 'type', 'studies', 'southern', 'services', 'schools', 'rangpur', 'police', 'plays', 'planning', 'places', 'palanquin', 'longitudes', 'less', 'latitudes', 'industry', 'help', 'head', 'gave', 'engineering', 'division', 'director', 'construction', 'code', 'cases', 'carried', 'bullock', 'august', 'again', '2007', '16', 'vegetables', 'urdu', 'survey', 'study', 'song', 'should', 'semipucca', 'roy', 'quality', 'produced', 'poultries', 'played', 'partition', 'order', 'mother', 'knowledge', 'industrial', 'house', 'horse', 'home', 'hall', 'functions', 'fact', 'exports', 'economic', 'demand', 'dairies', 'courses', 'club', 'chandra', 'cart', 'assam', 'along', 'agriculture', 'acre', '7', '26', '1947', 'zamindari', 'welfare', 'wall', 'title', 'themselves', 'surface', 'stories', 'soon', 'single', 'rights', 'ngo', 'money', 'marriage', 'information', 'goods', 'go', 'environment', 'cultivation', 'countries', 'cotton', 'cottage', 'corporation', 'constitution', 'brought', 'back', 'ahmad', '21', '13', 'zamindar', 'without', 'wheat', 'uddin', 'terms', 'syed', 'stone', 'size', 'side', 'sheikh', 'sangsad', 'responsible', 'remains', 'province', 'principal', 'philosophy', 'periodicals', 'old', 'november', 'notable', 'mostly', 'ministry', 'medieval', 'ma', 'last', 'january', 'interest', 'institution', 'included', 'houses', 'hill', 'heavy', 'ground', 'free', 'founded', 'farmers', 'dance', 'composed', 'colonial', 'collection', 'classes', 'carriage', 'brac', 'black', 'believe', 'banks', 'amount', '8', '23', '1952', 'young', 'tried', 'tk', 'style', 'structure', 'served', 'regions', 'references', 'post', 'poems', 'passed', 'once', 'newspapers', 'mir', 'memorial', 'living', 'legislative', 'leading', 'july', 'indigenous', 'independence', 'increase', 'income', 'growth', 'formation', 'finance', 'film', 'election', 'date', 'comilla', 'coins', 'chairman', 'branches', 'administrative', '60', '28', '27', '1983', '19', '17', 'working', 'word', 'western', 'way', 'upazilas', 'therefore', 'teachers', 'tagore', 'staff', 'sirajul', 'settlements', 'scholars', 'sadar', 'rise', 'remained', 'religion', 'relics', 'reached', 'products', 'portuguese', 'poor', 'plant', 'operationally', 'officer', 'met', 'medium', 'man', 'largest', 'jackfruit', 'if', 'heritage', 'girls', 'fort', 'financial', 'exchange', 'either', 'delhi', 'companies', 'cinema', 'charge', 'certain', 'bridge', 'body', 'bihar', 'become', 'bangali', 'authority', 'adopted', 'active', 'account', 'above', '50', '31', '19th', '1969', '1962', 'writing', 'whole', 'walls', 'tradition', 'season', 'rich', 'result', 'records', 'process', 'press', 'presence', 'poultry', 'potato', 'position', 'play', 'plants', 'peasants', 'parishad', 'original', 'opened', 'oil', 'official', 'obtained', 'nautical', 'nationalist', 'mustard', 'medicine', 'making', 'learning', 'kingdom', 'joint', 'issue', 'inspired', 'importance', 'idea', 'hughli', 'huge', 'how', 'having', 'front', 'export', 'events', 'establishment', 'especially', 'conducted', 'conditions', 'common', 'commerce', 'change', 'career', 'beginning', 'barisal', 'award', 'architecture', 'alam', 'addition', 'abul', 'words', 'varieties', 'unions', 'tree', 'till', 'thousand', 'thought', 'supply', 'sonargaon', 'shallow', 'scheme', 'saw', 'roads', 'right', 'quite', 'proper', 'poetry', 'placed', 'peace', 'past', 'outside', 'operations', 'officials', 'office', 'northern', 'night', 'need', 'nature', 'murshidabad', 'meghna', 'means', 'materials', 'manufactories', 'managed', 'lower', 'lost', 'lord', 'literary', 'legal', 'leader', 'late', 'jessore', 'issues', 'influence', 'independent', 'huq', 'hundred', 'funds', 'faridpur', 'far', 'empire', 'elections', 'editor', 'earlier', 'contemporary', 'come', 'china', 'child', 'char', 'caused', 'cause', 'care', 'billion', 'bay', 'banking', 'banana', 'azam', 'away', 'awami', 'asa', 'air', 'added', 'academic', '40', '29', '1954', 'yet', 'wood', 'went', 'we', 'upon', 'traders', 'too', 'term', 'ten', 'subsequently', 'subject', 'strong', 'status', 'states', 'situation', 'situated', 'silver', 'seven', 'session', 'september', 'samaj', 'rest', 'required', 'renamed', 'related', 'publication', 'provincial', 'provide', 'programmes', 'produce', 'prime', 'practice', 'powers', 'possible', 'poets', 'physical', 'palace', 'nineteenth', 'news', 'nazrul', 'month', 'monsoon', 'mills', 'metropolitan', 'material', 'marks', 'mango', 'little', 'limited', 'labour', 'kinds', 'justice', 'jatiya', 'jami', 'historical', 'half', 'gradually', 'gas', 'former', 'forest', 'floodplain', 'feature', 'existence', 'eventually', 'earned', 'earliest', 'disease', 'credit', 'cost', 'considered', 'communities', 'communal', 'cm', 'church', 'caste', 'cannot', 'below', 'bari', 'awarded', 'arts', 'articles', 'abu', '38', '35', '1975', 'zila', 'worship', 'workers', 'womens', 'waterway', 'value', 'top', 'terracotta', 'sundarbans', 'six', 'similar', 'significant', 'separate', 'sen', 'seems', 'seeds', 'sea', 'satellite', 'run', 'rather', 'raja', 'probably', 'prepared', 'potteries', 'person', 'participated', 'paper', 'orissa', 'occurs', 'never', 'mouza', 'moreover', 'milk', 'method', 'merchants', 'measures', 'matter', 'magazine', 'love', 'london', 'live', 'light', 'levels', 'largely', 'lands', 'just', 'journals', 'job', 'involved', 'insects', 'initial', 'image', 'ie', 'highly', 'hence', 'helped', 'haq', 'hand', 'grey', 'god', 'give', 'foundation', 'fishery', 'examination', 'europe', 'establish', 'encounter', 'emperor', 'electrification', 'edited', 'dynasty', 'done', 'distribution', 'diseases', 'directly', 'direct', 'declared', 'daily', 'cut', 'constituted', 'considerable', 'conference', 'brahmaputra', 'brahma', 'blacksmith', 'big', 'beyond', 'betel', 'believed', 'bangabandhu', 'ba', 'b', 'annual', 'always', 'aid', '2009', '200', '1988', '1980', '1973', '1964', '1960', '1946', '1944', '0', 'zone', 'writings', 'wild', 'what', 'weekly', 'weaving', 'visit', 'villages', 'vast', 'using', 'upper', 'units', 'unique', 'tripura', 'transferred', 'tracts', 'today', 'temples', 'subjects', 'subcontinent', 'station', 'sports', 'spiritual', 'section', 'said', 'rules', 'respectively', 'reserve', 'rectangular', 'range', 'rabindranath', 'properties', 'prominent', 'presidency', 'poverty', 'point', 'permanent', 'paid', 'opposition', 'observed', 'objects', 'necessary', 'mujibur', 'movements', 'monument', 'mission', 'minor', 'mind', 'might', 'men', 'mandir', 'locally', 'livestock', 'least', 'latter', 'kumar', 'killing', 'khwaja', 'khans', 'kazi', 'judge', 'journalist', 'jamuna', 'irrigation', 'inside', 'ideas', 'husain', 'fully', 'full', 'founder', 'forms', 'forests', 'flows', 'flow', 'final', 'features', 'extended', 'except', 'example', 'evidence', 'european', 'england', 'engaged', 'employment', 'employed', 'discovered', 'despite', 'design', 'deputy', 'deep', 'dairy', 'crop', 'courts', 'contribution', 'constructed', 'consequently', 'connected', 'conduct', 'companys', 'commonly', 'commander', 'collected', 'chemistry', 'changed', 'case', 'cane', 'cabinet', 'buildings', 'bounded', 'bose', 'bahadur', 'attached', 'associated', 'assistance', 'asia', 'appeared', 'already', 'affected', 'action', 'accounts', '63', '47', '1965', '1926', '100', 'zia', 'writers', 'william', 'wife', 'wide', 'welding', 'wealth', 'wards', 'volumes', 'volume', 'verses', 'technical', 'teaching', 'teacher', 'taking', 'sugarcane', 'success', 'structures', 'story', 'standard', 'spread', 'sense', 'sectors', 'sahitya', 'sacred', 'round', 'return', 'resources', 'reported', 'regarding', 'reform', 'reduction', 'red', 'recently', 'real', 'ray', 'r', 'put', 'purposes', 'proved', 'prose', 'prince', 'politician', 'pir', 'perhaps', 'parties', 'pabna', 'originally', 'organic', 'ordinance', 'operation', 'open', 'ones', 'nut', 'novels', 'nationalism', 'narayanganj', 'names', 'naib', 'mound', 'mixed', 'mirza', 'mihrab', 'map', 'manuscripts', 'manpower', 'loan', 'leaders', 'laws', 'krishna', 'kept', 'journal', 'imam', 'images', 'i', 'household', 'hindus', 'hilly', 'highest', 'height', 'hastings', 'grown', 'growing', 'grew', 'games', 'forces', 'force', 'fishes', 'families', 'fair', 'extent', 'expansion', 'existing', 'executive', 'establishing', 'erosion', 'equal', 'entire', 'encouraged', 'efforts', 'economics', 'dutch', 'domes', 'does', 'directors', 'departments', 'controlled', 'contributed', 'composition', 'command', 'colleges', 'coal', 'close', 'classified', 'cities', 'characteristic', 'character', 'changes', 'centuries', 'call', 'birds', 'beels', 'battle', 'basic', 'arches', 'animals', 'alivardi', 'admitted', 'adjacent', 'acting', 'abolished', '65', '1990', '1985', '1978', '1957', '1953', '1913', 'white', 'wellknown', 'wakil', 'twelve', 'trust', 'trees', 'treatment', 'travel', 'transfer', 'tract', 'tons', 'tidal', 'third', 'tea', 'tax', 'target', 'table', 'sweet', 'supreme', 'sultans', 'succeeded', 'subordinate', 'stood', 'sri', 'square', 'southwest', 'southeast', 'sometimes', 'soldiers', 'sites', 'sir', 'shrimp', 'shown', 'sent', 'seen', 'seats', 'satgaon', 'sand', 'rs', 'revolutionary', 'retirement', 'results', 'responsibility', 'residential', 'residence', 'researcher', 'rent', 'relations', 'reign', 'reforms', 'rashid', 'rangamati', 'rabindra', 'puja', 'providing', 'procedure', 'practices', 'port', 'poem', 'phase', 'payment', 'patronage', 'patna', 'particular', 'pargana', 'papaya', 'pala', 'paintings', 'owned', 'outstanding', 'oriental', 'often', 'offices', 'off', 'octagonal', 'occupation', 'occasion', 'native', 'nations', 'nath', 'must', 'munshiganj', 'mughals', 'monastery', 'model', 'meet', 'maulana', 'magistrate', 'loss', 'loans', 'lecturer', 'launched', 'lack', 'kaun', 'join', 'issued', 'investment', 'intermediate', 'interests', 'initially', 'indigo', 'indicates', 'indicate', 'includes', 'imported', 'ii', 'humayun', 'hands', 'groundwater', 'greater', 'gram', 'goldsmith', 'golam', 'gazi', 'garo', 'future', 'fund', 'flour', 'figure', 'festival', 'federation', 'extensive', 'experience', 'estate', 'essential', 'entered', 'emerged', 'earth', 'dry', 'dried', 'determined', 'depth', 'deposits', 'declined', 'decades', 'damages', 'currency', 'cultivated', 'covered', 'cover', 'councils', 'content', 'contact', 'condition', 'computer', 'complete', 'colour', 'coconut', 'choudhury', 'chaitanya', 'cattle', 'capacity', 'brother', 'bring', 'birth', 'bird', 'belonging', 'belief', 'assistant', 'artists', 'arrested', 'appeal', 'apart', 'allowed', 'agency', 'agencies', 'achieved', '80', '71', '70', '36', '34', '2008', '2000', '1991', '1976', '1935', '1921', '1911', '1900', '150', '1000', 'x', 'worth', 'winter', 'whose', 'weak', 'venture', 'tools', 'titles', 'thoughts', 'texts', 'textile', 'team', 'taka', 'streams', 'start', 'specific', 'speaker', 'sky', 'sirajuddaula', 'shows', 'shifted', 'shape', 'shall', 'settled', 'serve', 'serious', 'sediments', 'security', 'sculpture', 'scientific', 'sandstone', 'samiti', 'rulers', 'ruler', 'roof', 'rites', 'reza', 'retired', 'reputed', 'remarkable', 'remain', 'relief', 'released', 'regional', 'reduced', 'recent', 'reason', 'read', 'raw', 'quran', 'quli', 'pulse', 'provision', 'proshika', 'projects', 'profession', 'processing', 'prices', 'price', 'pressure', 'presented', 'portion', 'playground', 'overall', 'orders', 'opportunities', 'oldest', 'offering', 'offer', 'occurred', 'occur', 'novel', 'next', 'needs', 'needed', 'narrow', 'moved', 'mosques', 'monthly', 'ministers', 'memory', 'meetings', 'maternal', 'married', 'marketing', 'manner', 'mahmud', 'madras', 'lived', 'litchi', 'letters', 'length', 'lead', 'laid', 'kishoreganj', 'kindergarten', 'kind', 'kali', 'jatra', 'jagannath', 'items', 'island', 'introduction', 'inspector', 'initiated', 'improvement', 'imprisonment', 'imposed', 'implementation', 'imperial', 'imparted', 'identity', 'honours', 'honey', 'headed', 'hazrat', 'hasan', 'hamid', 'guru', 'gupta', 'guava', 'grave', 'grants', 'gold', 'goddess', 'ghosh', 'ghiyasuddin', 'ghat', 'get', 'gazipur', 'garden', 'function', 'french', 'france', 'formal', 'followers', 'flowers', 'flooded', 'fishing', 'fine', 'festivals', 'favour', 'faculty', 'factors', 'face', 'extensively', 'exposed', 'experienced', 'excise', 'excavation', 'examples', 'examinations', 'ever', 'essays', 'epigraphic', 'entry', 'enhanced', 'eleven', 'eggs', 'divisions', 'divisional', 'develop', 'destroyed', 'designs', 'described', 'derived', 'demands', 'deities', 'defined', 'dated', 'das', 'cyclone', 'currently', 'create', 'contains', 'compiled', 'committees', 'coastal', 'climate', 'chinese', 'channel', 'causes', 'caritas', 'camp', 'buried', 'buddhism', 'buddha', 'branch', 'brahmin', 'bombay', 'boats', 'better', 'belong', 'beings', 'bazars', 'bays', 'baul', 'avenue', 'aspects', 'arsenic', 'allow', 'ago', 'affairs', 'adult', 'activity', 'accepted', 'absence', 'abdur', '76', '69', '2010', '1993', '1989', '1979', '1974', '1966', '1961', '1958', '1956', '1951', '1943', '1937', '1927', '1912', '1906', '18th', '1885', '1876', 'zones', 'yusuf', 'widely', 'wells', 'wear', 'vanga', 'vaisnava', 'ustad', 'usa', 'unlike', 'ultimately', 'twenty', 'tribunals', 'translation', 'traditionally', 'traced', 'towers', 'titled', 'thickness', 'themes', 'tenure', 'takes', 'surma', 'sulaiman', 'suitable', 'suggested', 'sugar', 'studied', 'stock', 'stands', 'staged', 'stadium', 'st', 'soul', 'sm', 'sister', 'simple', 'sides', 'shuja', 'shelter', 'shamsul', 'shaheed', 'sesame', 'servants', 'sena', 'sections', 'seasonal', 'sciences', 'scale', 'satkhira', 'sarkar', 'sandy', 'salt', 'sale', 'saint', 'rose', 'rocks', 'resistance', 'repression', 'represented', 'remittance', 'remaining', 'regular', 'refers', 'refer', 'recognition', 'raised', 'property', 'promotion', 'progressive', 'producing', 'problems', 'printing', 'principle', 'prescribed', 'practiced', 'popularity', 'politically', 'poetic', 'playing', 'platform', 'planned', 'phenomenon', 'phd', 'phases', 'performed', 'patuakhali', 'palm', 'overseas', 'origin', 'oppressed', 'opinion', 'offers', 'occasions', 'observance', 'o', 'numerous', 'northeast', 'normal', 'nominated', 'noakhali', 'newly', 'nevertheless', 'narrative', 'murshid', 'mujibnagar', 'months', 'mixture', 'mirpur', 'mint', 'minar', 'merchant', 'mention', 'mela', 'meat', 'meant', 'matters', 'master', 'masses', 'martyr', 'marked', 'marine', 'makhdum', 'majumdar', 'majority', 'maintain', 'lives', 'linseed', 'limestone', 'lime', 'lies', 'legends', 'legend', 'leaves', 'leaf', 'latrines', 'lake', 'kings', 'karnafuli', 'karim', 'kantha', 'kamarupa', 'jamalpur', 'jail', 'inscriptions', 'inscription', 'influenced', 'impact', 'ice', 'ibrahim', 'hussain', 'housing', 'hours', 'host', 'horizons', 'hons', 'hills', 'headquarters', 'hats', 'hard', 'haor', 'grant', 'grammar', 'global', 'genre', 'gaur', 'fruit', 'framework', 'fourth', 'follow', 'flood', 'fixed', 'fishermen', 'films', 'figures', 'feni', 'felt', 'fellow', 'fell', 'feet', 'fakir', 'fairs', 'extremely', 'expressed', 'expenditure', 'exist', 'ethnic', 'estates', 'environmental', 'enterprises', 'emergence', 'embroidery', 'educated', 'economy', 'durga', 'drama', 'distributed', 'distinguished', 'diplomatic', 'differences', 'devotional', 'deposited', 'democratic', 'defeated', 'decorated', 'decline', 'decade', 'deal', 'dark', 'custom', 'cropping', 'creation', 'couple', 'countrys', 'convention', 'consumers', 'conquest', 'concerned', 'concept', 'concentrated', 'commissioned', 'coming', 'collecting', 'clay', 'circumstances', 'categories', 'carrying', 'captured', 'canal', 'brick', 'border', 'biological', 'bhakti', 'best', 'begum', 'basin', 'bar', 'bahini', 'bacteria', 'australia', 'attracted', 'arrival', 'arms', 'armed', 'architectural', 'approved', 'approval', 'approach', 'appreciation', 'appears', 'animal', 'america', 'alternative', 'alluvial', 'alauddin', 'akm', 'akbar', 'agreement', 'advanced', 'adjoining', 'acted', '94', '90', '67', '66', '5000', '44', '37', '2005', '2004', '2001bangladesh', '1999', '1996', '1994', '1992', '1984', '1982', '1981', '1977', '1967', '1963', '1942', '1940', '1936', '1932', '1930', '1928', '1923', '1904', '1894', '1874', 'worker', 'widespread', 'wetlands', 'wet', 'voice', 'vital', 'visnu', 'visited', 'virtually', 'vihara', 'vice', 'vedic', 'variety', 'varies', 'valley', 'vaishnava', 'us', 'universities', 'turn', 'tughlaq', 'tribal', 'trend', 'traditions', 'towns', 'tourist', 'thereby', 'text', 'technique', 'task', 'tangail', 'taher', 'sultanate', 'suggests', 'suggest', 'suffered', 'successful', 'subah', 'stream', 'stations', 'star', 'stand', 'spots', 'space', 'sold', 'singing', 'silk', 'showing', 'show', 'shipbuilding', 'ship', 'shibpur', 'shawkat', 'shanti', 'shamsuddin', 'shaista', 'shahidullah', 'severe', 'seventh', 'seeking', 'seed', 'secretariat', 'scholar', 'sarail', 'santal', 'sankar', 'sanitation', 'sanitary', 'saints', 'saddle', 'sacrificed', 'rupees', 'runs', 'royal', 'room', 'rock', 'revealed', 'returned', 'resigned', 'renowned', 'relating', 'rejected', 'reject', 'regularly', 'referred', 'receive', 'rebel', 'reader', 'reach', 'razakars', 'ratio', 'raiyats', 'rain', 'ragas', 'race', 'quarters', 'qazi', 'purpose', 'punishment', 'publications', 'provisions', 'provinces', 'provides', 'protection', 'promoted', 'proclamation', 'proceeded', 'problem', 'posts', 'performances', 'performance', 'percent', 'peasant', 'pay', 'pattern', 'partly', 'park', 'painting', 'opposed', 'operating', 'operate', 'occupy', 'occupied', 'occasionally', 'object', 'northsouth', 'nor', 'newspaper', 'nepal', 'nearby', 'nazim', 'nawabs', 'nation', 'nasiruddin', 'nagar', 'munshi', 'motifs', 'mosharraf', 'mortality', 'morning', 'monuments', 'mohan', 'modelled', 'mitra', 'migrated', 'measuring', 'manufacture', 'malik', 'makes', 'mahbub', 'madrasah', 'madhupur', 'logic', 'location', 'liver', 'listed', 'list', 'line', 'lessons', 'leadership', 'lawyer', 'lanka', 'languages', 'lac', 'karrani', 'kamal', 'kalasa', 'jurisdiction', 'juice', 'judicial', 'jalaluddin', 'itself', 'iron', 'invited', 'interested', 'intelligentsia', 'intellectual', 'instruction', 'inscribed', 'innocent', 'initiative', 'inhabitants', 'individual', 'indians', 'incorporated', 'incidence', 'iii', 'hostility', 'hostel', 'hoque', 'hold', 'hinduism', 'hatchery', 'hakim', 'ha', 'grow', 'graveyard', 'grandson', 'grandfather', 'going', 'gives', 'ghazi', 'geometric', 'gazette', 'gardens', 'gandhi', 'gan', 'game', 'forty', 'forts', 'forestry', 'foods', 'follows', 'flying', 'flourished', 'floods', 'find', 'financing', 'finally', 'fifty', 'fazlul', 'fathers', 'fast', 'farman', 'famine', 'falls', 'fall', 'fairly', 'failure', 'factories', 'expertise', 'exhibition', 'exercise', 'europeans', 'estimated', 'ershad', 'entrance', 'entirely', 'enters', 'ends', 'employees', 'else', 'elite', 'elements', 'eighteenth', 'efficiency', 'effect', 'educationist', 'earthquake', 'duty', 'drawing', 'dominant', 'domestic', 'disputes', 'discipline', 'disciple', 'disasters', 'disaster', 'devi', 'developing', 'detected', 'designed', 'deity', 'defunct', 'definite', 'defence', 'debendranath', 'dead', 'de', 'daughters', 'data', 'cyclones', 'cutting', 'customs', 'current', 'crowned', 'critical', 'criminal', 'creating', 'crafts', 'coxs', 'corner', 'converted', 'constitutional', 'consisting', 'consisted', 'completed', 'commissioner', 'combined', 'colours', 'clearly', 'claim', 'christianity', 'chemical', 'characters', 'characteristics', 'channels', 'chandpur', 'cement', 'castes', 'cancer', 'campaign', 'bus', 'bureaucracy', 'burdwan', 'budget', 'bsc', 'bride', 'breeding', 'boys', 'boat', 'block', 'bengalis', 'beauty', 'beautiful', 'bear', 'bc', 'barta', 'barley', 'bara', 'banerjee', 'balance', 'background', 'aziz', 'azad', 'ayub', 'axes', 'attention', 'attained', 'attacks', 'attack', 'assumed', 'assisted', 'asiatic', 'asian', 'artistic', 'artist', 'article', 'arranged', 'archaeology', 'arab', 'appropriate', 'applied', 'application', 'apple', 'antiquities', 'annually', 'amir', 'amin', 'allocation', 'agents', 'affiliation', 'advance', 'acts', 'actively', 'across', 'acquired', 'accounted', 'accompanied', 'abroad', 'abm', 'abdus', '98', '97', '95', '84', '73', '72', '61', '58', '57', '45', '43', '41', '32', '300', '211', '20th', '1980s', '1970s', '1970', '1960s', '1948', '1931', '1919', '1918', '1914', '1910', '1909', '1905', '1890', '1801', '1793', '16th', '151', '108', '104', 'yield', 'yellow', 'write', 'witnessed', 'winds', 'width', 'whom', 'wholesale', 'whereas', 'weakness', 'waterways', 'walk', 'viz', 'vision', 'view', 'vidyasagar', 'via', 'vernacular', 'varied', 'values', 'usual', 'undertook', 'undertaken', 'underground', 'uncles', 'uncle', 'un', 'typical', 'turkish', 'tuberculosis', 'try', 'tropical', 'tribes', 'trial', 'treasures', 'translated', 'transactions', 'traffic', 'traces', 'tides', 'tide', 'throne', 'threatened', 'thousands', 'things', 'thick', 'thereafter', 'theme', 'thakur', 'test', 'territory', 'terrace', 'termed', 'temporary', 'television', 'taught', 'tank', 'tales', 't', 'survived', 'surveys', 'supporting', 'supplies', 'supervision', 'superior', 'sundari', 'summer', 'successor', 'subsurface', 'subhas', 'subdivision', 'striking', 'strength', 'storage', 'stem', 'starts', 'spot', 'specified', 'specialised', 'speak', 'soviet', 'sound', 'sons', 'soft', 'sociology', 'societies', 'socalled', 'slope', 'slightly', 'skin', 'skilled', 'skill', 'sitar', 'similarly', 'silt', 'silent', 'signed', 'shree', 'shops', 'shiva', 'shipping', 'shikha', 'sherpur', 'share', 'shale', 'shahjahan', 'sessions', 'series', 'separated', 'selling', 'securities', 'script', 'scientists', 'scholarship', 'sayyid', 'saved', 'sangha', 'sangeet', 'samatata', 'salimullah', 'sales', 'salam', 'sahajiya', 'sacrifice', 'running', 'ruled', 'rooms', 'robert', 'risk', 'ring', 'revival', 'reveals', 'resumed', 'resulted', 'restore', 'restoration', 'respect', 'resource', 'resolution', 'requirements', 'republic', 'represents', 'representing', 'relevant', 'relatives', 'relationship', 'regulations', 'regiment', 'regarded', 'recorded', 'record', 'recognized', 'reasons', 'rear', 'readily', 'rdrs', 'rare', 'rapidly', 'rapid', 'rank', 'rani', 'rammohun', 'raj', 'rainfall', 'raided', 'radio', 'radical', 'radha', 'question', 'quarter', 'qualities', 'qualified', 'purchased', 'purana', 'punjab', 'pundit', 'prove', 'protest', 'protected', 'prophet', 'projecting', 'progress', 'profile', 'product', 'priority', 'principles', 'previous', 'preventive', 'presided', 'prayers', 'prayer', 'prasad', 'praja', 'practical', 'powerful', 'possibly', 'polished', 'points', 'pleasure', 'player', 'plastered', 'plains', 'pioneer', 'pieces', 'physics', 'philosophical', 'pharmacy', 'perform', 'peoples', 'patron', 'patients', 'parliamentary', 'parliament', 'parganas', 'parallel', 'para', 'pandua', 'pali', 'palas', 'pakistani', 'painted', 'paharpur', 'owners', 'outlook', 'orthodox', 'organisers', 'offered', 'observe', 'northwest', 'normally', 'nonagricultural', 'nocturnal', 'nizam', 'nine', 'neolithic', 'naturally', 'naogaon', 'namely', 'myths', 'mystic', 'myanmar', 'mutual', 'musical', 'musa', 'municipal', 'muazzam', 'msc', 'ms', 'mouthpiece', 'mottled', 'mortar', 'molasses', 'missionary', 'minerals', 'merged', 'membership', 'meeting', 'meditation', 'media', 'meaning', 'mean', 'mazid', 'mazar', 'maximum', 'maulvi', 'mathematics', 'masters', 'manufacturing', 'manifesto', 'maintenance', 'maintained', 'mahila', 'mahajans', 'magistrates', 'lyrics', 'lying', 'lowlying', 'lotus', 'lot', 'losses', 'looks', 'look', 'lizards', 'litterateur', 'linked', 'link', 'lines', 'limit', 'lieutenant', 'libraries', 'liberal', 'lemon', 'legislature', 'lectures', 'leaving', 'lease', 'learnt', 'larger', 'landed', 'lalbagh', 'laksmi', 'lakhnauti', 'lahore', 'laboratory', 'kirtan', 'keep', 'kedarnath', 'kashem', 'kartik', 'karatoya', 'karachi', 'kanailal', 'kabir', 'juvenile', 'judges', 'jp', 'joy', 'john', 'jobs', 'jahangir', 'jafar', 'islami', 'iran', 'involve', 'introduce', 'interpretation', 'interesting', 'integrated', 'integral', 'instruments', 'instrument', 'institutes', 'instead', 'insect', 'inland', 'indoaryan', 'individuals', 'indeed', 'incident', 'imprisoned', 'import', 'imagination', 'identified', 'humanities', 'hot', 'honoured', 'honour', 'homestead', 'holy', 'holding', 'historically', 'historians', 'hindumuslim', 'hillocks', 'helal', 'heart', 'harinath', 'harikela', 'haque', 'hamza', 'habitats', 'habiganj', 'habibullah', 'guerrilla', 'greatest', 'gravity', 'granted', 'grams', 'grain', 'governments', 'gopalganj', 'goal', 'geological', 'generation', 'generals', 'gained', 'freshwater', 'fresh', 'founding', 'forum', 'fortnightly', 'formally', 'forcibly', 'foodgrain', 'floodplains', 'floating', 'fleet', 'firuz', 'firm', 'fire', 'finials', 'fight', 'fifteen', 'fields', 'fiction', 'feeling', 'feed', 'federal', 'feathers', 'fault', 'faujdar', 'fate', 'farm', 'fan', 'fame', 'facts', 'external', 'extant', 'exploration', 'exploitation', 'expenses', 'expedition', 'estuary', 'estuarine', 'establishments', 'erected', 'era', 'epz', 'epic', 'entrances', 'enterprise', 'engineer', 'energy', 'enemy', 'endowed', 'encounters', 'enamul', 'employee', 'emergency', 'electoral', 'elaborate', 'eighteen', 'eight', 'eid', 'economically', 'eat', 'easy', 'earthquakes', 'dutta', 'duties', 'drug', 'drought', 'drilling', 'drew', 'dress', 'drawings', 'doorways', 'dominated', 'dome', 'documents', 'doctrines', 'diwan', 'distinction', 'distinct', 'dissolved', 'discontinued', 'disbursed', 'directed', 'dighi', 'digging', 'difficult', 'difference', 'dictionary', 'devotion', 'devotees', 'devoted', 'dev', 'details', 'description', 'descendants', 'deprived', 'depressions', 'deposit', 'depicted', 'depict', 'departure', 'democracy', 'degrees', 'deficit', 'defeat', 'decoration', 'decimal', 'decided', 'debate', 'daughter', 'damage', 'dainik', 'cricket', 'creed', 'cows', 'courtyard', 'cornwallis', 'copperplate', 'cooperatives', 'context', 'contaminated', 'contained', 'contain', 'constituent', 'constituency', 'consist', 'considerably', 'consequent', 'conquered', 'confirmed', 'confined', 'conferred', 'conducting', 'concerns', 'concepts', 'comprising', 'components', 'compelled', 'compared', 'commissions', 'commanded', 'collections', 'collect', 'collaboration', 'classical', 'civilisation', 'chest', 'chattopadhyay', 'charles', 'charity', 'chapter', 'chambers', 'chamber', 'chakmas', 'ceremony', 'cash', 'captain', 'candidates', 'canals', 'campus', 'calcareous', 'burning', 'buriganga', 'build', 'brothers', 'bronze', 'britain', 'brilliant', 'brahmins', 'brahmans', 'boy', 'bought', 'botanical', 'bnp', 'blocks', 'birbhum', 'bills', 'bill', 'bhuiyans', 'bhuiyan', 'bhadralok', 'bent', 'bengals', 'belongs', 'beliefs', 'behind', 'behar', 'behalf', 'beach', 'basu', 'basically', 'barua', 'barguna', 'baptist', 'banu', 'bangladeshi', 'bandarban', 'bahar', 'bagerhat', 'bachelor', 'baby', 'axis', 'awareness', 'autorickshaws', 'autonomy', 'audit', 'attempts', 'attempt', 'assist', 'asked', 'ashram', 'arrest', 'arched', 'approximately', 'appearance', 'appear', 'anushilan', 'announced', 'amm', 'american', 'amendment', 'aman', 'algae', 'akhter', 'airport', 'ahsanullah', 'ah', 'affiliated', 'additional', 'actual', 'actions', 'acres', 'acquisition', 'achievements', 'achieve', 'accompany', 'accommodation', 'abundant', 'abstract', 'able', 'abdool', '83', '64', '59', '55', '54', '53', '52', '423', '42', '400', '39', '250', '233', '2006', '1997', '1990s', '1955', '1950', '1941', '1940s', '1939', '1938', '1934', '1916', '1915', '1907', '1901', '1891', '1883', '1862', '1856', '1842', '1822', '1821', '1820', '17th', '159', '155', '144', '13th', '110', '107', '102', '10000', '052', '029', 'ziaur', 'zainul', 'yusufzulekha', 'youths', 'younger', 'wounded', 'worldwide', 'worlds', 'won', 'woman', 'withdrawal', 'withdraw', 'wind', 'why', 'whether', 'whatever', 'weight', 'weather', 'ways', 'wave', 'waters', 'waterfall', 'waste', 'washed', 'wars', 'warm', 'waribateshwar', 'want', 'votes', 'void', 'vitamin', 'vikramapura', 'vigorous', 'views', 'victoria', 'victims', 'viceroy', 'vicechancellor', 'veterinary', 'vegetative', 'vedas', 'vat', 'varendra', 'valuable', 'vaisnavism', 'upto', 'upland', 'updated', 'unrest', 'unemployed', 'undergraduate', 'tutor', 'turrets', 'turban', 'tunes', 'truth', 'trustee', 'troops', 'tributaries', 'triangular', 'treasury', 'treasurer', 'transmission', 'transformation', 'trading', 'trace', 'tourism', 'totally', 'ton', 'tobacco', 'tin', 'tiers', 'throwing', 'threedomed', 'thirty', 'thesis', 'theory', 'terrorism', 'territorial', 'terrain', 'tennis', 'tender', 'tenancy', 'temperature', 'tejgaon', 'techniques', 'taxes', 'taste', 'talents', 'taj', 'tail', 'tabligh', 'tabla', 'symbol', 'sustained', 'suspended', 'survive', 'surrounding', 'surrounded', 'surrender', 'surgery', 'surge', 'suppressed', 'supported', 'sung', 'sunamganj', 'sun', 'summit', 'suit', 'sufis', 'sufi', 'suffer', 'substantial', 'substances', 'substance', 'subsidiary', 'subsidence', 'subsequent', 'submitted', 'submit', 'submerged', 'subahdars', 'subahdar', 'stupa', 'struggle', 'strings', 'strike', 'straw', 'stopped', 'stipend', 'sticks', 'statue', 'statement', 'stated', 'standing', 'srikrishnakirtan', 'squinches', 'spices', 'spend', 'specimens', 'spatial', 'spaces', 'southeastern', 'sort', 'somewhat', 'solidarity', 'solar', 'socioeconomic', 'socially', 'snakes', 'snake', 'sme', 'smaller', 'slow', 'slaves', 'siyar', 'sixty', 'sita', 'singer', 'simla', 'significance', 'sifatul', 'shyama', 'ships', 'shifting', 'shiah', 'shashanka', 'sharif', 'shaikh', 'shahid', 'shahi', 'sex', 'setting', 'sets', 'serving', 'serves', 'serampore', 'separately', 'senior', 'sending', 'self', 'seizure', 'segment', 'secure', 'secular', 'seated', 'search', 'sculptures', 'scientist', 'scattered', 'says', 'save', 'savar', 'sattar', 'sardar', 'sangbad', 'sands', 'saline', 'saha', 'safety', 'safeguard', 'sadr', 'sadharan', 'sabha', 'ruthless', 'ruins', 'rubber', 'roxburgh', 'rows', 'route', 'roughly', 'root', 'romantic', 'rodents', 'rituals', 'riot', 'revolutionaries', 'review', 'retained', 'resulting', 'restrictions', 'resort', 'resisted', 'request', 'reputation', 'reptiles', 'repository', 'reports', 'repealed', 'reorganisation', 'religions', 'reinsurance', 'regulation', 'registrar', 'registered', 'regime', 'regard', 'refused', 'refugees', 'refuge', 'reflect', 'refined', 'reducing', 'recruited', 'reconstruction', 'recommendations', 'recognised', 'reclamation', 'recited', 'receives', 'rebels', 'ranks', 'ramram', 'ramapala', 'rajmahal', 'raising', 'raise', 'rains', 'railways', 'rail', 'rai', 'rafiqul', 'races', 'rabindranaths', 'rabi', 'quickly', 'quarterly', 'quantity', 'quader', 'puthi', 'puri', 'pure', 'purchase', 'puranas', 'pundravardhana', 'protect', 'prosperity', 'prosecutor', 'proprietors', 'properly', 'propaganda', 'pronounced', 'promulgation', 'promise', 'profusely', 'profound', 'profitable', 'professional', 'producers', 'processes', 'processed', 'proceedings', 'proceed', 'privilege', 'prisoners', 'priorities', 'printed', 'prinsep', 'priests', 'previously', 'prevention', 'prevented', 'prevent', 'premises', 'preliminary', 'predominantly', 'practitioner', 'postal', 'possessed', 'ports', 'pointed', 'poetics', 'plenty', 'pleistocene', 'players', 'plate', 'plastic', 'plaques', 'planters', 'plain', 'pirs', 'pioneering', 'pillars', 'pigeon', 'physicians', 'photographer', 'photo', 'pests', 'perspective', 'personally', 'personal', 'permission', 'periodical', 'perceived', 'pepper', 'pedestal', 'peacekeepers', 'peaceful', 'patriotic', 'patharghata', 'partners', 'particles', 'parapet', 'panelled', 'panchali', 'pagoda', 'pagla', 'pages', 'padma', 'oxford', 'overcome', 'outer', 'outdoor', 'outcome', 'oust', 'our', 'orphanage', 'ornaments', 'ornamental', 'origins', 'originated', 'organising', 'organiser', 'organise', 'orator', 'optional', 'oppression', 'opposite', 'opportunity', 'online', 'offences', 'ocean', 'objective', 'nutrients', 'nucleus', 'notice', 'nothing', 'northeastern', 'nongovernment', 'nonformal', 'noncooperation', 'nizami', 'nikhil', 'nfe', 'netrokona', 'neither', 'neighbouring', 'nectar', 'necessity', 'ncbs', 'nazimuddin', 'nawazish', 'nawaz', 'nawabi', 'naval', 'natya', 'narrates', 'narrated', 'narayan', 'nalanda', 'nakshi', 'nag', 'nabaganga', 'musician', 'munier', 'mukhopadhyay', 'muharram', 'mr', 'move', 'mothers', 'mosquitoes', 'monastic', 'monasteries', 'momtaz', 'moist', 'mohsin', 'mohanganj', 'mobility', 'mithila', 'missionaries', 'minimum', 'mineral', 'mile', 'migration', 'michael', 'miah', 'metcalfe', 'metal', 'message', 'meritorious', 'merit', 'meherpur', 'mediumsized', 'medicines', 'measure', 'maturity', 'matriculation', 'matiur', 'maternity', 'mary', 'martins', 'martial', 'marma', 'mark', 'maratha', 'manure', 'manipuri', 'manik', 'manifested', 'mangalkavya', 'managing', 'manage', 'mainamati', 'madhusudan', 'luteef', 'lucknow', 'ltd', 'lt', 'loyalty', 'lowest', 'longer', 'loam', 'llb', 'literate', 'lists', 'licensed', 'legs', 'legislation', 'leave', 'learned', 'learn', 'launching', 'largescale', 'labourer', 'laboratories', 'kulinism', 'kuliarchar', 'krishak', 'kotwali', 'kopili', 'know', 'kite', 'kishore', 'kin', 'kill', 'khondakar', 'khatun', 'keora', 'kavigan', 'kasimbazar', 'kaptai', 'kamalapur', 'kalai', 'kabi', 'k', 'junior', 'jumla', 'jugantar', 'journey', 'journalism', 'jointly', 'jinnah', 'jimutavahana', 'jhum', 'jc', 'japanese', 'jang', 'james', 'jamaateislami', 'jahangirnagar', 'jagadish', 'jadughar', 'jabbar', 'ix', 'itsing', 'itna', 'islands', 'islampur', 'islamia', 'isa', 'irrigated', 'iqta', 'ions', 'invested', 'invasions', 'intestine', 'interpret', 'internally', 'interior', 'intense', 'insurance', 'instrumental', 'instructions', 'inner', 'injured', 'inherited', 'influential', 'infected', 'indoor', 'indirectly', 'indifferent', 'indias', 'incumbent', 'increasing', 'inception', 'inaugurated', 'improving', 'impressed', 'importantly', 'implement', 'immediately', 'imambara', 'iliyas', 'ikhtiyaruddin', 'icb', 'husband', 'hunting', 'humanity', 'hostels', 'hospitals', 'horizon', 'honorary', 'hollow', 'holes', 'holds', 'histories', 'historian', 'hindi', 'highland', 'hereditary', 'henceforth', 'helping', 'heads', 'harmony', 'hardly', 'handed', 'hammam', 'hamidur', 'haji', 'hair', 'haider', 'hai', 'habibur', 'gumti', 'guest', 'grounds', 'groom', 'grid', 'green', 'greatly', 'gravel', 'grains', 'graduated', 'gradual', 'grades', 'governors', 'governance', 'gorai', 'glorious', 'globe', 'glimpses', 'girl', 'gift', 'ghazals', 'geology', 'geography', 'geographical', 'genocide', 'genius', 'generations', 'generated', 'gdp', 'gazir', 'gaya', 'gauripur', 'gauda', 'gathered', 'garlic', 'gap', 'gandhis', 'fundamental', 'functioning', 'fullfledged', 'frontier', 'friend', 'founders', 'forming', 'formerly', 'forever', 'forefront', 'foredeep', 'forbidden', 'football', 'follower', 'fold', 'floral', 'flora', 'floated', 'flies', 'flat', 'flanking', 'firms', 'finest', 'fig', 'fibres', 'fibre', 'fever', 'feudal', 'fertiliser', 'females', 'fees', 'feeding', 'feeder', 'feasts', 'fear', 'fazle', 'fauna', 'faults', 'farming', 'failed', 'faculties', 'factor', 'facing', 'faces', 'facade', 'fabrics', 'eye', 'extension', 'extend', 'expression', 'explosion', 'experiences', 'expected', 'exile', 'exercises', 'executed', 'excessive', 'excess', 'excavated', 'evident', 'everybody', 'event', 'evaluation', 'eternal', 'essentially', 'erection', 'episodes', 'entrepreneurs', 'entrepreneurial', 'entomology', 'entertainment', 'enter', 'enactment', 'emphasis', 'emperors', 'emblem', 'elsewhere', 'elevation', 'elevated', 'element', 'electronics', 'electorate', 'elderly', 'eg', 'effective', 'edward', 'editing', 'eastwest', 'easily', 'earl', 'dutt', 'duration', 'dufferin', 'drilled', 'drawn', 'dramatic', 'drain', 'doorway', 'donor', 'donated', 'domed', 'doing', 'diversions', 'distress', 'distance', 'disobedience', 'discrimination', 'disciples', 'directorate', 'diploma', 'dialogue', 'dharmapala', 'devkot', 'devastating', 'determine', 'despatch', 'designated', 'describes', 'depression', 'depends', 'depending', 'depend', 'democrats', 'demanded', 'delivery', 'delivered', 'defied', 'deeply', 'decorative', 'decision', 'datta', 'dates', 'dargah', 'dangers', 'dances', 'dal', 'dacca', 'd', 'currents', 'crude', 'crossed', 'criticism', 'crisis', 'creator', 'creations', 'crabs', 'covers', 'covering', 'coordinate', 'cooperative', 'cooperation', 'cooch', 'converts', 'contributions', 'continuing', 'continues', 'contested', 'containing', 'constraints', 'conspiracy', 'consists', 'considerations', 'consequence', 'consciousness', 'conscious', 'conferences', 'conducts', 'conceived', 'compound', 'composer', 'compose', 'competitions', 'companions', 'communist', 'communally', 'commodities', 'committed', 'commanders', 'comes', 'column', 'coloured', 'colonel', 'collector', 'coin', 'coarse', 'cloth', 'closed', 'clive', 'clays', 'civilization', 'civilian', 'citizenship', 'circus', 'circulation', 'chronicle', 'christians', 'chose', 'chittaranjan', 'chilmari', 'chilli', 'childbirth', 'chiefs', 'chiefly', 'chauddagram', 'charitable', 'charan', 'characterised', 'chanda', 'champa', 'challenge', 'chala', 'chakravarti', 'chakma', 'chaki', 'ceremonies', 'cent', 'celts', 'celebrated', 'casting', 'casey', 'carry', 'carey', 'careful', 'capture', 'capt', 'camera', 'calcium', 'burnt', 'burma', 'bulbul', 'builder', 'buffalo', 'buet', 'broad', 'bringing', 'breadth', 'brahmana', 'boycotted', 'boundaries', 'bottom', 'bordering', 'blue', 'blouse', 'biographies', 'biju', 'bigger', 'bhita', 'bhairab', 'bhagirathi', 'bethune', 'berry', 'benefits', 'belt', 'belonged', 'begun', 'begins', 'bees', 'beds', 'becomes', 'bears', 'beadon', 'base', 'barind', 'barin', 'baramasi', 'bangladeshs', 'banga', 'bandyopadhyay', 'bakla', 'bakhtiyar', 'baishakh', 'bagh', 'azadi', 'aware', 'awards', 'authoritarian', 'author', 'auspices', 'aurangzeb', 'attended', 'attendants', 'atrocities', 'atrai', 'astronomy', 'associations', 'associates', 'assigned', 'assassination', 'aspect', 'ascribed', 'arranging', 'arrangement', 'armoury', 'argued', 'arch', 'arakan', 'arahar', 'arabia', 'approached', 'appellate', 'apparently', 'anwar', 'announcement', 'ancestors', 'amtali', 'amounted', 'americans', 'ameer', 'ambassador', 'amateur', 'am', 'alone', 'alexander', 'agrarian', 'agra', 'agitation', 'aged', 'agartala', 'afterwards', 'africa', 'afghans', 'affect', 'advantage', 'advancing', 'advancement', 'adults', 'administrator', 'administered', 'adept', 'adding', 'adalat', 'activist', 'acquire', 'acquainted', 'acidic', 'achievement', 'acharya', 'accordingly', 'accomplished', 'accompanying', 'ability', 'abedin', 'abdullah', '974', '92', '8th', '89°57', '89', '88', '86', '81', '8000', '7th', '79', '75', '7459', '74', '648', '645', '624', '564', '562', '56', '500', '493', '49', '48', '46', '454', '407', '4000', '352', '315', '301', '3000', '262', '261', '24parganas', '235', '229', '217', '207', '2011', '2003', '1998', '1995', '1986', '1959', '1950s', '1949', '1945', '1933', '1930s', '1929', '1925', '1922', '1908', '1899', '1889', '1888', '1887', '1880', '1878', '187', '1860', '1840', '1834', '1830', '1812', '1786', '1785', '176', '170', '1671', '167', '127', '1227', '120', '116', '10th', '103', '100000', '09', '036', '020', 'zilla', 'zias', 'zamindaris', 'zahir', 'yuddha', 'youth', 'you', 'yahya', 'wto', 'worst', 'worshipped', 'worms', 'worldly', 'workshops', 'workable', 'woods', 'wooden', 'wonderfully', 'wings', 'wing', 'widened', 'whitish', 'whistling', 'whip', 'wherever', 'whenever', 'welcomed', 'welcome', 'weighing', 'weeks', 'week', 'wears', 'wax', 'warren', 'wari', 'wares', 'waqf', 'waqainavis', 'wanted', 'walks', 'wake', 'wahed', 'wage', 'w', 'voluntarily', 'vivekananda', 'vita', 'visvabharati', 'visits', 'visitor', 'visiting', 'vishvabharati', 'viruses', 'virtue', 'virgin', 'violin', 'violence', 'villagers', 'vigour', 'vienna', 'vidyapati', 'victory', 'vicinity', 'vested', 'vessels', 'vessel', 'versions', 'version', 'versatile', 'verification', 'venturing', 'ventures', 'vegetable', 'veda', 'vaults', 'vastly', 'varying', 'variation', 'variable', 'vardhana', 'vangiya', 'vangala', 'valour', 'vaishnavism', 'uttar', 'utilizes', 'utility', 'uses', 'useful', 'urea', 'urbanisation', 'upward', 'upstream', 'uprising', 'upgraded', 'upakul', 'unmarried', 'unlikely', 'unknown', 'universe', 'universal', 'uniform', 'unification', 'unicef', 'unesco', 'undulating', 'understood', 'understand', 'ulema', 'uk', 'uchch', 'twothirds', 'twin', 'twice', 'twentieth', 'turning', 'tulsi', 'tuition', 'tube', 'trustworthy', 'trucks', 'tributary', 'tribunal', 'treaty', 'treatise', 'travelogue', 'travellers', 'traveller', 'travelled', 'traveling', 'traps', 'transverse', 'transports', 'transportation', 'translator', 'translations', 'transforming', 'transferable', 'transaction', 'trainings', 'trained', 'train', 'trades', 'tower', 'toward', 'torture', 'topsoils', 'topographical', 'tongue', 'toll', 'toleration', 'todar', 'toaha', 'titas', 'tista', 'tissue', 'tipu', 'tipam', 'timber', 'tila', 'tigers', 'tiger', 'tick', 'tibet', 'thungri', 'thoroughly', 'thomas', 'thirties', 'thirteen', 'thengamara', 'theirs', 'theatres', 'thakbast', 'texture', 'textual', 'textbooks', 'terrestrial', 'terminal', 'tents', 'tending', 'tenants', 'telephone', 'teknaf', 'teeth', 'tectonic', 'tebhaga', 'tear', 'teal', 'teachings', 'taxation', 'tawwama', 'tatar', 'tashkent', 'tara', 'tappa', 'tantric', 'tanore', 'tanks', 'tandah', 'tanchanga', 'taluqdars', 'talukder', 'talks', 'taley', 'talented', 'tajpur', 'tajalmulk', 'systems', 'syllabus', 'sworn', 'switzerland', 'swinging', 'swimming', 'sweets', 'swatch', 'swadhin', 'swadeshi', 'suspect', 'surya', 'surviving', 'survival', 'surveying', 'surrendered', 'suri', 'surendranath', 'supplying', 'supplied', 'superstructure', 'supernatural', 'superintendent', 'super', 'sunshine', 'sunni', 'sundarban', 'summoned', 'sukomal', 'sujatpur', 'suicide', 'suhrawardy', 'suffering', 'sudras', 'suddenly', 'sudden', 'successive', 'succession', 'successfully', 'succeeding', 'suburbs', 'substantially', 'subscription', 'subregion', 'subjected', 'subdued', 'subdivided', 'subcommittees', 'subclan', 'styled', 'studio', 'studentship', 'structural', 'struck', 'strongly', 'stronger', 'strict', 'stricken', 'stretched', 'strengthening', 'strengthen', 'street', 'strategy', 'strategic', 'strands', 'straight', 'strachey', 'stout', 'storks', 'storeyed', 'storey', 'stop', 'stones', 'stipulated', 'steps', 'stems', 'steamer', 'steadily', 'stayed', 'statutory', 'statistical', 'starting', 'stars', 'stamps', 'stairs', 'stages', 'staffs', 'stability', 'sreepur', 'sreekail', 'springing', 'spring', 'spreading', 'spontaneity', 'sponsored', 'spokesman', 'spoken', 'spoke', 'split', 'spite', 'spirit', 'spiny', 'spinning', 'spines', 'spiders', 'spent', 'specifically', 'speaking', 'speakers', 'spain', 'southwestern', 'souls', 'sorrows', 'sonargoan', 'someone', 'soluble', 'solid', 'sole', 'softly', 'soari', 'smallest', 'slopes', 'slavery', 'slave', 'sizes', 'sixteenth', 'sixteen', 'sixpoint', 'sitakunda', 'sisters', 'sirajganj', 'siraj', 'singh', 'sing', 'sin', 'silty', 'signal', 'siddiqui', 'sicca', 'shrines', 'shrine', 'showed', 'shouldered', 'shot', 'shortterm', 'shooting', 'shishu', 'shilpi', 'shilpakala', 'shila', 'shift', 'sheths', 'shelf', 'sheer', 'sharsha', 'sharp', 'shariatpur', 'sharfuddin', 'sharali', 'shapes', 'shangha', 'shamsuzzoha', 'shales', 'shahs', 'shahjadpur', 'shahitya', 'shahbag', 'sexes', 'seventies', 'settlers', 'setback', 'servant', 'serajul', 'sentiment', 'sentenced', 'sensation', 'sengupta', 'sends', 'senate', 'senas', 'semp', 'semioctagonal', 'seminar', 'semiarid', 'selfreliant', 'selected', 'seldom', 'segments', 'seemed', 'sedimentation', 'sector3', 'secretaries', 'secret', 'seat', 'seasons', 'seamen', 'sealdah', 'scope', 'schoolbook', 'scholarships', 'scene', 'sayem', 'saudi', 'satyajit', 'sati', 'sat', 'sarker', 'sarinda', 'sarbahara', 'saraswati', 'sap', 'sandwip', 'sandars', 'sanction', 'sanad', 'samples', 'sample', 'sammelan', 'samajtantrik', 'samacharadeva', 'salvation', 'salinity', 'sakhawat', 'sake', 'sagir', 'safe', 'saduktikarnamrta', 'sadarghat', 'sacrificial', 'sabuj', 's', 'russia', 'rupee', 'rupban', 'rupa', 'rump', 'ruminants', 'ruling', 'rukn', 'ruin', 'roychand', 'rotary', 'rope', 'roofs', 'roofed', 'romanticism', 'roles', 'rokeya', 'rohingya', 'riverine', 'rival', 'ritual', 'rising', 'rings', 'richly', 'richard', 'rhythm', 'rhymes', 'rheumatic', 'rezaul', 'revolution', 'revivalist', 'reviews', 'revenues', 'revealing', 'reveal', 'retreated', 'retail', 'restructuring', 'restrictive', 'restaurants', 'restarted', 'responded', 'respective', 'resolve', 'resistant', 'resist', 'residues', 'reserved', 'resembling', 'researches', 'requisition', 'requiring', 'requirement', 'representatives', 'representative', 'representation', 'represent', 'repeated', 'repatriated', 'repaired', 'repair', 'rentfree', 'rennell', 'renewed', 'rendering', 'rendered', 'remittances', 'reluctance', 'reliable', 'relative', 'relation', 'rehabilitation', 'regulates', 'regnal', 'registration', 'regeneration', 'regain', 'reformer', 'reformation', 'reflected', 'refinery', 'referendum', 'reference', 'reeds', 'recovered', 'reconstruct', 'recommended', 'recommendation', 'reception', 'receiving', 'receipt', 'rebellion', 'reality', 'reading', 'readers', 'razzak', 'razakar', 'raza', 'rationalise', 'rata', 'rangmahal', 'ranges', 'ranada', 'rampart', 'ramna', 'ramizuddin', 'ramgarh', 'ramayana', 'ramas', 'ram', 'rakhain', 'rajbari', 'rajar', 'raiding', 'raid', 'rahimunnessa', 'rahim', 'raghunandan', 'radius', 'rabbi', 'quotations', 'quinquennial', 'questions', 'queens', 'qubacha', 'quaternary', 'qila', 'qasim', 'qasida', 'pursue', 'purity', 'purda', 'purchasing', 'puranic', 'puran', 'punya', 'pundits', 'pumps', 'publishing', 'publishes', 'psc', 'proverbs', 'protecting', 'prosperous', 'prorogued', 'proposed', 'proposal', 'proportion', 'prophets', 'promoting', 'promoter', 'promote', 'prominence', 'projected', 'prohibits', 'programs', 'profit', 'prof', 'productions', 'producer', 'procurement', 'procession', 'procedures', 'prizes', 'prize', 'privileges', 'privatisation', 'princess', 'primarily', 'pride', 'preventing', 'prevalent', 'prevailing', 'prevailed', 'prestige', 'presidential', 'preserving', 'preservation', 'presents', 'preparing', 'prepares', 'preparations', 'preparation', 'premchand', 'pregnancy', 'prefers', 'predominate', 'predominance', 'precolonial', 'precious', 'preceptor', 'preaching', 'preach', 'pratapaditya', 'pran', 'pramathanath', 'pramatha', 'prakrit', 'praising', 'prafulla', 'pradesh', 'practised', 'practically', 'prabhakar', 'pottery', 'potters', 'potential', 'pot', 'postindependence', 'posted', 'possession', 'possess', 'positions', 'portrayed', 'portraits', 'portrait', 'portions', 'porous', 'porcupines', 'poorly', 'ponds', 'pollution', 'pollen', 'policies', 'poisons', 'poetical', 'plundered', 'plum', 'plough', 'plot', 'playwright', 'platforms', 'planting', 'planted', 'plans', 'plankton', 'plainland', 'placing', 'pitch', 'pirojpur', 'pipes', 'pioneers', 'pineapple', 'pilgrim', 'piedmont', 'piece', 'picture', 'pictorial', 'physiography', 'photography', 'photographers', 'phosphorus', 'philosopher', 'pharmaceutical', 'pest', 'persuasive', 'personnel', 'personality', 'permeable', 'periods', 'performing', 'percentage', 'peninsula', 'penalty', 'peculiarities', 'peculiar', 'peat', 'pearl', 'payments', 'paying', 'payable', 'pavement', 'patua', 'patterns', 'patrons', 'patronised', 'patrika', 'patience', 'pathogens', 'patharia', 'pathagar', 'paternal', 'patenga', 'pasur', 'parvati', 'parttime', 'particle', 'participation', 'participating', 'participate', 'participants', 'partially', 'parrots', 'paritosh', 'parishads', 'parisad', 'parents', 'paragalpur', 'paragal', 'papers', 'panni', 'pankha', 'panic', 'pandulipi', 'palmleaf', 'palli', 'palashi', 'palaces', 'pal', 'pakha', 'paisa', 'pair', 'paint', 'paikgachha', 'pahartali', 'pact', 'package', 'oyster', 'owns', 'owner', 'overthrowing', 'oval', 'outskirts', 'outright', 'outpost', 'outbreak', 'oudh', 'ottoman', 'ornamented', 'ornamentation', 'ornament', 'originates', 'orient', 'organizing', 'organizations', 'organization', 'organises', 'organisational', 'ordinary', 'oraons', 'oraon', 'optimum', 'operated', 'openly', 'opening', 'openair', 'onwards', 'onion', 'oneyear', 'omitted', 'older', 'offshore', 'occurring', 'occupying', 'occupies', 'occupations', 'occupational', 'occasional', 'obscure', 'oblong', 'obliged', 'obligation', 'nyayasutra', 'nuruzzaman', 'nurul', 'nursing', 'nurse', 'numismatics', 'numbers', 'numbering', 'nowadays', 'notes', 'note', 'northwestern', 'norm', 'nonviolent', 'nonsanitary', 'nonrenewable', 'none', 'nominee', 'noapara', 'nizamat', 'nigeria', 'niches', 'niamatullahs', 'niamatpur', 'niabat', 'networks', 'net', 'nest', 'neogi', 'neighbours', 'negotiation', 'neglected', 'nazruls', 'nazmuddaula', 'nazims', 'nawabganj', 'navigation', 'navigable', 'natore', 'nationalists', 'nationalistic', 'nationalised', 'nathaniel', 'nasrin', 'narsingdi', 'narendranath', 'narendra', 'narayanpur', 'narasunda', 'nap', 'nanak', 'namaz', 'nabi', 'nabakumar', 'mythologies', 'mythological', 'mw', 'muzaffar', 'mustafa', 'museums', 'murshed', 'murder', 'mural', 'muradnagar', 'mura', 'muqim', 'munsif', 'mungbean', 'mundas', 'multiplied', 'multicusped', 'mulla', 'mukul', 'mukti', 'mukherji', 'mt', 'mowla', 'moving', 'moves', 'mouths', 'mouth', 'mouals', 'motto', 'motion', 'mostafa', 'moshtaq', 'mortgages', 'morally', 'moral', 'monitored', 'moniruddin', 'mongoose', 'mongla', 'monetary', 'momentum', 'mollusks', 'mollahat', 'molla', 'moisture', 'mohila', 'mohammedan', 'mofidul', 'mofazzal', 'modified', 'modes', 'moderate', 'models', 'mode', 'mobarak', 'moazzem', 'moat', 'mizanur', 'mites', 'mistress', 'missions', 'miskin', 'mirzapur', 'mirzaganj', 'minutes', 'ministrydivision', 'ministriesdivisions', 'mimamsa', 'millions', 'mild', 'mihrabs', 'migrate', 'midnapur', 'midday', 'mid', 'micropalaeontological', 'microorganisms', 'metric', 'methods', 'meter', 'metallic', 'messenger', 'merely', 'mere', 'mentions', 'mentioning', 'mental', 'menhir', 'melas', 'medinipur', 'mediaeval', 'mechanism', 'meateating', 'meantime', 'meandering', 'mayor', 'maya', 'mausoleum', 'matiar', 'mathuri', 'mathematical', 'math', 'matamuhuri', 'masum', 'masked', 'mars', 'marry', 'marital', 'marginal', 'margin', 'marching', 'marble', 'maps', 'manuscript', 'manufactures', 'manufacturers', 'manufactured', 'manucci', 'mansuruddin', 'mansur', 'mannan', 'manju', 'maniruzzaman', 'manikya', 'manifold', 'mani', 'mangrove', 'mandira', 'manchester', 'manasa', 'manager', 'manabendra', 'mamunur', 'mammals', 'malaysia', 'malarial', 'majumder', 'maize', 'mainuddin', 'maintains', 'mahipala', 'maheshkhali', 'mahbubul', 'mahatma', 'mahasthan', 'maharaja', 'magazines', 'madaripur', 'madan', 'macaulay', 'lytton', 'lucky', 'lucas', 'lpg', 'loyal', 'lowincome', 'loved', 'looking', 'lone', 'lohani', 'locations', 'lobsters', 'littoral', 'linguistic', 'lineage', 'lila', 'likely', 'lifestyle', 'lifelong', 'lie', 'liberty', 'liberated', 'levy', 'levies', 'letter', 'let', 'lentil', 'lengthy', 'lending', 'legacy', 'leaded', 'lawful', 'latrine', 'latif', 'larval', 'larvae', 'larma', 'landslide', 'landlords', 'landholders', 'lalon', 'lalmonirhat', 'lalmatia', 'lalmai', 'laksmanasenas', 'lailymajnu', 'ladies', 'labourers', 'kushtia', 'kushiyara', 'kunda', 'kumudini', 'kulaura', 'kul', 'krsna', 'krishnadasa', 'krishi', 'korea', 'knife', 'kitchen', 'kingdoms', 'khurram', 'khowai', 'khola', 'khizir', 'khilat', 'khilafat', 'khidirpur', 'khatoon', 'khasia', 'khanqah', 'khamak', 'khalji', 'khaliajuri', 'khaleda', 'khadgas', 'kha', 'key', 'kendua', 'kayasthas', 'kavita', 'kaunia', 'katrabo', 'katha', 'kasem', 'karnata', 'karl', 'karbala', 'kanka', 'kamala', 'kalyan', 'kalu', 'kalapara', 'kalachuris', 'kaivarta', 'kagmari', 'kafi', 'kafco', 'kader', 'justify', 'jury', 'juri', 'jungle', 'jung', 'junction', 'juge', 'judiciary', 'joypurhat', 'journalists', 'jones', 'joints', 'joins', 'jiva', 'jhinai', 'jaydurga', 'java', 'jasimuddin', 'japan', 'jangalbari', 'janasamhati', 'jamshedji', 'jamdani', 'jalalpur', 'jalal', 'jajmani', 'jaintia', 'jaina', 'jaikum', 'jahani', 'jahan', 'jagat', 'iv', 'ismail', 'irregular', 'iraq', 'involves', 'involvement', 'invites', 'invitation', 'investments', 'investigation', 'invest', 'invasion', 'invading', 'invaders', 'inundation', 'introducing', 'intolerable', 'intimately', 'internet', 'internationally', 'internal', 'intermediary', 'intermediaries', 'interim', 'intensive', 'instituted', 'instance', 'installed', 'installations', 'installation', 'inspiring', 'inspire', 'initiatives', 'inherit', 'inhabit', 'inflorescence', 'inflicted', 'infested', 'infection', 'inevitability', 'industrialisation', 'indonesia', 'indobrahm', 'indiscriminately', 'indications', 'indicating', 'index', 'indebted', 'increases', 'improve', 'impressive', 'imply', 'implemented', 'impetus', 'impart', 'immunity', 'immovable', 'immortalised', 'immense', 'imed', 'imdadul', 'imaginary', 'ilo', 'illness', 'illegally', 'ill', 'ikramuddaula', 'ig', 'identify', 'identifies', 'ibn', 'iajuddin', 'hyvs', 'hydrogen', 'husking', 'husk', 'husbands', 'hurasagar', 'hunt', 'hundi', 'humidity', 'humid', 'humanistic', 'humanist', 'humanism', 'howrah', 'hotels', 'hostilities', 'horizontal', 'honesty', 'homes', 'holocene', 'holders', 'hoard', 'hizla', 'hitherto', 'historic', 'hisher', 'himalayas', 'hilsa', 'herself', 'heroic', 'hepatitis', 'helps', 'helpless', 'hectares', 'heavily', 'healthcare', 'headmistress', 'headman', 'heading', 'hat', 'hassan', 'harunur', 'haripur', 'hari', 'harem', 'hardinge', 'harassment', 'happened', 'haors', 'handicrafts', 'halud', 'halls', 'halim', 'hajongs', 'hajong', 'hairs', 'haileybury', 'hafiz', 'hadith', 'habits', 'habitations', 'ha1', 'h', 'gurus', 'gule', 'guild', 'guide', 'guidance', 'grouped', 'grief', 'greetings', 'greek', 'grazing', 'gratitude', 'graphic', 'granting', 'granite', 'graduation', 'graduates', 'grace', 'govinda', 'governed', 'goswami', 'gosvami', 'gopal', 'gomosthas', 'golden', 'gods', 'gm', 'glass', 'giving', 'gis', 'girish', 'ginger', 'ghulam', 'ghazal', 'ghataks', 'ghaseti', 'gharial', 'ghani', 'ghalib', 'ghaghat', 'gewa', 'getting', 'gets', 'german', 'george', 'genres', 'generate', 'gender', 'gather', 'gate', 'gastrointestinal', 'garuda', 'garos', 'garments', 'garment', 'garibullah', 'gardenhouse', 'ganga', 'ganesh', 'gambhira', 'gallery', 'fungi', 'funeral', 'functional', 'fulfillment', 'frustrated', 'frontiers', 'frequently', 'frederick', 'framji', 'frame', 'fraction', 'fought', 'fossil', 'forward', 'fortunes', 'fortified', 'fortification', 'formalities', 'forced', 'foodgrains', 'folktales', 'folds', 'fodder', 'focus', 'flute', 'flowing', 'flowed', 'flourishing', 'floors', 'floor', 'flooding', 'flight', 'flee', 'flanks', 'flanked', 'fiscal', 'firing', 'fingers', 'finds', 'filled', 'filing', 'fighting', 'fifth', 'feudatory', 'fertility', 'fertile', 'ferruginous', 'fermentation', 'fellowship', 'feels', 'feeders', 'fc', 'fazl', 'favourite', 'faulted', 'fateh', 'fatal', 'fasting', 'fasson', 'farrukh', 'farid', 'farakka', 'faraizis', 'fancy', 'famines', 'familiar', 'fairy', 'failures', 'facilitating', 'facilitate', 'facies', 'faced', 'fabric', 'eyes', 'extreme', 'extracted', 'exterior', 'extends', 'expulsion', 'express', 'exported', 'exportable', 'explored', 'explanations', 'experts', 'expert', 'experiments', 'experimentation', 'expeditions', 'expanding', 'expanded', 'exotic', 'exhibitions', 'exercised', 'exempt', 'executes', 'exclusively', 'excluded', 'exclude', 'exceptional', 'exception', 'excavations', 'exact', 'evolved', 'evidences', 'everyday', 'evergreen', 'eve', 'estuaries', 'estd', 'escape', 'erect', 'equipped', 'epr', 'epipedon', 'epigraphy', 'epidemics', 'epidc', 'epics', 'epi', 'enzymes', 'environs', 'entrusted', 'entitled', 'enrolled', 'enriched', 'enough', 'enormous', 'enemies', 'ending', 'endemic', 'ended', 'endeavoured', 'endangered', 'encouraging', 'enclosing', 'enclosed', 'enacted', 'enable', 'empowerment', 'empowered', 'emphasised', 'eminent', 'emerald', 'embraced', 'embankments', 'embankment', 'eloquent', 'eligible', 'elephant', 'electronic', 'elder', 'ekushey', 'eighty', 'egypt', 'egg', 'egarasindhur', 'effects', 'eels', 'editorial', 'edition', 'ecnec', 'ebadul', 'earthen', 'earning', 'earn', 'e', 'dwindled', 'dwellings', 'dwarkanath', 'dust', 'durable', 'durability', 'dupi', 'duff', 'dudhkumar', 'drying', 'drums', 'drugs', 'driven', 'draws', 'drains', 'drainage', 'doubt', 'dotara', 'dorsata', 'dominions', 'domination', 'domestically', 'documented', 'document', 'doctrine', 'doctors', 'dock', 'dnc', 'diwani', 'diversified', 'disturbed', 'distribute', 'distributaries', 'distant', 'disseminate', 'disruption', 'dispute', 'displays', 'dispensary', 'discussions', 'discussion', 'discussed', 'discovery', 'discourse', 'disc', 'disappeared', 'direction', 'directing', 'dinesh', 'dimension', 'diluted', 'dilkusha', 'dilip', 'difficulty', 'dies', 'dictated', 'diabetic', 'dhupchanchia', 'dhuli', 'dhibi', 'dharma', 'dhar', 'dhanusi', 'dhaleshwari', 'dhakeshwari', 'dey', 'dewan', 'devotee', 'devices', 'devapala', 'determination', 'deterioration', 'detail', 'detached', 'destitute', 'desperate', 'desire', 'designations', 'designation', 'deserves', 'describing', 'descended', 'deputation', 'depths', 'depicts', 'departed', 'dental', 'denied', 'dengue', 'dendrocygna', 'demonstration', 'democracies', 'demanding', 'delwar', 'delta', 'delicacy', 'delegation', 'delduar', 'degradation', 'definitely', 'deficiency', 'defense', 'defeating', 'dedication', 'dedicated', 'decreasing', 'decrease', 'declining', 'declaration', 'deciduous', 'decentralised', 'deceased', 'deccan', 'debt', 'debhata', 'deaths', 'dean', 'daulah', 'daud', 'dasgupta', 'darse', 'darjeeling', 'darbar', 'danish', 'danauja', 'dalhousie', 'dakshineswar', 'dakhil', 'dakatia', 'cyclonic', 'cuttack', 'customary', 'curved', 'currencies', 'cure', 'curator', 'cultures', 'crown', 'crossing', 'crore', 'cropped', 'crocodile', 'critically', 'critic', 'crime', 'crepuscular', 'cremation', 'creditors', 'creativity', 'creative', 'cranes', 'crab', 'cow', 'covenanted', 'cousins', 'counterparts', 'counter', 'correspond', 'correlation', 'corpse', 'corporations', 'corners', 'core', 'corals', 'coral', 'copy', 'cooking', 'cooked', 'convey', 'convertible', 'conversion', 'controllers', 'contributes', 'contrast', 'contrary', 'contract', 'continental', 'consumption', 'consumer', 'consume', 'consulted', 'consultation', 'consistent', 'consider', 'conservative', 'connection', 'conflicts', 'conflict', 'concurrently', 'concluded', 'concerning', 'concern', 'concentration', 'comptroller', 'comprises', 'comprised', 'comprise', 'comprehensive', 'compositions', 'composite', 'component', 'complication', 'completely', 'compensation', 'commodity', 'commissioners', 'comments', 'commentary', 'commentaries', 'commencement', 'combination', 'combat', 'colony', 'colloquial', 'collegiate', 'collectors', 'colleagues', 'coils', 'co', 'cms', 'cmc', 'clusters', 'clubs', 'clouds', 'closer', 'closely', 'clinics', 'clinical', 'climax', 'clearing', 'clear', 'clans', 'clan', 'civic', 'citizens', 'citadel', 'circuits', 'circle', 'cie', 'churnni', 'chuadanga', 'christ', 'chosen', 'chorus', 'choose', 'cholera', 'chitra', 'chemicals', 'chaudhury', 'chaudhuri', 'charyapada', 'chars', 'charitra', 'chapters', 'chandravyakaran', 'chandni', 'chandina', 'chandidas', 'chandellas', 'chancellor', 'chairmen', 'chains', 'certification', 'certificates', 'certificate', 'certainly', 'cells', 'celebrities', 'ceiling', 'cds', 'causing', 'category', 'catechu', 'cast', 'carved', 'carts', 'carnivorous', 'carefully', 'cardiac', 'carbonate', 'car', 'capitals', 'capita', 'capability', 'candidate', 'campaigns', 'cambridge', 'calligraphy', 'caliph', 'calendar', 'calcuttas', 'cadres', 'cadet', 'busy', 'businesses', 'burrows', 'bureaucratic', 'burden', 'bull', 'bulk', 'buddhists', 'buddhas', 'buddhagaya', 'bs', 'brown', 'bronzes', 'broke', 'broadcasters', 'broadcast', 'bridges', 'brickfield', 'breathing', 'breast', 'breakdown', 'brazil', 'brahmanical', 'brahmanbaria', 'brahman', 'brackishwater', 'br', 'bpc', 'boycott', 'bow', 'boundary', 'bound', 'boulders', 'botany', 'bonds', 'bonaz', 'bold', 'boalia', 'blow', 'blindness', 'blind', 'blessings', 'blackberry', 'bitterns', 'bishu', 'birthday', 'birsrestha', 'bir', 'biotic', 'biogas', 'bin', 'billah', 'bijoy', 'bihari', 'bighas', 'bier', 'bids', 'bidi', 'bibi', 'bhutan', 'bhawaiya', 'bhasani', 'bharati', 'bharat', 'bhairabi', 'bhabanicharan', 'bettore', 'betar', 'beruan', 'bentincks', 'bentham', 'bends', 'bellesletters', 'behaviour', 'beetles', 'beef', 'becoming', 'bearing', 'beads', 'beaches', 'bayazid', 'bawalis', 'bau', 'battlefield', 'batiaghata', 'bathan', 'bat', 'basins', 'basalt', 'baruni', 'barred', 'barrage', 'barrackpur', 'bargunar', 'barc', 'barakar', 'barabhuiyans', 'banshkhali', 'bankimchandra', 'banik', 'banians', 'bangladeshis', 'bangladesher', 'bangala', 'bands', 'bandhu', 'banar', 'bamna', 'ballads', 'ball', 'balaram', 'balanced', 'baksh', 'bakerganj', 'bakar', 'bakaoli', 'baitullah', 'bags', 'baghdad', 'badrul', 'backward', 'backdrop', 'babubazaar', 'babgali', 'babar', 'azizul', 'ayurvedic', 'await', 'availability', 'autonomously', 'autobiographical', 'authorized', 'authorised', 'aush', 'aus', 'aurobindo', 'auctioning', 'atul', 'attributed', 'attraction', 'attitude', 'atmosphere', 'atheist', 'atgharia', 'ataur', 'asutosh', 'assured', 'assuming', 'assume', 'associate', 'assertion', 'asserted', 'assemblage', 'assamese', 'asm', 'ask', 'ashfaque', 'ascertaining', 'ascended', 'asaduzzaman', 'asadul', 'aryan', 'artistes', 'arsah', 'arrived', 'arrangements', 'arose', 'armys', 'aristocratic', 'aristocracy', 'arid', 'archways', 'archway', 'architect', 'arbitration', 'arakanese', 'arabs', 'arabian', 'ara', 'aquifers', 'aquatic', 'apurba', 'appointments', 'appointing', 'apply', 'apis', 'apex', 'anyone', 'anxious', 'anwara', 'antiquity', 'antibritish', 'anti', 'anthropological', 'anthology', 'annulment', 'annotations', 'annas', 'anjuman', 'angiosperms', 'anderson', 'ancestry', 'anandamayi', 'ananda', 'analysis', 'amur', 'amounts', 'amorphous', 'aminul', 'aminuddin', 'amil', 'altamas', 'alongside', 'allocations', 'allied', 'alleged', 'allahabad', 'allah', 'alert', 'ala', 'aksadul', 'akhtar', 'akhda', 'akbarnamah', 'akash', 'ak', 'aisles', 'ainiakbari', 'aimed', 'ahsan', 'ahead', 'ahad', 'agreed', 'aggrieved', 'aggregate', 'ages', 'agargaon', 'aga', 'aftabuddin', 'afforestation', 'affluent', 'affinity', 'affecting', 'affair', 'aerial', 'advisers', 'adviser', 'adverse', 'advantages', 'adopting', 'admission', 'adequate', 'adeluddin', 'address', 'adang', 'acute', 'actors', 'activists', 'achieving', 'achhe', 'accretion', 'accord', 'accommodated', 'accident', 'accession', 'accept', 'ac', 'abundance', 'absent', 'abdomen', 'abandoned', '971', '968', '9669', '960', '9297', '9280', '90°11', '9058', '900', '892', '8813', '864', '85', '8245', '824', '82', '812', '8090', '80000', '7th8th', '7m', '799', '7989', '7822', '779', '77', '7286', '7149', '714', '6th', '6845', '68', '664', '6633', '6413', '6375', '633', '610', '6033', '601', '5967', '5959', '587', '582', '581', '580', '570', '5652', '555', '541', '5269', '510', '51', '505', '501', '496', '4878', '479', '475', '471', '467', '4600', '460', '455', '451', '449', '442', '440', '4393', '435', '420', '4181', '4148', '4102', '409', '4063', '406', '4008', '399', '3947', '394', '392', '391', '389', '388', '3863', '3750', '3683', '368', '361', '357', '3437', '338', '331', '33', '329', '327', '3217', '3050', '3008', '296', '2932', '289272', '268', '266', '2650', '264', '263', '260', '25°18', '257', '2560', '251', '24°22', '246', '245', '244', '240', '23°13', '230', '22°59', '21st', '21398', '213', '210', '208', '206', '200809', '200708', '1st', '199798', '199697', '199596', '1987', '1968', '196', '194', '19301989', '1924', '19211988', '1920', '19191987', '1917', '1902', '1898', '1897', '1896', '1893', '1884', '1882', '1881', '1875', '1872', '1869', '1868', '1867', '1866', '1865', '1861', '1859', '1858', '1857', '1855', '1854', '1850', '1849', '1843', '1835', '1833', '183', '1829', '1823', '1815', '1805', '1802', '1800', '180', '1792', '17838', '177', '1767', '1766', '1765', '1757', '1752', '174950', '1747', '1730s', '17068', '1704', '169', '1686', '1639', '1632', '163', '1611', '1610', '1600', '160', '15th', '1570', '1565', '152', '15000', '14th', '148', '147', '145', '141', '1395', '138306', '136', '134', '1321', '132', '130', '12m', '129', '128206', '12703', '12639', '121', '11th', '119', '117', '1145', '114', '113', '112', '11026', '10767', '1070', '10634', '106', '046', '045', '031', '013', 'zp', 'zoology', 'zoo', 'ziyarat', 'zinat', 'ziaullah', 'zero', 'zenith', 'zenana', 'zealous', 'zealots', 'zaria', 'zanjira', 'zamindary', 'zakiganj', 'zainuddin', 'zahurul', 'zahur', 'zahidur', 'zahidul', 'z', 'yusufzai', 'yugantar', 'yugalabguriya', 'yug', 'your', 'yorkbased', 'york', 'yojanas', 'yoga', 'yields', 'yielded', 'yemeni', 'yemen', 'yellowbrown', 'yearly', 'yavanika', 'yarns', 'yarn', 'yariwafahdar', 'yarikriya', 'yards', 'yardlong', 'yaqub', 'yantra', 'yakub', 'yacht', 'xvi', 'xreepur', 'xii', 'xi', 'xhuxhuniya', 'wyer', 'wudu', 'wrong', 'wrestling', 'wrestler', 'wrested', 'wounds', 'wound', 'wosm', 'worthy', 'worships', 'worshipping', 'worshipers', 'worldreflecting', 'woobaidullah', 'wolf', 'witness', 'withstand', 'withdrew', 'withdrawn', 'witchcraft', 'wises', 'wins', 'winged', 'windows', 'willow', 'wilkins', 'wildlife', 'wielding', 'widths', 'wider', 'widening', 'wicked', 'wholly', 'wholehearted', 'whitewash', 'whipping', 'wherefrom', 'whatsoever', 'wh', 'westminster', 'wesfearmers', 'wellversed', 'wellesley', 'wellbeing', 'weights', 'weighed', 'weevils', 'weevil', 'weeklong', 'weeds', 'weeding', 'weddings', 'wedding', 'webbed', 'web', 'weavers', 'weave', 'weathered', 'weapon', 'wealthy', 'weakened', 'weaken', 'waziullah', 'watts', 'watermelon', 'waterair', 'watchman', 'watch', 'wastes', 'wasiyatnama', 'wasiuddin', 'washington', 'washing', 'washerwoman', 'warriors', 'warring', 'warish', 'warfare', 'waren', 'warehouse', 'wardha', 'waned', 'wallich', 'walkway', 'walkout', 'walking', 'walis', 'wali', 'wajid', 'wajed', 'wajdas', 'waited', 'waisi', 'wahabis', 'wagtail', 'wagons', 'wagonmicrobus', 'wagon', 'wadud', 'waders', 'waddedar', 'wa', 'vulnerable', 'vulgarity', 'vulgarism', 'vrihaspati', 'vrhannandikeshvara', 'vrhaddharmapurana', 'voyage', 'vow', 'votive', 'voting', 'voters', 'vomiting', 'volunteered', 'voltaire', 'volcanic', 'vol', 'voices', 'vogdanov', 'vocal', 'vocabulary', 'vocabulario', 'vividishananda', 'vitality', 'visvakarma', 'visva', 'visualized', 'visualize', 'visual', 'vista', 'visions', 'visible', 'vishvambhara', 'vise0vis', 'viscount', 'virulent', 'virgo', 'vira', 'vipers', 'viper', 'violently', 'violent', 'violation', 'vinyl', 'vine', 'vindicated', 'villi', 'vikrampur', 'vikramjit', 'vikramasila', 'vikramashila', 'vikramaditya', 'vijayasenas', 'vijaya', 'vijay', 'viii', 'vii', 'vihar', 'viewed', 'viewd', 'vidyotsahini', 'vidyavinod', 'vidyapatis', 'vidyamoyee', 'vidyalaya', 'vidyalamkara', 'vidyakaras', 'vidyakalpadruma', 'vidya', 'vidhumukhi', 'vida', 'victim', 'vicissitudes', 'vicepresidents', 'vicepresident', 'vibrating', 'vibrant', 'vibhas', 'vi', 'vhf', 'vetal', 'vestibule', 'vertically', 'vertebrate', 'versed', 'verse', 'vermilion', 'verify', 'verdict', 'verbs', 'verandah', 'veranda', 'venus', 'ventilation', 'ventilate', 'venisamhara', 'vengeance', 'veneer', 'velocity', 'vein', 'vehicles', 'vegetation', 'vegetated', 'vegetarianism', 'vegetarian', 'vedibandha', 'vedanta', 'vector', 'vaulted', 'vasudeva', 'vasu', 'vassalage', 'vassal', 'vascular', 'vasco', 'vary', 'varoya', 'varnishes', 'varna', 'variants', 'variances', 'vardhamanabhukti', 'varanasi', 'varaha', 'vanishing', 'vanished', 'vani', 'vanesvara', 'valued', 'valuation', 'vallalasena', 'vallalacharita', 'vallabhachari', 'valiant', 'vajrayogini', 'vajjabhumi', 'vaisvava', 'vaisnavas', 'vaishvavas', 'vaishnav', 'vain', 'vaidyas', 'vaidyadeva', 'vagrant', 'vacuum', 'vachan', 'vacated', 'vacancies', 'uzir', 'uttara', 'uttam', 'utilization', 'utilising', 'utilised', 'utilise', 'uthman', 'utensils', 'usurped', 'usuda', 'user', 'usage', 'us275', 'urubela', 'urmimala', 'urmi', 'urged', 'urge', 'urbanization', 'urafi', 'upwelling', 'upwards', 'upsurge', 'uprisings', 'uppermiddle', 'upliftment', 'uplifting', 'uplift', 'uplands', 'uphold', 'upheaval', 'upendras', 'upendra', 'updating', 'upazilla', 'upanisad', 'unwanted', 'unveiled', 'unutilized', 'unusually', 'unusual', 'untouchable', 'unsuccessful', 'unsubdued', 'unstinted', 'unrob', 'unrid', 'unrestricted', 'unrepresented', 'unreclaimable', 'unreal', 'unpkos', 'unorganised', 'unnerved', 'unnayan', 'unless', 'unity', 'unite', 'unionism', 'unilaterally', 'unilateral', 'uniformly', 'uniformity', 'unidentified', 'unfounded', 'unfortunately', 'unfolding', 'unexplained', 'unequivocally', 'unequal', 'uneconomic', 'unearthed', 'undp', 'undivided', 'undisguised', 'undeservedly', 'underwent', 'underwater', 'undertaking', 'undertake', 'underside', 'underprivileged', 'underparts', 'underneath', 'undermined', 'underlined', 'underemployed', 'undamaged', 'undaf', 'uncovenanted', 'unconsolidated', 'unconsciously', 'unconditionally', 'uncompromising', 'uncommon', 'unchanged', 'uncertainty', 'uncertain', 'uncastrated', 'unavoidable', 'unashia', 'unanimous', 'unalterable', 'unable', 'unabated', 'umichand', 'umbrellashaped', 'uma', 'ultimate', 'ultarathjatrar', 'ullahpara', 'ullah', 'ulcer', 'ulamas', 'ulama', 'ul', 'ukil', 'ugc', 'udna', 'udichi', 'uddayan', 'udaynarayan', 'uday', 'udainala', 'ucep', 'ubaidullah', 'ubaidul', 'u', 'typological', 'typhoid', 'typewriter', 'typeface', 'twoyear', 'twostroke', 'twostoryed', 'tworoomed', 'twisted', 'twining', 'twentytwo', 'twentyseven', 'twentyone', 'twentyfive', 'twelfth', 'tweb', 'tv', 'tuzukijahangiri', 'tutors', 'tutored', 'turns', 'turmoil', 'turmeric', 'turks', 'turkey', 'turbulent', 'turbidity', 'turbans', 'tural', 'turag', 'tunnel', 'tuni', 'tungipara', 'tune', 'tuhin', 'tuhfatulmuwahhiddin', 'tuhfaeithna', 'tughral', 'tughra', 'tughlaqian', 'tucktoo', 'tucci', 'tubewells', 'tubes', 'tubers', 'tuberose', 'ttdc', 'tsangpo', 'tsang', 'trying', 'truthfulness', 'trustees', 'trunkless', 'trunk', 'trove', 'trough', 'trots', 'tropics', 'trope', 'troop', 'trixula', 'trishatika', 'trishaldarirampur', 'trishal', 'triratha', 'tripuris', 'tripuri', 'tripos', 'tripitakacharya', 'trio', 'trimohani', 'trim', 'triglyph', 'trifling', 'tries', 'trident', 'tribute', 'tribhanga', 'tribe', 'trends', 'trending', 'tremendous', 'treatises', 'treated', 'treat', 'treasure', 'traversed', 'travels', 'travelers', 'trash', 'transported', 'transplanted', 'transparent', 'transparency', 'transmitter', 'transmitted', 'transmigrate', 'translate', 'transition', 'transformed', 'transform', 'transferability', 'transcendent', 'transboundary', 'traits', 'trailokyachandra', 'tragic', 'trafficking', 'tradelinks', 'tracked', 'tracing', 'tracheae', 'tp', 'toxin', 'towhid', 'towerroom', 'towered', 'tow', 'touts', 'tournaments', 'tourists', 'totems', 'totemic', 'totality', 'tortured', 'tortoise', 'tornadoes', 'tornadoaffected', 'tornado', 'torch', 'tops', 'topography', 'topographically', 'topographic', 'topkhana', 'topic', 'tool', 'tonk', 'tongibari', 'tongi', 'tones', 'tone', 'toluene', 'token', 'toke', 'tokai', 'tohfa', 'togo', 'tofazzal', 'tofail', 'titu', 'titling', 'titkaudi', 'tirhut', 'tired', 'tips', 'tipra', 'tippera', 'tip', 'tiny', 'tinkling', 'tinjala', 'timing', 'tilled', 'tillage', 'tili', 'tilda', 'tilas', 'tikka', 'tikatuly', 'ties', 'tiered', 'tier', 'tied', 'ticks', 'tibeau', 'thwarted', 'thunderstorms', 'thumri', 'thugs', 'thu', 'thrust', 'throws', 'thrown', 'throat', 'threw', 'threewheeled', 'threetier', 'threestorey', 'threeandahalfyear', 'threeaisled', 'threats', 'threat', 'thread', 'thomson', 'thirtytwo', 'thinkers', 'thinker', 'thing', 'thin', 'thighs', 'thermal', 'therein', 'theories', 'thence', 'thee', 'thatching', 'thatched', 'thatary', 'thanks', 'thanchi', 'thanas', 'thakchacha', 'thak', 'thailand', 'thacker', 'thaan', 'tfr', 'textilis', 'textiles', 'textbook', 'tetulia', 'tethanga', 'tethabga', 'tertiary', 'territories', 'terrible', 'terraces', 'terokhada', 'termination', 'terminate', 'terai', 'teota', 'tenth', 'tenor', 'tengratila', 'tenebrionids', 'tends', 'tendrils', 'tendomed', 'tendency', 'tended', 'tend', 'tempt', 'temporal', 'temperatures', 'temperate', 'telson', 'tells', 'teliagarhi', 'teli', 'telescope', 'telegraphy', 'telegraph', 'telaban', 'tekerhat', 'tekani', 'tectoria', 'technicians', 'teaproducing', 'teams', 'teach', 'tazia', 'tayebur', 'taxis', 'taxicab', 'taxi', 'taxcoverage', 'tattoos', 'tastes', 'tassduq', 'tartar', 'tarnishes', 'tarnished', 'tarkaratna', 'tariqahimuhammadiya', 'tarini', 'tarikhifiruz', 'tarikhifirishtah', 'tarikhidaudi', 'tarikhenaderi', 'tariff', 'targaon', 'tareq', 'tarashankar', 'tarash', 'taranaimilli', 'tarakanda', 'tarail', 'tarai', 'taraf', 'tapestry', 'tapering', 'tapan', 'tantriks', 'tantrik', 'tantricism', 'tantra', 'tantis', 'tangible', 'tanda', 'tamralipti', 'tamizuddin', 'tamarind', 'taluqdar', 'talukdar', 'tals', 'talpatti', 'talora', 'talmrdanga', 'tall', 'talibabad', 'talent', 'takhatetaus', 'takerghat', 'takavi', 'tajuddin', 'tajhat', 'taimur', 'tails', 'tailoring', 'tailik', 'tahsildars', 'taherul', 'taherhuda', 'tahbil', 'tagores', 'tagoreled', 'tafsir', 'tackle', 'tabra', 'taboos', 'tablet', 'tables', 'tabatabai', 'systematically', 'syria', 'syphilis', 'synthetic', 'synthesis', 'synonyms', 'syndrome', 'syncretic', 'symptomatic', 'symptom', 'symphony', 'sympathy', 'sympathetic', 'symbols', 'symbolized', 'symbolism', 'symbolising', 'sylvan', 'syllhet', 'syllable', 'syllabi', 'sylheti', 'syedpur', 'syeda', 'sydney', 'swim', 'sweetsour', 'sweden', 'sweating', 'swayambhupurana', 'swarups', 'swarupkathi', 'swarighat', 'swari', 'swampy', 'swamps', 'swamp', 'swadhinata', 'suvarna', 'sutrapur', 'sustaining', 'sust', 'suspicion', 'suspension', 'suspense', 'suspeneded', 'susceptible', 'survives', 'surveyor', 'sursrostara', 'surround', 'surrealism', 'surplus', 'surpassed', 'surpass', 'surong', 'surname', 'surgical', 'surgeons', 'surgeon', 'surfacing', 'surfaces', 'surfaced', 'sure', 'surbitan', 'surbahar', 'suratjamal', 'surabgama', 'supposed', 'supporter', 'suppliers', 'supplemented', 'supplementary', 'supplement', 'supervisors', 'supervising', 'supervised', 'supervise', 'superstructures', 'superb', 'sunderban', 'sundar', 'summon', 'sultanulmuazzam', 'sultanulazam', 'sultanularefin', 'sultanuddin2', 'sultana', 'sulphurous', 'sulphide', 'suloop', 'suleman', 'sukumar', 'sukoni', 'sukhanesuwara', 'sujabad', 'suicides', 'suhrawardi', 'suggestions', 'suggestion', 'suggesting', 'sugatisandarshanalokeshvara', 'sufism', 'sufia', 'suffocating', 'sufficiently', 'sufficient', 'sufferings', 'sufalakati', 'sue', 'sudharma', 'sudhakar', 'suckers', 'suck', 'sucheta', 'suchakradandi', 'successors', 'suburb', 'subunits', 'substratum', 'substitute', 'substandard', 'subsoil', 'subsistence', 'subsidy', 'subsectors', 'subsector', 'subscribes', 'subpost', 'subplots', 'subodh', 'submucosal', 'submergence', 'submariner', 'submarine', 'sublittoral', 'subjugated', 'subjectspecific', 'subil', 'subidpur', 'subhimalayan', 'subhasitaratnakosa', 'subhash', 'suberb', 'subcrop', 'subcontinents', 'subclasses', 'subcaste', 'subbhabhumi', 'subarticle', 'subarnarekha', 'subarnachar', 'subahdari', 'suba', 'sub', 'stylistic', 'styles', 'sturdy', 'stupas', 'studentships', 'stuck', 'stuarts', 'struggles', 'strongest', 'strives', 'stripes', 'strip', 'stringthread', 'strife', 'strictly', 'stricter', 'strenuous', 'streak', 'stray', 'strawmade', 'stratigraphic', 'stratified', 'strategies', 'strata', 'straps', 'stranglehold', 'strain', 'straightforward', 'storyed', 'storms', 'stork', 'storied', 'storeys', 'stored', 'store', 'storages', 'stopping', 'stoneblocks', 'stomach', 'stolidity', 'stocking', 'stipulations', 'stink', 'stimulation', 'stimulate', 'stick', 'sterling', 'stepped', 'stephenson', 'stenotypist', 'sten', 'stemmed', 'stella', 'steer', 'steep', 'steel', 'steam', 'steady', 'stay', 'staunchest', 'staunch', 'stationed', 'statesponsored', 'statements', 'starvation', 'starlight', 'starfish', 'starch', 'staple', 'stanislavsky', 'standstill', 'standingwater', 'standards', 'stamped', 'stamp', 'stale', 'stakeholders', 'stagnation', 'stagnant', 'staging', 'staffmembers', 'ssn', 'ssc', 'srikumar', 'sridhar', 'srichandra', 'sreerai', 'sreekrishnakeertan', 'sree', 'sramik', 'sradh', 'spy', 'springs', 'spraying', 'sprayed', 'sprang', 'sportsman', 'sporophytic', 'spoonbills', 'sponsorship', 'sponsors', 'splinter', 'splendour', 'splendid', 'splayed', 'spiritually', 'spiritualism', 'spirited', 'spire', 'spinyeel', 'spink', 'spillover', 'spiced', 'sphericity', 'sphere', 'sphalerite', 'speeds', 'speech', 'speculators', 'speculation', 'speculated', 'spectatorconsciousness', 'specifying', 'specifies', 'specialized', 'speciality', 'specialist', 'spearheading', 'spearhandles', 'speaks', 'spawning', 'spate', 'spastabhashi', 'sparsely', 'sparrowsized', 'sparked', 'spared', 'spare', 'spanning', 'spanish', 'span', 'spade', 'spacetech', 'soybean', 'sovereign', 'souvenirs', 'southfacing', 'sounds', 'sounded', 'sought', 'sorcery', 'sooty', 'sonsinlaw', 'sonneratia', 'sonia', 'songbirds', 'sonar', 'sonapur', 'sonakanda', 'sonadia', 'somewhere', 'sometime', 'something', 'somen', 'solvent', 'solution', 'solitary', 'soldier', 'sohagchitra', 'software', 'softer', 'sofa', 'sodium', 'socioreligious', 'sociocultural', 'societys', 'socialist', 'socialism', 'snout', 'snakebite', 'snail', 'smuggling', 'smritis', 'smriti', 'smooths', 'smooth', 'smokes', 'smell', 'smarta', 'smallsized', 'smallscreen', 'smallscale', 'smallpox', 'smallness', 'slurry', 'slum', 'sluggish', 'sludger', 'slowly', 'slowed', 'slogans', 'slogan', 'slime', 'slight', 'slender', 'sleep', 'slab', 'skirt', 'skirmishes', 'skins', 'skinned', 'skills', 'skillfully', 'sketches', 'sized', 'sizeable', 'siyuation', 'sixtyfive', 'sixmonth', 'sixarmed', 'siwalik', 'situations', 'sitting', 'sithi', 'sited', 'sitas', 'sitaraiimtiaz', 'sitara', 'sitamari', 'sit', 'sirkars', 'sirkali', 'siratifiruzshahi', 'sipahsalar', 'sipahi', 'sipah', 'sinoindian', 'sinking', 'singular', 'sings', 'singledomed', 'singers', 'sind', 'sincere', 'simplification', 'simplicity', 'similarity', 'silviera', 'silvery', 'silts', 'silting', 'silted', 'siltation', 'silkworms', 'silica', 'silently', 'siksa', 'sikhs', 'sikhara', 'sikh', 'sikder', 'sikdar', 'sikandra', 'sikandarussani', 'sikandar', 'signs', 'signing', 'signifies', 'signified', 'significantly', 'sign', 'sierra', 'sidr', 'sideseast', 'siddiqi', 'siddiky', 'siddhirganj', 'siddhantavagish', 'sidddiqui', 'sickness', 'sibsagar', 'siblings', 'shym', 'shyamnagar', 'shuvapur', 'shut', 'shushunia', 'shuntki', 'shulapani', 'shujas', 'shudras', 'shudir', 'shubalong', 'shrubs', 'shrivasas', 'shrinking', 'shrimps', 'shrikrsna', 'shrihatta', 'shrigauranga', 'shridharadasas', 'shrew', 'shreeula', 'shravan', 'shrank', 'shortest', 'shopping', 'shopkeepers', 'shook', 'shola', 'shock', 'shobha', 'shivas', 'shivalingas', 'shitalakshya', 'shital', 'shirin', 'shiran', 'shiraji', 'shiqdar', 'shipyards', 'shipra', 'shingbhanga', 'shimulkandi', 'shimul', 'shilpacharya', 'shillong', 'shiliguri', 'shilabhadra', 'shil', 'shiksa', 'shiism', 'shihabuddin', 'shield', 'shiek', 'shibsapasurmarjhata', 'shibnarayan', 'shibaits', 'shiates', 'shia', 'sherghati', 'sheren', 'sherebangla', 'sher', 'shelved', 'shelters', 'shellfish', 'shelled', 'shell', 'sheel', 'sheds', 'shed', 'sheaf', 'shaukat', 'shatnol', 'shastri', 'shasthi', 'shashra', 'shashatta', 'shash', 'shasan', 'sharply', 'sharpened', 'sharmin', 'sharks', 'sharishabari', 'sharing', 'shariatpur3', 'shariah', 'shares', 'shared', 'sharecroppers', 'sharat', 'sharasati', 'sharaf', 'shapuria', 'shaptogram', 'shantidhara', 'shankha', 'shamsunnahar', 'shamsun', 'shamsuddaulah', 'shamima', 'shamim', 'shame', 'shambhu', 'sham', 'shallowly', 'shalikha', 'shalghar', 'shaktas', 'shakhal', 'shaken', 'shake', 'shaivite', 'shaikhs', 'shahzada', 'shahriyar', 'shahnawaz', 'shahjahanpur', 'shahidlipi', 'shahida', 'shaheda', 'shahed', 'shahbazs', 'shahbaz', 'shahbagh', 'shahagli', 'shahabuddin', 'shagata', 'shafiullah', 'shafiuddin', 'shafiqul', 'shafeyi', 'shadow', 'shade', 'shaddock', 'shabibarat', 'shabebarat', 'shabbir', 'shabar', 'shaban', 'shabag', 'sgs', 'sforce', 'sfc', 'sexually', 'sexual', 'sewing', 'sewerage', 'severely', 'seventy', 'seventeenth', 'seventeen', 'setabganj', 'servitude', 'sermons', 'serialised', 'seresta', 'seramore', 'serajdikhan', 'sequence', 'septemberdecember', 'sepoys', 'separation', 'sep', 'sentiments', 'sentences', 'sensitive', 'senses', 'seniority', 'senguptaanushilan', 'senegal', 'senbagh', 'semitic', 'seminars', 'semidiurnal', 'semicircular', 'semiabstract', 'semi', 'selves', 'sells', 'sellers', 'sell', 'selfsufficient', 'selfreliantly', 'selfmade', 'selfgovernment', 'selfemployment', 'selfeducated', 'selfdetermination', 'selfabnegation', 'selection', 'sekshubhodaya', 'seizing', 'seized', 'seismic', 'seigniory', 'seers', 'seeing', 'seedbeds', 'seedbed', 'seditious', 'sedition', 'sedimentary', 'sediment', 'secularist', 'sectorwise', 'sect', 'secretly', 'secretion', 'secreting', 'secondlast', 'secessionist', 'seceded', 'sec', 'sebastian', 'seaweeds', 'seawaters', 'seawater', 'seaward', 'seasoning', 'seasonally', 'seashore', 'seas', 'seansons', 'seams', 'sealing', 'sealed', 'scuttled', 'scrutiny', 'scroll', 'scripture', 'scriptural', 'screentype', 'screens', 'scrape', 'scrafton', 'scoured', 'scotland', 'scores', 'score', 'scissor', 'scion', 'scientifically', 'sciencetrained', 'sciencerelated', 'scholastic', 'scholarshipsmedalsawards', 'scholarly', 'schist', 'schemes', 'scheduled', 'scenes', 'scatteredly', 'scarce', 'scanty', 'scalp', 'scaling', 'sbc', 'sayings', 'saying', 'sayeda', 'sayed', 'sayd', 'sawlog', 'sawing', 'sawanihnavis', 'saviour', 'saving', 'savagery', 'saundarananda', 'saucershape', 'satyendranath', 'satyapirer', 'satyapir', 'satyakalibibadsambad', 'satya', 'saturday', 'saturated', 'sattaix', 'satnari', 'satisfied', 'satisfactory', 'satirical', 'satimayna', 'satidaha', 'satia', 'satgoan', 'satbaria', 'sastri', 'sasmal', 'sarvabhaumas', 'sarta', 'sarojini', 'saroj', 'sarod', 'sarma', 'sarkars', 'saris', 'sari', 'sarhapa', 'sarfaraz', 'sarees', 'sarder', 'saratkumar', 'saratal', 'sarat', 'sarankhola', 'sarais', 'sara', 'saogat', 'sanyal', 'santosh', 'santipada', 'santiniketan', 'santals', 'santali', 'santahar', 'sanskritised', 'sannyasis', 'sankosh', 'sankhya', 'sankarbandha', 'sank', 'sania', 'sangu', 'sangstha', 'sangskrti', 'sangrai', 'sangrahashala', 'sanghita', 'sanggraha', 'sangat', 'sang', 'sandvip', 'sandpipers', 'sandipan', 'sandilya', 'sandhyakar', 'sandhill', 'sanctum', 'sanctuaries', 'sanctity', 'sanctioned', 'sanaul', 'sanai', 'samyabadi', 'samuher', 'samson', 'sampraday', 'sampanghata', 'sampan', 'sammilani', 'sammelon', 'samkhya', 'sambhudia', 'sambad', 'samantasena', 'samantapratiraja', 'samantadhipati', 'samalavarman', 'samajs', 'samadhi', 'samad', 'samachar', 'salwar', 'salvan', 'salts', 'salle', 'salishes', 'salim', 'salient', 'salek', 'salehins', 'salbarigram', 'salbanhat', 'salary', 'salar', 'salap', 'salads', 'sal', 'saktagiti', 'sakhipur', 'sajjad', 'saivite', 'saivaism', 'saim', 'sailors', 'sailed', 'saikat', 'saiful', 'saifuddaula', 'saidkati', 'saidabad', 'sai', 'sahnai', 'sahityn', 'sahityamabgal', 'sahityalok', 'sahih', 'sahibs', 'sahib', 'saheb', 'sahargram', 'saharchitra', 'saharbil', 'sahajiyas', 'sagardari', 'safeworks', 'sadullahpur', 'sadness', 'sadia', 'sadi', 'sadhanpur', 'sadhanananda', 'sadhan', 'sadgopes', 'sadeq', 'sadat', 'sadarpur', 'sacs', 'sacrilegious', 'sacrifices', 'sacking', 'sachin', 'sabotaged', 'sabor', 'sabgit', 'sabbir', 'sabar', 'saarc', 'ruthlessly', 'rustum', 'russomoy', 'rush', 'ruralrelated', 'rupsa', 'ruplal', 'rupali', 'rupak', 'ruminant', 'rujat', 'ruhea', 'rugby', 'rufous', 'rufina', 'rudra', 'rudimentary', 'rubbish', 'rp', 'rozina', 'roypara', 'royenda', 'roychowdhury', 'royalty', 'royalties', 'rowland', 'rover', 'routine', 'routes', 'roundness', 'rouf', 'rotten', 'rotifers', 'rotations', 'rotarians', 'rotalia', 'rostrum', 'ross', 'rosettes', 'roquiah', 'roots', 'rooted', 'roosting', 'roost', 'roomghata', 'rooftops', 'roofing', 'rome', 'roman', 'rods', 'roadblocks', 'rmg', 'riverside', 'riverborne', 'riverbank', 'rivals', 'rite', 'risks', 'rises', 'risalatusshuhada', 'ripe', 'riots', 'riotcar', 'riotaffected', 'rigours', 'rigidity', 'rightbank', 'rifles', 'rieyar', 'ridges', 'rides', 'riddle', 'ridden', 'rickshaw', 'richer', 'rhythms', 'rhyniophyta', 'rhynchophorus', 'rhetoricians', 'rhetorical', 'reynolds', 'reweighing', 'reward', 'revolver', 'revolve', 'revolt', 'revocation', 'revived', 'revitalizing', 'revisited', 'reversing', 'reverses', 'reversed', 'reverse', 'reverend', 'revered', 'rev', 'reuters', 'returning', 'retd', 'retaliated', 'retaining', 'retainers', 'resuscitation', 'resubmitted', 'rests', 'restoring', 'restlessness', 'restaurant', 'responses', 'response', 'responding', 'respond', 'respiration', 'respectable', 'respectability', 'resorted', 'resolving', 'resolved', 'resolutions', 'resign', 'residing', 'resides', 'residents', 'resident', 'reside', 'reservoirs', 'reserves', 'resentment', 'resented', 'resembles', 'researchcumtraining', 'researchbased', 'rescuing', 'rescind', 'requires', 'repute', 'republican', 'reproduction', 'repressive', 'representations', 'repositories', 'reportedly', 'reply', 'replicate', 'replica', 'replenished', 'replacing', 'replaced', 'repeating', 'repeat', 'repeals', 'repairing', 'reorganised', 'rents', 'rented', 'rental', 'renes', 'renaissance', 'remunerations', 'remuneration', 'removed', 'remove', 'remote', 'remnants', 'remitted', 'reminded', 'remembrancer', 'remembered', 'remember', 'remedial', 'remarkably', 'remakri', 'relying', 'relinquished', 'religiously', 'religionbased', 'relieved', 'relies', 'relentlessly', 'relegated', 'release', 'relaxed', 'relax', 'relatively', 'relates', 'relate', 'rekha', 'reiterating', 'reissued', 'reintroduced', 'reinstated', 'reinforcement', 'reinforced', 'reincarnation', 'regulated', 'regressive', 'registrars', 'regimental', 'regency', 'regards', 'regained', 'refute', 'refutation', 'refuse', 'refreshing', 'refrained', 'refrain', 'reformatory', 'reflex', 'reflects', 'reflection', 'reflecting', 'refining', 'refectory', 'reexcavation', 'reenter', 'reemergence', 'reeling', 'reefs', 'redesigning', 'reddish', 'redder', 'redden', 'redcrested', 'redbrown', 'recurring', 'recurrent', 'recur', 'recruitment', 'recruiting', 'recreation', 'recovery', 'recourse', 'recording', 'reconstructing', 'reconstructed', 'reconstituted', 'recommend', 'recognizes', 'recognises', 'reciting', 'recipients', 'recessed', 'receptors', 'receipts', 'recall', 'recalcitrant', 'rebound', 'rebirth', 'rebelled', 'rebatapriya', 'reb', 'reasonably', 'rearing', 'reappointed', 'realm', 'really', 'reallocated', 'realizes', 'realized', 'realities', 'realism', 'realising', 'realisation', 'reais', 'ready', 'readings', 'reactor', 'reaction', 'reaching', 'rc', 'razzaq', 'rays', 'raymukut', 'raymangal', 'rayer', 'raychaudhuris', 'raychaudhuri', 'rayats', 'rayat', 'rats', 'ratna', 'rations', 'rationalistic', 'rationalism', 'rational', 'rathjatrar', 'rathindra', 'rathayatra', 'ratha', 'rates', 'rated', 'rasulbijay', 'rasul', 'rastrabiplab', 'rasmoni', 'raskhakali', 'rashleela', 'rasheed', 'rash', 'rasas', 'rasakallol', 'rapidity', 'raozan', 'ranjoarhs', 'ranjan', 'ranipukur', 'ranigunge', 'rangoon', 'ranging', 'ranged', 'rangchhati', 'rangasirsa', 'rangapur', 'rangapitha', 'rang', 'ranamuri', 'ranajit', 'ranabir', 'rana', 'ran', 'ramu', 'ramtanu', 'ramprasad', 'rampran', 'ramparts', 'rampal', 'ramnarayan', 'ramnabami', 'rammohan', 'ramlochan', 'ramkrishna', 'ramkanta', 'ramjivan', 'rami', 'ramgati', 'rameshvarasetubandha', 'ramendu', 'ramendra', 'ramdulal', 'ramaprasad', 'ramapal', 'ramakrishnas', 'ramakrishna', 'ramakri', 'ramagiri', 'ramadan', 'ramacharita', 'ramachandra', 'rama', 'ralph', 'rakhaldas', 'rakats', 'rajshekhar', 'rajrajeshwar', 'rajputana', 'rajmanik', 'rajkrsna', 'rajjabennesa', 'rajib', 'rajgrih', 'rajdhani', 'rajatarbgini', 'rajas', 'rajapur', 'rajab', 'raises', 'rais', 'raira', 'rainy', 'railroads', 'railcommunication', 'raihan', 'raidak', 'rahmatpur', 'rahmat', 'rahadari', 'rags', 'ragnachhara', 'raginis', 'raghu', 'raga', 'rafters', 'rafiqunnabi', 'rafiq', 'rafikun', 'radiation', 'radiatavar', 'radhas', 'radharani', 'radhanagar', 'radhakrishna', 'radhakanta', 'radhagovinda', 'radcliffe', 'rackrenting', 'racism', 'racing', 'racial', 'racecourse', 'rabgapur', 'rabab', 'qutbuddin', 'quraishi', 'quotas', 'quota', 'qumrul', 'qulkhwani', 'quirat', 'quinquenial', 'quinine', 'quilts', 'quills', 'quiet', 'quettas', 'questionanswer', 'questionable', 'quest', 'quenched', 'queen', 'qudratikhuda', 'qudratekhuda', 'quddus', 'quayyum', 'quaumi', 'quartzite', 'quartz', 'quarrels', 'quantitative', 'quamrul', 'quake', 'quail', 'quaidemillat', 'quadrangle', 'qiranussadain', 'qibla', 'qayyum', 'qanungos', 'qamaruzzaman', 'qamars', 'qadiriya', 'qadianis', 'qader', 'qabli', 'pythons', 'pva', 'puts', 'putichhara', 'puthis', 'puthia', 'purush', 'pursuits', 'pursuing', 'purple', 'purnia', 'purdah', 'purchaser', 'purbadhala', 'purbadhair', 'purba', 'puraskar', 'puppet', 'punti', 'punished', 'pundranagara', 'pundranagar', 'pundra', 'pundavardhana', 'pump', 'pulverises', 'pulses', 'pulp', 'pulling', 'pulin', 'pukhiri', 'pugree', 'puddled', 'pudding', 'publisher', 'publish', 'puberty', 'pubail', 'pthm', 'psychology', 'psychic', 'pseudonym', 'prudent', 'proximity', 'provincewise', 'proves', 'proven', 'protyaya', 'protruding', 'prototype', 'protocol', 'prothisthan', 'protestors', 'protested', 'protein', 'protege', 'protects', 'protectors', 'protagonists', 'prostration', 'prospects', 'prospect', 'prosecuting', 'proprietary', 'proposals', 'prophecies', 'propane', 'propagation', 'propagating', 'propagate', 'proof', 'prone', 'promptly', 'promotes', 'promoscow', 'promised', 'prolific', 'prokas', 'projection', 'prohibiting', 'prohibited', 'programmers', 'program', 'progati', 'profusion', 'profits', 'profitability', 'profiles', 'proficiency', 'professors', 'professions', 'professionals', 'productivity', 'productive', 'procured', 'proclaimed', 'processor', 'proceeds', 'probritish', 'probodh', 'problematic', 'probationary', 'probable', 'pro', 'priyamvada', 'priyadaranjan', 'privileged', 'pritilata', 'pristine', 'prison', 'prisms', 'prismlike', 'prismatic', 'prior', 'printer', 'print', 'principally', 'princeton', 'primacy', 'priest', 'pricelevel', 'priceless', 'prey', 'preventable', 'prevalence', 'prettiest', 'pretext', 'presumptive', 'presumed', 'presumably', 'prestigious', 'pressing', 'pressed', 'presidents', 'presidencies', 'preside', 'preserves', 'preserved', 'preserve', 'presently', 'presentation', 'prescribe', 'preregistration', 'preponderance', 'prepayment', 'prepartition', 'prepare', 'prepaid', 'preneolithic', 'premuslim', 'premium', 'premiership', 'premiered', 'prem', 'preliterate', 'prejudice', 'preindependent', 'pregnant', 'preferred', 'preference', 'prefaced', 'preface', 'preeti', 'predominated', 'predominant', 'predisaster', 'predicted', 'predicament', 'predecessor', 'precisely', 'precise', 'precinct', 'precepts', 'preceding', 'precast', 'precambrian', 'prebends', 'preamble', 'preacher', 'preached', 'prayed', 'pray', 'prawns', 'prawn', 'pratyaharas', 'pratham', 'prasanta', 'prasanna', 'pransa', 'pramanyachitra', 'prakrta', 'prakashika', 'prakash', 'praises', 'praised', 'pragati', 'pradip', 'pradhan', 'practicing', 'prachi', 'prabasi', 'prabartana', 'prabaha', 'pr', 'ppt', 'powell', 'powder', 'pounded', 'potbellied', 'potatoes', 'potassium', 'postwar', 'postoperative', 'postnoncooperation', 'postmaster', 'postliteracy', 'postings', 'posting', 'posthumously', 'postgraduate', 'postflood', 'posters', 'posterior', 'poster', 'postcode', 'postage', 'possibilities', 'possessing', 'positive', 'poshtu', 'portugals', 'portugal', 'porter', 'portcity', 'portals', 'porphyritic', 'porosus', 'pork', 'porch', 'porcelain', 'populist', 'populations', 'popularly', 'popularized', 'pope', 'pondsreservoirs', 'ponderous', 'ponabalia', 'polyuronides', 'polythene', 'polytechnic', 'polysaccharide', 'polygonal', 'polygamous', 'polyestrous', 'poly', 'pollutes', 'pollinated', 'politicians', 'polio', 'poles', 'polarisation', 'poland', 'poisonous', 'poison', 'poised', 'pochard', 'poaching', 'pneamatophores', 'pnar', 'pm', 'plywood', 'plus', 'plunging', 'plump', 'plumage', 'plugging', 'ploughing', 'plotwise', 'pliopleistocene', 'pliocene', 'plinth', 'pledged', 'pleasing', 'pleaded', 'plea', 'plaza', 'playwriting', 'playgrounds', 'playback', 'platoon', 'plato', 'plates', 'plaster', 'plantphysiological', 'plantations', 'plantation', 'plantainleaf', 'planks', 'planes', 'plane', 'piyara', 'pivotal', 'pithas', 'pitchedroofs', 'pitched', 'pit', 'pirkunda', 'pires', 'pirates', 'pipli', 'pipits', 'pipe', 'pinon', 'pink', 'pinglar', 'pingla', 'pilu', 'pilot', 'pillows', 'pillage', 'pilgrims', 'pilgrimage', 'pile', 'pilasters', 'pig', 'pictures', 'picked', 'piano', 'pia', 'physique', 'physiographic', 'physician', 'phuljhuri', 'phuljhor', 'phulgazi', 'phul', 'photosynthesis', 'photos', 'photographs', 'photographic', 'photographed', 'phosphate', 'phool', 'phone', 'phoenix', 'philosophies', 'philosophers', 'phillanthropist', 'philippines', 'philanthropists', 'philanthropist', 'phenomenally', 'pheasant', 'pharmacist', 'pharm', 'phanindra', 'phanibhushan', 'phalluses', 'phalli', 'phaetons', 'ph', 'peyarabagh', 'petrolpumps', 'petroleum', 'petrol', 'petitioned', 'peticoat', 'peter', 'pestilence', 'pesticides', 'perween', 'pervade', 'peru', 'pertaining', 'persuaded', 'personalities', 'persoarabic', 'persistent', 'persisted', 'persion', 'persians', 'persia', 'persecution', 'perpetrated', 'permitted', 'permits', 'permit', 'permanently', 'perished', 'periodic', 'perennials', 'perch', 'perceptual', 'peppermint', 'pentatonic', 'pension', 'pens', 'penis', 'pendro', 'pending', 'pendentives', 'penchant', 'penaeus', 'pen', 'pelagic', 'peerage', 'pedogenesis', 'pedler', 'pedimented', 'pedal', 'pectin', 'pebrine', 'peasantry', 'pearsons', 'pearls', 'peara', 'peanut', 'peaked', 'peak', 'peacefully', 'pds', 'pdbs', 'pdb', 'pct', 'pays', 'pay2', 'pay1', 'paved', 'pavchayet', 'paul', 'paucity', 'pattikerya', 'pattikera', 'pattikeda', 'pattanidar', 'patta', 'patronizing', 'patrol', 'patriotism', 'patrilineal', 'patriarchal', 'patiya', 'patit', 'patisor', 'patient', 'patials', 'pati', 'paths', 'pathology', 'pathogenic', 'pathar', 'pathan', 'path', 'patgram', 'pateshwary', 'pateshwari', 'patches', 'pata', 'pat', 'pastured', 'paste', 'passur', 'passing', 'passengers', 'passage', 'pass', 'pashtu', 'pashchimas', 'pasha', 'paschimbanga', 'paschim', 'pasaner', 'pasan', 'parwanas', 'paruar', 'partnership', 'partner', 'partitioned', 'partisan', 'partial', 'parthenogenetic', 'partake', 'parshuram', 'parjatan', 'parisat', 'parikrama', 'parichaya', 'paribag', 'parenting', 'parental', 'parent', 'pare', 'parchment', 'parbatya', 'parbatipur', 'parbatinagar', 'parasurams', 'parasites', 'parapets', 'paran', 'parameters', 'paralysis', 'paralysed', 'parail', 'panvel', 'panti', 'pansi', 'pannalal', 'pankho', 'pankaj', 'panislamism', 'panioty', 'paninis', 'panini', 'pangs', 'panes', 'panels', 'paneled', 'panel', 'panduafiruzabad', 'pandu', 'pandit', 'pancreas', 'panchubari', 'panchhari', 'pancharatna', 'panchanan', 'panchalis', 'panchal', 'panchagarh', 'panan', 'pan', 'pamphlets', 'palynostratigraphical', 'paludosa', 'palpable', 'palong', 'palms', 'paleography', 'pale', 'palashbaria', 'palash', 'palasena', 'palanquins', 'palaceguards', 'pakistanis', 'pakhwaj', 'pakarmy', 'pairing', 'paints', 'painters', 'painter', 'pains', 'pained', 'paine', 'pain', 'paikurati', 'paikpara', 'paikars', 'paijamapanjabi', 'paidup', 'pahlwan', 'pahle', 'pahela', 'paharias', 'pahadi', 'page', 'padmavati', 'padmapurana', 'padmapukur', 'padmakar', 'padatik', 'padak', 'packing', 'packaging', 'pacify', 'pacific', 'pachuria', 'pachukhar', 'pachash', 'pacca', 'p', 'oxidative', 'oxidation', 'owls', 'owl', 'owens', 'owe', 'overwrought', 'overtop', 'overstocking', 'oversight', 'overruled', 'overriding', 'overpressure', 'overpowered', 'overlying', 'overlooking', 'overfeeding', 'overexploitation', 'overbearing', 'ovalshaped', 'outward', 'outstrips', 'outsiders', 'output', 'outlives', 'outline', 'outflows', 'outflow', 'outcrop', 'ousted', 'ourselves', 'orthodoxy', 'ors', 'orphans', 'orna', 'oriya', 'originating', 'originality', 'oriented', 'organs', 'organophosphates', 'organizer', 'organisms', 'organisationfunded', 'ordnance', 'ordinarily', 'ordinances', 'ordered', 'orange', 'orally', 'oral', 'ora', 'opus', 'options', 'optical', 'opt', 'opposing', 'oppose', 'opium', 'opinions', 'opine', 'operational', 'onslaught', 'onset', 'onrushing', 'onethird', 'onestripe', 'oms', 'omnivorous', 'omar', 'omalley', 'olympic', 'olympiad', 'oligocene', 'olabibi', 'okba', 'ointments', 'oilproducing', 'oilmill', 'offspring', 'offseasons', 'offloading', 'officially', 'offerings', 'offensive', 'offenders', 'offend', 'offence', 'odia', 'odantpur', 'octopus', 'ochric', 'ochre', 'oceanographic', 'occurrences', 'occurrence', 'occupancy', 'ocampo', 'oc', 'obviously', 'obstruct', 'obsolete', 'observes', 'observational', 'observation', 'observances', 'obscurity', 'obligatory', 'obligations', 'oblations', 'objectives', 'objection', 'obey', 'obedient', 'obedience', 'oath', 'nymphs', 'nylon', 'nyastarabga', 'nuts', 'nutrition', 'nutrient', 'nutcutter', 'nusrat', 'nuruldiner', 'nuruddin', 'nurnabi', 'nurani', 'nur', 'numismatic', 'numbered', 'null', 'nrityer', 'nripendra', 'nowhere', 'nowdabash', 'novera', 'novelist', 'notto', 'notorious', 'noting', 'noticing', 'noticed', 'noticeable', 'noteworthy', 'notably', 'norwich', 'norwesters', 'northbrook', 'noor', 'nonviolence', 'nonstop', 'nonslum', 'nonresistant', 'nonrelatives', 'nonreclaimable', 'nonprincely', 'nonpersonal', 'nonpathogenic', 'nonpartisan', 'nonofficials', 'nonmuslim', 'nonlife', 'noninterfernece', 'nongazetted', 'nonfunded', 'nondiplomatic', 'nondiary', 'noncrystalline', 'noncooperators', 'nonconventional', 'nonchristian', 'nonbengali', 'nonbank', 'nonbangali', 'nonaggression', 'non', 'nomination', 'nobles', 'noblemen', 'nobility', 'nmi', 'nizamuddin', 'nixon', 'nivedita', 'nitrogen', 'nitividyalay', 'nisi', 'nishan', 'nirukta', 'nirjharini', 'nirjatan', 'nirbachito', 'ninetyfive', 'ninety', 'nineties', 'nineteenthcentury', 'nineteen', 'nimatullah', 'nimantran', 'nimakti', 'nilsagar', 'nilphamari', 'nilima', 'nilambar', 'nilam', 'nil', 'nikli', 'nikayas', 'nikaya', 'nikari', 'nijjote', 'nijhum', 'nij', 'niazis', 'nhila', 'newsprint', 'newaz', 'neutrality', 'netta', 'nets', 'netrakona', 'nether', 'nesw', 'nests', 'nestorian', 'nesa', 'nerves', 'nernst', 'nepathye', 'neoliths', 'neoliterates', 'neobuddhist', 'nemy', 'nejame', 'nehrus', 'nehru', 'negroid', 'negotiating', 'neglecting', 'neem', 'neelkuthi', 'necks', 'neck', 'necessarily', 'nebraska', 'neatly', 'ndf', 'nce', 'ncc', 'ncb', 'nc', 'nbc', 'nazmul', 'naziur', 'nazirpur', 'nazira', 'nazir', 'naynanda', 'nayek', 'nayantara', 'nayan', 'nawwara', 'navy', 'navel', 'navadvipa', 'navabarsha', 'nausher', 'nausea', 'nauplii', 'naturalistic', 'natorerajshahi', 'natives', 'nationwide', 'nationals', 'nationally', 'nationalisation', 'natha', 'nataraj', 'nasirnama', 'nasim', 'narsunda', 'narrators', 'narratives', 'narration', 'narrating', 'narrate', 'narodpancharatra', 'naripokkho', 'narioshishu', 'nari', 'narhata', 'naresh', 'narendranarayan', 'narcotics', 'narattampur', 'narail', 'narada', 'naqxbandia', 'naporaon', 'napoleonic', 'nanyadeva', 'nandikesvara', 'nandi', 'nandanik', 'nandalals', 'nandakumar', 'nandadulal', 'nanda', 'nana', 'namuja', 'naming', 'namasudras', 'nalua', 'nalinaksha', 'nalchity', 'nalchhata', 'naked', 'najabat', 'nairobi', 'naibs', 'naibedya', 'nahar', 'nagri', 'nagor', 'nagilla', 'nagarkanda', 'nagara', 'nafal', 'naf', 'nadia', 'nabinchandra', 'nabinagar', 'nabhi', 'nabarupi', 'nababganj', 'naaz', 'na', 'n', 'myth', 'mystical', 'mymensingha', 'mymensing', 'mycoplasma', 'muzzle', 'muzaffer', 'mutton', 'mutsuddis', 'muted', 'mutawatir', 'mutawalli', 'mustakim', 'muslins', 'muslem', 'musk', 'musicology', 'mushrif', 'mushidhat', 'mushfiqur', 'mushayeras', 'mushahars', 'mushahar', 'muscular', 'muscles', 'muscardine', 'musammat', 'musalman', 'murta', 'murdered', 'murari', 'murals', 'munsef', 'munni', 'munir', 'munghyr', 'munda', 'mumtaz', 'multiply', 'multiplication', 'multiple', 'multinationals', 'multinational', 'multilaterally', 'multilateral', 'multikilometre', 'multidisciplinary', 'multan', 'mulghar', 'mulberry', 'mulbari', 'mukut', 'mukundapur', 'muktiyuddha', 'muktaprobaho', 'muktagachha', 'muktadir', 'mukhopaddhays', 'mukherjee', 'mukarram', 'mujumdar', 'mujibs', 'mujib', 'mujaddadia', 'muhuri', 'muhtasim', 'muhammed', 'muhammads', 'muhammadi', 'muhamedan', 'mudforts', 'mudfort', 'muddy', 'muddiman', 'mudaraba', 'mudamas', 'muck', 'muchis', 'mubarak', 'muazzin', 'muazzamabad', 'muawiyah', 'mtor', 'mtb', 'msl', 'mrtyu', 'mrs', 'mridu', 'mridhar', 'mrdanga', 'mphil', 'mph', 'moyvar', 'moyra', 'moyen', 'movie', 'movable', 'mouselike', 'mountbatten', 'mountains', 'mount', 'mounds', 'moulvi', 'mouldings', 'mould', 'moulavibazar', 'mottaleb', 'motorised', 'motivated', 'motijheel', 'motif', 'motherinlaw', 'moth', 'motasim', 'motaleb', 'motaher', 'mosquito', 'moslem', 'mosaics', 'morshed', 'morphological', 'morkal', 'morbidity', 'morality', 'morale', 'mor', 'moon', 'mookerjee', 'moods', 'mood', 'monteguchelmsford', 'monsoons', 'monowar', 'monotheists', 'monopolisation', 'monogamy', 'monodon', 'mono', 'monks', 'monkeys', 'monk', 'moniruzzaman', 'mongoloid', 'mongolians', 'monghyr', 'mongalbari', 'moneylending', 'moneylenders', 'moneychangers', 'monem', 'mondir', 'monawar', 'monarch', 'mon', 'momtajuddin', 'moment', 'molluscs', 'molars', 'moksudus', 'mojumder', 'mohon', 'mohitlal', 'mohibbur', 'moheshkhali', 'mohanpur', 'mohana', 'mohammmad', 'mohakhali', 'mogoltuli', 'moghs', 'mogalhat', 'moe', 'modifications', 'modhumalati', 'modhu', 'modesty', 'modest', 'modernday', 'moderately', 'modeling', 'modality', 'modak', 'mobiljamuna', 'mobile', 'mobashsher', 'moats', 'mo', 'mna', 'mmyear', 'mm', 'mls', 'mlc', 'ml', 'mizos', 'mizan', 'miyar', 'miyan', 'mixing', 'mitigation', 'mitigating', 'mithapukur', 'mithamain', 'mitford', 'mistakes', 'missing', 'miss', 'misrule', 'mismanagement', 'mismanaged', 'mishuk', 'mishra', 'misgovernment', 'miseries', 'misdeeds', 'misconceptions', 'mirsharai', 'mirror', 'mirgarh', 'mire', 'miraculously', 'miocene', 'minute', 'minuscule', 'mints', 'minted', 'minority', 'ministries', 'miniplanetarium', 'mining', 'minimize', 'minimising', 'minimally', 'minikganj', 'minibus', 'miniature', 'mineralogy', 'mineralogical', 'mined', 'mine', 'mimansa', 'militant', 'mildly', 'milad', 'mikir', 'mike11', 'migratory', 'migrations', 'migrating', 'mighty', 'midtwentieth', 'midsixties', 'midseventies', 'midnight', 'midnapore', 'middlemen', 'middleincome', 'middleeast', 'mid20th', 'mid19th', 'mid1980s', 'microlithic', 'microfilmed', 'microcredit', 'microchips', 'microbus', 'microbiology', 'michhil', 'mice', 'micaceous', 'mica', 'mian', 'mia', 'mi', 'mg', 'mezbani', 'mexico', 'mewar', 'metre', 'methi', 'methanol', 'methane', 'meters', 'metaphorically', 'metaphor', 'metals', 'metalled', 'metabolic', 'mess', 'mesopotamia', 'merlons', 'merlonedfrieze', 'merges', 'merge', 'mercifulness', 'mercantile', 'mep', 'mentor', 'mentionable', 'menstruation', 'mens', 'menhirs', 'memsahibs', 'memorable', 'memoir', 'melon', 'melody', 'mello', 'mellach', 'melancholy', 'meherunnessa', 'meherullah', 'mehendiganj', 'meghalaya', 'megalithic', 'meets', 'meer', 'meditating', 'medina', 'mediation', 'medals', 'medal', 'mechanical', 'meb', 'meats', 'measurement', 'measured', 'measles', 'mearajuddin', 'meanwhile', 'meanings', 'meander', 'meal', 'meadow', 'mbbs', 'mb', 'mazumdar', 'maze', 'mayur', 'mayukh', 'mayonnaise', 'mayo', 'mayna', 'maximize', 'maximise', 'mawla', 'mavcha', 'mauza', 'mausumi', 'maurya', 'maulvibazar', 'maududi', 'matuya', 'matuail', 'mats', 'matrix', 'matrimonial', 'matriculated', 'matrai', 'matka', 'matijheel', 'mathuranath', 'mathura', 'maths', 'mathbaria', 'mathavanga', 'matha', 'materializing', 'materialistic', 'materialist', 'matchmaking', 'matching', 'matched', 'matai', 'mat', 'masur', 'masudi', 'masuda', 'masud', 'mastication', 'mastery', 'masterly', 'mastarda', 'massupsurge', 'massive', 'massif', 'masse', 'massacre', 'masonry', 'masnad', 'masjid', 'masidpur', 'mashiur', 'mashhadi', 'mash', 'maseda', 'masayuki', 'marxist', 'marx', 'marwaris', 'marwari', 'martyrsoldiers', 'martyrs', 'martyred', 'martuzananda', 'martuza', 'martin', 'marshy', 'marshman', 'marshes', 'marshall', 'marries', 'markets', 'marketplaces', 'marjal', 'marinewater', 'mariamnagar', 'maria', 'marginalised', 'mardemomin', 'marchapril', 'marathi', 'maranta', 'marandi', 'maradan', 'maqsudur', 'mapping', 'manzur', 'manzoorul', 'manzoor', 'manzil', 'manysided', 'manumukh', 'manually', 'manual', 'mantras', 'mantra', 'mansions', 'mansingh', 'mansabdari', 'mans', 'manoranjan', 'manomohan', 'manoharpur', 'manohar', 'mankuni', 'mankalir', 'manjushri', 'manish', 'manikpir', 'manikganj', 'manikchand', 'manifestations', 'manifestation', 'manifest', 'mangal', 'mane', 'mandol', 'mandatroy', 'mandate', 'mandari', 'mandaran', 'mandalas', 'manchitra', 'manche', 'mancha', 'manasamangal', 'manages', 'managers', 'manab', 'mamun', 'mammal', 'malwa', 'mals', 'malpahari', 'malnutrition', 'mallik', 'mallick', 'mallasarul', 'mall', 'maliks', 'malicious', 'malguzar', 'males', 'malek', 'maldives', 'maldaha', 'maldah', 'malayese', 'malayar', 'malaria', 'malakars', 'malaise', 'malady', 'maladhar', 'malabsorption', 'mal', 'maktabbased', 'maktab', 'maksud', 'makrai', 'makhzaniafghani', 'makhsudabad', 'makhan', 'majnu', 'majlishunnesa', 'majhbari', 'majeed', 'majed', 'maizbhandar', 'maitreya', 'maishadi', 'maintaining', 'mainstream', 'mainland', 'mail', 'maidan', 'mahua', 'mahrukh', 'mahogany', 'mahmudur', 'mahisyas', 'mahisantosh', 'mahidurga', 'mahbubar', 'mahazans', 'mahayana', 'mahavira', 'mahavihara', 'mahathero', 'mahathera', 'mahasweta', 'mahasthinagarh', 'mahasthangarh', 'mahashashan', 'mahasamantadhipati', 'mahasamanta', 'mahasabha', 'maharastra', 'mahaprabhu', 'mahananda', 'mahanagar', 'mahamahopadhyay', 'mahals', 'mahalla', 'mahalanobis', 'mahal', 'mahakali', 'mahajan', 'mahadevpur', 'mahabharata', 'magura', 'magnum', 'magnet', 'magnesium', 'magisterial', 'magic', 'magha', 'magh', 'magan', 'magadha', 'maestro', 'madrasas', 'madrasahs', 'madrasahialia', 'madna', 'madina', 'madhumatiharinghata', 'madhumati', 'madhua', 'madhabkunda', 'madarpir', 'madar', 'madanpals', 'madanapala', 'macrognathus', 'macneill', 'machineries', 'machans', 'macdonald', 'macaulays', 'mabud', 'maasirulumara', 'm3', 'm2', 'lyricist', 'lyrically', 'lyric', 'luxury', 'lutfunnahar', 'lutfulla', 'lutfar', 'luteefplaced', 'lusts', 'lustrous', 'lustre', 'lushei', 'lushai', 'luminous', 'lulaingkhal', 'lulaing', 'luck', 'lucid', 'lubbus', 'lp', 'loyalists', 'lowtomoderateincome', 'lowly', 'lowlands', 'lowland', 'lowered', 'loving', 'lover', 'louisiana', 'loudly', 'loud', 'lottery', 'lotic', 'losing', 'lorchandrani', 'loosely', 'loose', 'looked', 'longtailed', 'longbodied', 'longadu', 'loneliness', 'londonbased', 'lohajang', 'logs', 'logistics', 'logicians', 'lofty', 'locke', 'lochon', 'locals', 'locality', 'locale', 'localarea', 'lobes', 'loanscredit', 'loamy', 'loads', 'load', 'lng', 'ln', 'lms', 'lmg', 'lizarddraco', 'liverpool', 'litters', 'litterateurs', 'lithologies', 'literati', 'literateur', 'literally', 'listen', 'liquor', 'liquidity', 'liquidate', 'liquid', 'liquefied', 'lips', 'lip', 'lintels', 'lino', 'linlithgow', 'linguist', 'limnea', 'limiting', 'limitation', 'limb', 'lilar', 'likewise', 'liked', 'lignite', 'lightness', 'lifts', 'lifting', 'lifted', 'lift', 'lifetime', 'lifeskilled', 'lifesize', 'lifegiving', 'lieutenants', 'lieu', 'licentiate', 'licenses', 'licence', 'librarian', 'liberties', 'liberality', 'liberalism', 'liberalisation', 'liaquat', 'liaison', 'li', 'lhasa', 'lfs', 'lexicographer', 'lets', 'leto', 'lethargy', 'lesson', 'lesser', 'leprosy', 'leon', 'lentils', 'lentic', 'lent', 'lengths', 'lengthened', 'lengta', 'lends', 'lenders', 'lekhani', 'lekhak', 'legume', 'legitimate', 'legislate', 'legendary', 'legally', 'legalistic', 'leg', 'leelabati', 'ledger', 'leather', 'leasing', 'leaseholders', 'leaning', 'leagues', 'lbs', 'lays', 'layers', 'lay', 'laxmanpur', 'laxatives', 'lawenforcing', 'lavlu', 'lavish', 'lauyo', 'laundering', 'laundered', 'launchings', 'launch', 'laukati', 'latkon', 'latin', 'latiban', 'lathi', 'latest', 'laterites', 'latenineteenth', 'lat', 'lasting', 'lasted', 'larkins', 'largesized', 'lansdowne', 'lans', 'langal', 'langadu', 'lang', 'lane', 'landslides', 'landscapes', 'landrevenue', 'landowners', 'landmasses', 'landmass', 'landmark', 'landing', 'landholdings', 'landholding', 'landholder', 'lamps', 'lamination', 'laments', 'lalpur', 'lalmohammad', 'lalitakala', 'lalit', 'lal', 'laksminarayana', 'laksmanasena', 'lakshmipur', 'lakshmikundi', 'lakshmichhari', 'lakshmansree', 'laksam', 'lakruwa', 'lakhsminarayan', 'lakhs', 'lakhnor', 'laiharaoba', 'lai', 'lahiri', 'lagoons', 'lage', 'ladybird', 'lady', 'laden', 'ladder', 'ladai', 'lactating', 'lacs', 'labs', 'labours', 'labouring', 'labonney', 'labelling', 'la', 'kyd', 'kuur', 'kutir', 'kuti', 'kuthi', 'kusum', 'kushinagar', 'kuruksetra', 'kurpala', 'kuriana', 'kundi', 'kundeswari', 'kumud', 'kumarpara', 'kumarkhali', 'kumarila', 'kumaria', 'kulliyatitapish', 'kulia', 'kulapavji', 'kulaji', 'kuiachhara', 'kuchma', 'kuch', 'kuakata', 'kshirod', 'kshatriya', 'ksatriya', 'kriya', 'krishnapur', 'krishnanagar', 'krishnaleela', 'krisha', 'krisak', 'kriparam', 'kripalani', 'kramreisch', 'kpp', 'koyra', 'kotwal', 'kotbari', 'kotal', 'koshanauka', 'korha', 'korean', 'kopai', 'koodi', 'konow', 'kong', 'kolkatabased', 'kolkatabarrackpore', 'kol', 'kodal', 'koch', 'kobadakarpangachhiamalancha', 'kobadak', 'knobs', 'knitting', 'knew', 'knees', 'kmhr', 'kmh', 'kitnashak', 'kites', 'kitchens', 'kitab', 'kismat', 'kirtana', 'kirmani', 'kiosks', 'kinship', 'kingfishers', 'kindness', 'kilometre', 'kilometers', 'killa', 'kidnapping', 'kichhu', 'kibria', 'kiamolupo', 'khushbagh', 'khurshid', 'khumee', 'khufianavis', 'khubjipur', 'khowaz', 'khongta', 'khondkar', 'khoir', 'khodar', 'khizrpur', 'khilgaon', 'kheyal', 'khetu', 'khesari', 'khen', 'khelaghar', 'khela', 'khazanchi', 'khawja', 'khatup', 'khatriyas', 'khata', 'khasru', 'khasrau', 'khasias', 'khas', 'kharki', 'kharka', 'kharandwip', 'khanum', 'khansama', 'khanqahs', 'khankas', 'khanka', 'khanjon', 'khanikhanan', 'khandaker', 'khandakar', 'khanbari', 'khamvaj', 'khaljis', 'khalishpur', 'khaleque', 'khaled', 'khair', 'khagrachhari', 'khafi', 'khadga', 'khadergaon', 'khadem', 'kgha', 'kg', 'keyboards', 'keyang', 'kew', 'ketan', 'kesharpar', 'keshabs', 'keshab', 'keralkata', 'kendra', 'kenaf', 'kellner', 'kedar', 'kedamara', 'kcsi', 'kazipara', 'kazemuddin', 'kayettoli', 'kayets', 'kayekjan', 'kawran', 'kawlichhara', 'kawalis', 'kavyamimamsa', 'kavya', 'kaviyal', 'kaviraja', 'kaviraj', 'kavi', 'kautilyas', 'kautilya', 'kausambi', 'katyayani', 'katra', 'kathmandu', 'kathin', 'kathiawar', 'kathgarh', 'katharak', 'kathal', 'kathakali2', 'kathak', 'katakhali', 'kastul', 'kashmir', 'kashiara', 'kasemnagar', 'karuna', 'kartalab', 'kartabhoja', 'karpeles', 'karotoa', 'karmabonds', 'karma', 'karkuns', 'karkun', 'karjaboli', 'karims', 'kargaon', 'karen', 'karati', 'karatal', 'karamat', 'karakandi', 'kara', 'kaptan', 'kapashgola', 'kanungo', 'kanu', 'kantideva', 'kanthalia', 'kansaru', 'kankra', 'kangal', 'kaneezes', 'kandirpar', 'kandi', 'kandas', 'kanchanpur', 'kanchan', 'kanauj', 'kanai', 'kanads', 'kamta', 'kamrup', 'kamrunnesa', 'kamrul', 'kamlapur', 'kamij', 'kamboja', 'kamauli', 'kamatakoch', 'kamarupakamarupa', 'kamarkhond', 'kamarkhola', 'kamarkhanda', 'kamaluddin', 'kamalpur', 'kamalaksh', 'kamakhya', 'kalurghat', 'kaludaga', 'kalpana', 'kalmegha', 'kallani', 'kalka', 'kalinga', 'kalinath', 'kalimandir', 'kalika', 'kalighat', 'kaliganj', 'kalidasa', 'kalidaha', 'kalicharan', 'kaliais', 'kalhu', 'kalerpara', 'kalekhan', 'kalaroa', 'kalam', 'kalakendra', 'kalaidhar', 'kala', 'kakubh', 'kakrail', 'kajimpin', 'kajalrekha', 'kaiyer', 'kaivartas', 'kailail', 'kaikobad', 'kaibarta', 'kahu', 'kahnapa', 'kahini', 'kagajpukur', 'kadcha', 'kadambini', 'kachi', 'kacher', 'kachari', 'kachamatia', 'kabuli', 'kabul', 'kabirs', 'kabindravachanasamuchchaya', 'jyotibhusan', 'jvanpradip', 'jvanchautisha', 'jvana', 'juxtapose', 'justly', 'justified', 'jusarte', 'jurisprudential', 'jungles', 'juncture', 'jummaland', 'jumma', 'jumlas', 'jujube', 'jujuba', 'judged', 'judan', 'judaism', 'jubo', 'jubayar', 'jsd', 'joynagar', 'joymanirhat', 'jouranal', 'joupurhat', 'jotedars', 'joshua', 'joseph', 'jor', 'joining', 'jogiya', 'jogesh', 'jobbing', 'jnanadas', 'jnanadanandini', 'jitendranath', 'jira', 'jimmadar', 'jibener', 'jibanananda', 'jiban', 'jiat', 'jhutipunia', 'jhumur', 'jhingrabari', 'jhilwanja', 'jhijhint', 'jhenaidah', 'jewellery', 'jesus', 'jeremy', 'jeon', 'jenkins', 'jellyfish', 'jellies', 'jeepst', 'jeep', 'je', 'jayenuddin', 'jaydhak', 'jayasree', 'jayaskandhavara', 'jayanta', 'jawaharlal', 'jaw', 'javanica', 'jaunpuri', 'jaundice', 'jatindra', 'jatin', 'jaswant', 'jasordi', 'jaskas', 'jasim', 'jasadrab', 'jariyali', 'jarigan', 'jar', 'janmastami', 'jangnamah', 'jangipur', 'jangal', 'janaza', 'janata', 'janapada', 'jamunnesari', 'jamuneshwari', 'jamtail', 'jamini', 'jamilur', 'jamiatiulamahibangalah', 'jamiatiahl', 'jamiateulama', 'jamata', 'jamat', 'jamalganj', 'jamal', 'jamaikata', 'jamaica', 'jamai', 'jamaat', 'jalmohals', 'jaleswar', 'jalam', 'jaladurga', 'jakarta', 'jakarin', 'jajnagar', 'jajira', 'jajims', 'jaipurhat', 'jainuddins', 'jaintias', 'jainta', 'jains', 'jainpurkalagol', 'jainas', 'jain', 'jaimini', 'jails', 'jaijaidin', 'jaharpur', 'jahannuma', 'jahangiar', 'jago', 'jaglul', 'jagir', 'jagdal', 'jagattarini', 'jagatchandra', 'jagadishi', 'jagaddhatri', 'jagaddal', 'jaduder', 'jadu', 'jadi', 'jadavpur', 'jackpot', 'jackal', 'jabbalpur', 'jaabhekar', 'iwaz', 'ittefaq', 'itsings', 'itkhola', 'itihas', 'iti', 'itf', 'itesamuddin', 'iswar', 'istiak', 'ispahanis', 'ispahani', 'ispahan', 'isolation', 'isolating', 'isolated', 'islets', 'islams', 'islamabadi', 'islaalso', 'ishwar', 'ishvara', 'isc', 'irrigable', 'irrespective', 'irrational', 'irradiation', 'irdp', 'iqtas', 'iqbal', 'ipta', 'ippt', 'ipp', 'ipo', 'ipm', 'invisible', 'investors', 'investing', 'investigations', 'investigated', 'inverse', 'invention', 'invariably', 'invaluable', 'intrusion', 'introduces', 'intricacy', 'intricacies', 'intratribe', 'intraclan', 'intodormals', 'intimate', 'intiated', 'interventions', 'intervening', 'intertribe', 'interstate', 'interrupted', 'interrupt', 'interrogative', 'interreligion', 'interregional', 'interpretive', 'interpreting', 'interpreted', 'interned', 'internecine', 'intermixing', 'intermittent', 'interliked', 'interiors', 'intergovernmental', 'interference', 'interfaces', 'intercommunity', 'interceded', 'intercaste', 'interagency', 'interaction', 'intensity', 'intensified', 'intended', 'intelpost', 'intelligence', 'intellect', 'intake', 'inta', 'insurer', 'instrumentalist', 'instructor', 'instructional', 'instructed', 'institutionscolleges', 'institutionally', 'institutionalised', 'institutionalisation', 'institutional', 'inspiration', 'insistence', 'insisted', 'insignificant', 'insignia', 'insightful', 'insidious', 'inservice', 'inseparable', 'insecurity', 'insectivorous', 'insecticides', 'insecticide', 'inorganic', 'innovative', 'innovation', 'innermost', 'injury', 'injunction', 'initiation', 'inhuman', 'inheritance', 'inhalation', 'inhabits', 'inhabiting', 'ingredients', 'ingredient', 'ingestion', 'infusing', 'infused', 'infrastructure', 'infraction', 'informing', 'informed', 'influx', 'inflows', 'inflammation', 'infertile', 'inferiority', 'infections', 'infect', 'infantry', 'infanticide', 'infant', 'inexperienced', 'inexile', 'inevitable', 'inert', 'inefficiencies', 'industrialization', 'industrialist', 'induction', 'induced', 'indore', 'indopakistan', 'indopak', 'indobangladesh', 'indispensable', 'indira', 'indigoplanter', 'indies', 'indicator', 'indicated', 'indexes', 'indepth', 'independently', 'indefinite', 'indebtedness', 'incurred', 'incurable', 'incriminating', 'increasingly', 'incorporates', 'inconvenient', 'inconsistent', 'incomplete', 'incomes', 'incidents', 'incidentally', 'incidental', 'inches', 'inc', 'inauguration', 'inanimate', 'inani', 'inamul', 'inam', 'inadequate', 'ina', 'impurity', 'impure', 'imprudent', 'improvising', 'improvised', 'improved', 'imprisoning', 'imprest', 'impression', 'imports', 'importer', 'implying', 'implies', 'implied', 'implication', 'implementing', 'imperialists', 'imperialist', 'imperialism', 'imperfect', 'impending', 'impelled', 'impeachment', 'impatience', 'imparts', 'imparting', 'immoral', 'imminent', 'immemorial', 'imitated', 'imitate', 'imf', 'iman', 'imamvijay', 'imams', 'imagined', 'illustrations', 'illustrated', 'illustrate', 'illuminated', 'illogical', 'illiterates', 'illegitimate', 'illegal', 'ilbert', 'ijtema', 'iia', 'ignored', 'ignore', 'ignorance', 'ignominy', 'igneous', 'ific', 'ifad', 'ies', 'ier', 'idrakpur', 'idiots', 'ideology', 'ideological', 'identities', 'identifying', 'identification', 'identical', 'ideals', 'idealistic', 'idb', 'ics', 'iconic', 'icmh', 'ichhamoti', 'ichamati', 'iceberg', 'icddrb', 'ibne', 'ibises', 'iaea', 'ia', 'hypothetically', 'hypothesis', 'hypothermia', 'hypostyle', 'hypethral', 'hymn', 'hye', 'hydroxy', 'hydrostatic', 'hydrogeological', 'hydrocarbons', 'hyderabad', 'huts', 'husne', 'husbandry', 'husaini', 'husainabad', 'huque', 'huqleague', 'hunts', 'hunted', 'hunger', 'hundreds', 'humus', 'humoural', 'humin', 'hume', 'humans', 'humanitarian', 'huen', 'huda', 'hub', 'hshaped', 'hsc', 'howlader', 'householss', 'housed', 'hotspot', 'hostile', 'hossains', 'hosiery', 'hosain', 'hosaen', 'horticulture', 'horsemen', 'horsedrawn', 'horseback', 'horns', 'hordes', 'hopsing', 'hops', 'hopkins', 'hoped', 'hope', 'hooves', 'hooks', 'hoods', 'honouring', 'honourary', 'hong', 'honeycomb', 'honeybees', 'honeybee', 'honest', 'homosapiens', 'homna', 'hominids', 'homesteads', 'homemade', 'homeless', 'homeland', 'holland', 'holistic', 'holiday', 'holi', 'hole', 'holder', 'hoia', 'hockey', 'hoarapara', 'hm', 'hives', 'hive', 'hiuentsang', 'hit', 'historiography', 'historicity', 'historicalgeographical', 'hiroshima', 'hire', 'hiraztullah', 'hiram', 'hirak', 'hinge', 'hinganagar', 'hindustani', 'hindubuddhist', 'himu', 'himagna', 'hijri', 'highways', 'highway', 'highlight', 'highlevel', 'highlands', 'highhandedness', 'highdensity', 'highcost', 'hifzul', 'hieun', 'hierarchic', 'hiding', 'hides', 'hide', 'hidden', 'hickys', 'hicky', 'hi', 'heterogeus', 'heterogeneous', 'hesitation', 'hesitate', 'heshe', 'herschell', 'heroworship', 'herostones', 'herons', 'heron', 'heroism', 'hero', 'hermaphrodite', 'heritiera', 'heretical', 'heredity', 'herbs', 'herbal', 'hepatic', 'hens', 'hemp', 'hemispherical', 'hemanta', 'hemakana', 'heliothis', 'helena', 'helen', 'helali', 'heir', 'hedges', 'hectare', 'heberden', 'heating', 'hearing', 'healed', 'headquarter', 'headmaster', 'headgarland', 'headache', 'hc', 'hbv', 'hazradanga', 'hazari', 'hazards', 'hayat', 'hawlader', 'hawla', 'hawkers', 'haweli', 'hawaii', 'hawabibi', 'haura', 'hatibagan', 'hatdao', 'hatched', 'hastened', 'hasnat', 'hasnabad', 'hasina', 'hashmat', 'hashim', 'hashem', 'hasemi', 'hasaner', 'hasal', 'harwi', 'harvested', 'hartog', 'harrow', 'harriers', 'harni', 'harmonium', 'harmoniously', 'harmful', 'harmed', 'harishpur', 'harishchander', 'harish', 'harisadhan', 'harinabhi', 'harikot', 'hariharer', 'haridas', 'hariana', 'hariabhanga', 'hare', 'hardy', 'hardworking', 'hardship', 'hardboard', 'harassed', 'haraprasad', 'harabati', 'happy', 'happiness', 'hanuman', 'hantal', 'hannan', 'hanjail', 'hanging', 'hanged', 'handling', 'handknife', 'handball', 'hanafi', 'hamoodur', 'hamidullah', 'hamidul', 'hameed', 'hamdard', 'hamai', 'hamadryad', 'halheds', 'halfcylindrical', 'halfakhdai', 'haldar', 'halayud', 'halams', 'halam', 'halal', 'haladhar', 'hakimpur', 'hakaluki', 'hajj', 'hajirbagh', 'hajati', 'haimchar', 'haideris', 'haidarabad', 'haidar', 'hagiography', 'hagiographical', 'haemorrhage', 'haematology', 'habituated', 'habitation', 'habitat', 'habit', 'habibullahs', 'habibulla', 'habibuddin', 'habibs', 'gymnosperms', 'gymnast', 'gusti', 'gurusaday', 'guruprasanna', 'guruchand', 'gurnai', 'gurmukh', 'gupter', 'gunny', 'gunguru', 'gunavati', 'gunaraj', 'gum', 'gujarat', 'guise', 'guilds', 'guiding', 'guhathakurta', 'guha', 'gugrahati', 'guests', 'guesthouses', 'guess', 'guerilla', 'gud', 'guarding', 'guardianship', 'guardians', 'guardian', 'guard', 'guaranteed', 'guarantee', 'guakhola', 'gt', 'grt', 'grows', 'groves', 'groupformation', 'groundwork', 'grounded', 'grounddwellers', 'grooms', 'grohan', 'grinding', 'grihayan', 'griffith', 'grievances', 'greyer', 'gregorian', 'gregarys', 'gregariously', 'gregarious', 'greeks', 'greeds', 'greece', 'greatgrandfather', 'gravels', 'grasslands', 'grasserie', 'grass', 'granthabali', 'grandsons', 'grandees', 'grand', 'granaries', 'gramophone', 'grammars', 'grambarta', 'graduating', 'graduate', 'graded', 'grade', 'gracefully', 'graben', 'gpo', 'govindadas', 'govichandra', 'goverr', 'governorgeneralincouncil', 'governorgeneral', 'govardhana', 'goutam', 'gouripur', 'gosthi', 'gorkys', 'gorge', 'gorakhpur', 'gopla', 'gopis', 'gopini', 'gopalpur', 'gopalgonj', 'gopalganjkhulna', 'gopala', 'gopachandra', 'gonslaves', 'gonsalves', 'gone', 'gondwana', 'gomej', 'gomastapur', 'golkhali', 'golapganj', 'golagi', 'goina', 'goes', 'goddesses', 'gobra', 'gobachharimukh', 'gob', 'goats', 'goat', 'goalagop', 'gneiss', 'gmp', 'glossed', 'glory', 'glodsmith', 'globally', 'globalisation', 'glazed', 'glaze', 'glasgow', 'glacioisostatic', 'gl', 'gitagovinda', 'gita', 'girujan', 'girindramohini', 'girijanath', 'gilding', 'gilded', 'gilchrest', 'gifts', 'giant', 'ghuri', 'ghughrahati', 'ghosts', 'ghorids', 'ghorapir', 'ghogra', 'gheria', 'ghaznavids', 'ghaznavi', 'ghazis', 'ghatwals', 'ghats', 'gharana', 'ghanaram', 'ghagutia', 'ghagar', 'gg', 'gestures', 'gesture', 'germany', 'geriatric', 'geosynclinal', 'geophysics', 'geophysical', 'geomorphic', 'geographically', 'genus', 'genuinely', 'gentry', 'gentlemen', 'gentle', 'genocides', 'genocidal', 'geneva', 'genetic', 'genesis', 'generosity', 'generators', 'generating', 'generalisation', 'genera', 'genealogy', 'genealogical', 'gena', 'gems', 'geeti', 'gecko', 'gaziuddin', 'gazirpat', 'gazipir', 'gaziala', 'gazettes', 'gazaria', 'gazal', 'gayin', 'gaye', 'gavialis', 'gautam', 'gaurlakhnauti', 'gauriya', 'gaudiya', 'gaudian', 'gaudapatis', 'gathers', 'gatewayroom', 'gateway', 'gates', 'gasfield', 'gases', 'garohajang', 'garnered', 'garkuri', 'garjan', 'garidaha', 'garhlands', 'garhgaon', 'garh', 'garbage', 'ganjixahidan', 'ganguly', 'gangliosides', 'gangeticus', 'gangespadma', 'gangesbrahmaputra', 'gangchil', 'gangaridai', 'gangadhar', 'gandaria', 'ganasahitya', 'ganaparisad', 'ganabangla', 'gametophytic', 'gama', 'galvanometer', 'galpa', 'galleries', 'gallantry', 'galena', 'gajapati', 'gajans', 'gajan', 'gaisberg', 'gaining', 'gailes', 'gaigodani', 'gaibandha', 'gahira', 'gaharjan', 'gafoor', 'gaffar', 'gadadhari', 'gadadhar', 'gables', 'gaa', 'g', 'fy', 'futility', 'furthermore', 'furred', 'furniture', 'furnishing', 'furnishes', 'furnace', 'funding', 'fundamentals', 'fundamentalist', 'functioned', 'fulta', 'fulminant', 'fulllength', 'fuelwood', 'ftip', 'ft', 'frustration', 'fruitbearing', 'fronton', 'frontality', 'frogs', 'fritz', 'fringed', 'friezes', 'friendship', 'friends', 'freshwaters', 'freshly', 'frequenting', 'frequent', 'frequency', 'freethinking', 'freelance', 'frcs', 'franoise', 'franking', 'francois', 'franchise', 'framing', 'frames', 'framed', 'fragrant', 'fragments', 'fragmented', 'fractions', 'fractionation', 'foxes', 'fouryear', 'fourtiered', 'fourtier', 'fourteenthcentury', 'fourteenth', 'fourteen', 'fourpoint', 'fourlargest', 'fourcornered', 'fouranna', 'fountains', 'foul', 'fouj', 'fostered', 'foster', 'fortyfive', 'fortune', 'fortify', 'forthwith', 'forsake', 'formulated', 'formula', 'formosa', 'formative', 'format', 'forgot', 'forestland', 'forested', 'foreshadowed', 'foremost', 'forcing', 'forage', 'footsteps', 'foodproduct', 'foodproducing', 'fomes', 'followups', 'folkpoet', 'folklorist', 'folklore', 'folkfair', 'folkdrama', 'foil', 'fogging', 'foes', 'focal', 'fly', 'fluviatile', 'fluid', 'flowerbearing', 'flower', 'flourising', 'florida', 'floodwaters', 'floodwater', 'floodfree', 'floodforecast', 'flings', 'flesh', 'fledged', 'fled', 'flattopped', 'flashy', 'flash', 'flame', 'flacherie', 'fixtures', 'fix', 'fiveyear', 'fiveroomed', 'fivedomed', 'fitted', 'fitr', 'fitch', 'fit', 'fishers', 'fisherfolk', 'fisher', 'firstly', 'firoj', 'firmness', 'firingee', 'firewood', 'fired', 'firealtar', 'finish', 'finial', 'fingernails', 'finger', 'fineness', 'finely', 'finegrained', 'findspots', 'findings', 'finding', 'financially', 'financed', 'filth', 'filter', 'filed', 'file', 'filamentous', 'figurines', 'figurative', 'fighter', 'fig5', 'fig40', 'fig1', 'fiftysix', 'fifties', 'fifthsixth', 'fifteenth', 'fiercely', 'fierce', 'fieldsetting', 'fielding', 'fiber', 'fewer', 'feuds', 'feudatories', 'feud', 'festivities', 'fertilizer', 'fertilisers', 'feringhees', 'fergusson', 'feora', 'fenugreek', 'feminist', 'feelings', 'feeds', 'fee', 'februarymarch', 'featured', 'feats', 'feast', 'feasible', 'fazlupur', 'favourably', 'fatwas', 'fatwabad', 'fattening', 'fatricidal', 'fatima', 'fatihakhwani', 'fatiha', 'fathijang', 'fathabad', 'fateybad', 'fatema', 'fatehpur', 'fatehjangpur', 'fatalist', 'fashion', 'farzand', 'farsipara', 'farruk', 'farreaching', 'farooq', 'farmer', 'faridpur3', 'faridi', 'farhadbeg', 'farflung', 'fared', 'faraizi', 'faqir', 'fanfare', 'familys', 'familial', 'false', 'falling', 'falgun', 'fakirs', 'fakih', 'fakhruddin', 'faizunnesa', 'faizul', 'faithful', 'faith', 'fairytales', 'fairytale', 'faima', 'faeces', 'faded', 'factions', 'factionridden', 'faction', 'facilitated', 'facets', 'facaoeast', 'facades', 'fa', 'extremity', 'extravagance', 'extraordinary', 'extraordinarily', 'extracts', 'extractions', 'extraction', 'extra', 'extinction', 'externally', 'exteriors', 'exteriorly', 'extensions', 'expressionism', 'exposure', 'exploring', 'explore', 'exploited', 'exploitations', 'exploit', 'explains', 'explained', 'explain', 'experimenting', 'expensive', 'expenditures', 'expelling', 'expelled', 'expecting', 'expectations', 'expand', 'expample', 'exits', 'exit', 'exists', 'existentialism', 'existed', 'exiled', 'exhibits', 'exhibitors', 'exempted', 'excoecaria', 'exclusive', 'excitement', 'excitation', 'exchangeable', 'exceptions', 'excepting', 'excellent', 'excelled', 'exceed', 'exacting', 'ew', 'evolution', 'evil', 'evidenced', 'everywhere', 'everything', 'everyone', 'everswimming', 'eventful', 'evening', 'evans', 'evaluated', 'evaluate', 'evacuated', 'eulogistic', 'eulogised', 'etymologically', 'eton', 'ethnological', 'ethanol', 'eternity', 'etched', 'estranged', 'estimates', 'estimate', 'est', 'essence', 'essay', 'esraj', 'esprit', 'espoused', 'espouse', 'esculent', 'escapes', 'erudite', 'erstwhile', 'errors', 'erratic', 'erosional', 'erecting', 'erd', 'equivalent', 'equally', 'equalled', 'equalisation', 'epochs', 'epoch', 'episode', 'epigraphs', 'epigraph', 'epidiorite', 'epidemiology', 'epicentres', 'eocene', 'envisaged', 'environments', 'environmentally', 'enunciating', 'enunciated', 'enunciate', 'entries', 'entreating', 'entity', 'entitlement', 'entities', 'enthusiastic', 'entertaining', 'entente', 'entangled', 'ensuring', 'ensure', 'ensued', 'enrolment', 'enriching', 'enquiry', 'enlivened', 'enlist', 'enlightenment', 'enlighten', 'enjoys', 'enjoying', 'enjoined', 'enigmatical', 'enhances', 'enhance', 'engravings', 'engraved', 'engines', 'engineers', 'engine', 'engagement', 'enforced', 'endogenic', 'endocrine', 'endo', 'endeavours', 'endeavour', 'endeared', 'endangers', 'encyclopaedias', 'encroachment', 'encroached', 'encourage', 'enclaves', 'encircling', 'encasing', 'enayetullah', 'enayetpuri', 'enayet', 'enabled', 'en', 'empty', 'employing', 'employers', 'emphasizes', 'emphasized', 'emphasise', 'emotions', 'emotional', 'emitted', 'eminently', 'eminence', 'emerging', 'embracing', 'embrace', 'embodiments', 'embedded', 'embassies', 'emajuddin', 'elpiji', 'elphinstone', 'elphidium', 'elongatedlinear', 'elongated', 'ellice', 'elizabeth', 'elgins', 'elephants', 'elephantback', 'elegy', 'elegant', 'elegance', 'electrophysiological', 'electrical', 'elective', 'elect', 'eldest', 'elbows', 'elaborately', 'ekushe', 'ektara', 'ekhano', 'ekhane', 'ekdala', 'eighties', 'eidulfitr', 'eidul', 'ehnail', 'egrets', 'egret', 'egprp', 'ego', 'egarosindhur', 'egarasindur', 'effort', 'efficient', 'efficacy', 'effected', 'eel', 'editorials', 'edit', 'edilpur', 'edifice', 'edicts', 'edict', 'edge', 'edaphic', 'ecto', 'ecopark', 'economys', 'economies', 'econmising', 'ecology', 'echolocation', 'echinoderms', 'ebr', 'ebb', 'eaves', 'eating', 'eaters', 'easier', 'earthworms', 'earthworm', 'earths', 'earthenware', 'earnings', 'earnestly', 'dynamic', 'dyes', 'dyeing', 'dyed', 'dyarchy', 'dvorapavardhana', 'durkheim', 'durgotsab', 'durgapur', 'durganath', 'durbars', 'duplicated', 'dumuria', 'duma', 'dum', 'dull', 'duli', 'dulai', 'duke', 'duhkhir', 'duhkha', 'dugdugi', 'dug', 'duffrin', 'dues', 'duckweeds', 'dse', 'dsc', 'dryland', 'dryingout', 'drum', 'drshya', 'drove', 'droppings', 'dropped', 'dropout', 'drop', 'drooping', 'driving', 'drive', 'drishtir', 'drinkwater', 'drink', 'dressed', 'dreamy', 'dreaming', 'dreaded', 'draw', 'drastically', 'drastic', 'dramatizations', 'dramatists', 'dramas', 'dramabased', 'draining', 'dragonfly', 'dragged', 'draft', 'draco', 'dpds', 'dozen', 'dowry', 'downwelling', 'downstream', 'dove', 'doubtful', 'doubly', 'doublestoried', 'double', 'doti', 'dosta', 'doorsill', 'door', 'donors', 'donations', 'donate', 'domnakandi', 'dominates', 'dominate', 'dominance', 'domestication', 'domain', 'dolphin', 'dolerite', 'dole', 'dohas', 'dohara', 'doha', 'dogs', 'doga', 'documentation', 'documentary', 'documentaries', 'doctoral', 'doctor', 'dochhari', 'dochala', 'dobash', 'doab', 'dlitt', 'diwanibuyutat', 'diwali', 'divinity', 'divined', 'divine', 'dividing', 'diverted', 'diversity', 'diversion', 'diverse', 'diver', 'diurnal', 'dit', 'disturb', 'distributors', 'distributions', 'distributing', 'distorted', 'distinguish', 'distinctive', 'distilled', 'dissolving', 'dissolution', 'dissident', 'dissertation', 'disseminated', 'dissection', 'dissatisfaction', 'disrupted', 'disrupt', 'disputed', 'disproportionately', 'disposed', 'disposal', 'dispersion', 'dispensed', 'dispatches', 'dispassionate', 'disorders', 'disorder', 'dismay', 'dismantled', 'dislocation', 'disliked', 'disintegration', 'dishes', 'disheartened', 'disharmony', 'dish', 'discussing', 'discuss', 'discs', 'discriminatory', 'discoveries', 'discoverer', 'discourses', 'discounting', 'discount', 'disconnected', 'discomfiture', 'disclosed', 'disciplines', 'discharged', 'discernible', 'discarding', 'discarded', 'discard', 'disbanded', 'disastrous', 'disappointed', 'disappear', 'disallowed', 'disagreement', 'disability', 'dirty', 'direndra', 'directs', 'directives', 'directions', 'dirctor', 'diplomaincommerce', 'dipanchal', 'dipak', 'dip', 'diogo', 'dint', 'dinosaurs', 'dinonath', 'dinner', 'dinabandhu', 'diminution', 'diluvion', 'diligent', 'dilapidated', 'dilalpur', 'dike', 'dignitary', 'dignagar', 'diglots', 'digits', 'dighirpar', 'dighinala', 'dighapatia', 'dighalia', 'digha', 'diggings', 'digested', 'digda', 'differs', 'differently', 'differentiation', 'differential', 'diesel', 'dictionaries', 'dictator', 'dictates', 'dibas', 'diatoms', 'diastema', 'diary', 'diarrhoeal', 'diaries', 'diameter', 'dialects', 'dialect', 'diagnostic', 'diabetes', 'dhyani', 'dhvani', 'dhuya', 'dhuti', 'dhundul', 'dhunat', 'dhunari', 'dhuna', 'dhumali', 'dhrupad', 'dhruba', 'dhopakhali', 'dholak', 'dhivars', 'dhiraj', 'dhf', 'dheki', 'dhaush', 'dharmer', 'dharmaraja', 'dharmapasha', 'dharmanagar', 'dharmamangal', 'dharmagola', 'dhari', 'dharanibari', 'dhap', 'dhanya', 'dhanvantari', 'dhanuya', 'dhansri', 'dhanpur', 'dhanmondi', 'dhankolash', 'dhanbari', 'dhanasi', 'dhamma', 'dhamail', 'dhalai', 'dhakuria', 'dhakeswari', 'dhakas', 'dhakanepal', 'dhakanarayanganj', 'dhakacalcutta', 'dhak', 'dg', 'dfis', 'deyell', 'deyal', 'dewanganj', 'dew', 'devout', 'devotionalism', 'devoid', 'devithe', 'deviser', 'devikote', 'developments', 'developmentii', 'developers', 'devata', 'devas', 'devadasi', 'deva', 'deuls', 'deuli', 'deulbari', 'deul', 'detrimental', 'determining', 'determinations', 'deteriorating', 'deteriorates', 'detention', 'detainees', 'detainee', 'detailed', 'detachment', 'destructive', 'destroying', 'destroy', 'destiny', 'despoilers', 'despoiled', 'despised', 'desmids', 'desires', 'desirefree', 'desirable', 'designing', 'designer', 'designate', 'deshag', 'deserve', 'descriptive', 'descent', 'descends', 'descendant', 'desa', 'derogatory', 'depz', 'deprivation', 'depository', 'depositional', 'deported', 'deportation', 'deplorable', 'depleting', 'depiction', 'depicting', 'dependent', 'dependence', 'depended', 'dependants', 'departmental', 'deopara', 'deodar', 'deobhog', 'densely', 'dense', 'denounce', 'denotes', 'denoted', 'denominations', 'denmomar', 'demonstrating', 'demonstrates', 'demonstrated', 'demoiselle', 'demographic', 'demesne', 'demarcating', 'demarcated', 'demander', 'deltaic', 'deliveries', 'deliverance', 'deliver', 'delineation', 'delicious', 'delegated', 'delay', 'delawar', 'del', 'dejected', 'dehatatva', 'degraded', 'defying', 'defused', 'deflect', 'definitive', 'defines', 'define', 'defensive', 'defences', 'defaulting', 'defaulter', 'deer', 'deepest', 'deeper', 'deepened', 'deductions', 'decrees', 'decreed', 'decree', 'decreased', 'decorations', 'decorate', 'declaring', 'declare', 'decisions', 'deciphering', 'deciphered', 'decennial', 'decca', 'decaying', 'decayed', 'debts', 'debtor', 'debilitated', 'debi', 'debentures', 'debendra', 'debauch', 'debates', 'debated', 'dealt', 'deals', 'dealings', 'dealing', 'dealers', 'daytoday', 'daybiting', 'dawn', 'daulatpur', 'daulat', 'daulahs', 'dauki', 'dauds', 'daudkandi', 'dating', 'database', 'dasis', 'dashu', 'dashani', 'darsiat', 'darshana', 'darshan', 'darpan', 'darogahimalbus', 'darogahidak', 'darogah', 'dariyaon', 'daring', 'daradmand', 'darab', 'dankuni', 'daniul', 'dani', 'dangerously', 'danga', 'dancing', 'danaidaha', 'dan', 'damuda', 'dampha', 'damp', 'damodar', 'daman', 'damaged', 'dam', 'dalpur', 'dalia', 'dali', 'dalan', 'dalals', 'dakur', 'daksineshvara', 'dakhin', 'dakarnava', 'dai', 'dahri', 'dahana', 'dag', 'dafa', 'dadra', 'dadeldhura', 'dadan', 'dacope', 'dabkanritya', 'dabbler', 'dab', 'da', 'd1883', 'd1832', 'cylindrical', 'cyclodien', 'cuttlefish', 'cute', 'cutch', 'customsofficers', 'customers', 'custody', 'custodians', 'cuspings', 'cusped', 'cusp', 'cushions', 'curzons', 'curvature', 'curtail', 'curries', 'curriculum', 'curricula', 'curlew', 'curious', 'curing', 'curb', 'cupolas', 'cup', 'cunningham', 'cumulative', 'cumin', 'culverts', 'cultured', 'culturally', 'cultivators', 'cultivating', 'cultivate', 'cultivable', 'cult', 'culminating', 'culminated', 'cufl', 'cuba', 'csid', 'csi', 'crystalline', 'crystal', 'crustaceans', 'crustacean', 'cruise', 'cruelty', 'cruciform', 'crucial', 'crp', 'crosslegged', 'crossborder', 'cross', 'croplands', 'crooked', 'crocodylus', 'croaking', 'critics', 'criticized', 'crisscross', 'crispum', 'criscrossing', 'criminals', 'criminality', 'crevices', 'crematorium', 'cremate', 'creighton', 'creepers', 'credits', 'credited', 'creams', 'creaking', 'craze', 'crayfish', 'crawls', 'craving', 'crash', 'crane', 'craft', 'cradle', 'crackdown', 'crack', 'cr', 'cpp', 'cpi', 'cpb', 'cox', 'cowrie', 'cowherds', 'cowdung', 'coveted', 'coves', 'coverage', 'covenant', 'covelline', 'courtiers', 'courted', 'couplets', 'couplet', 'countryside', 'counted', 'counsel', 'councilors', 'costume', 'costly', 'costing', 'corruption', 'corridor', 'corresponding', 'correspondence', 'corrective', 'correct', 'corps', 'cornices', 'cornice', 'coriander', 'cordial', 'coquina', 'copying', 'copperplates', 'copper', 'copies', 'copepods', 'copenhagen', 'coordinated', 'coopting', 'cooling', 'cool', 'cookers', 'cooker', 'cooke', 'convinced', 'convicted', 'conveying', 'conveyance', 'conversant', 'conventions', 'conventional', 'convent', 'conveniences', 'convened', 'controversies', 'controversial', 'controls', 'contribute', 'contracts', 'contractors', 'contractor', 'contours', 'continue', 'continents', 'contiguous', 'contesting', 'contentious', 'contenders', 'contemplation', 'contaminate', 'container', 'consulting', 'constructional', 'constructing', 'construct', 'constricted', 'constituting', 'constitutes', 'constitute', 'constituents', 'constantly', 'constant', 'conspirators', 'conspicuous', 'consortium', 'consolidating', 'consolidated', 'considering', 'consideration', 'conservatives', 'conservations', 'consequences', 'consent', 'consecutive', 'conscience', 'consanguineous', 'conquests', 'conquerors', 'conqueror', 'conquering', 'conquer', 'connotation', 'connoisseurs', 'connects', 'connecting', 'conjunctive', 'conjunction', 'conjugal', 'conicalshaped', 'congregation', 'confusion', 'confuses', 'confused', 'conform', 'confiscation', 'confirmation', 'confidential', 'conferring', 'conduit', 'conditionalities', 'condemns', 'condemned', 'condemn', 'concurrent', 'concurred', 'concretions', 'conclude', 'conchshell', 'conchs', 'conch', 'concentrating', 'concave', 'comul', 'comrade', 'computers', 'computerrun', 'computerised', 'computerculture', 'computation', 'compressional', 'compressibility', 'comprehension', 'comprehend', 'compounds', 'composting', 'composted', 'complimentary', 'complicated', 'complexity', 'complexion', 'complexes', 'completing', 'completes', 'compiling', 'compiles', 'compile', 'compilation', 'competitive', 'competition', 'competing', 'competes', 'competent', 'compete', 'compelling', 'compatriot', 'comparatively', 'companion', 'commuted', 'communique9', 'communicated', 'commonwealth', 'commons', 'commonalities', 'commitment', 'commercially', 'commented', 'commensals', 'commended', 'commemorative', 'commemorating', 'commemorate', 'commands', 'commandos', 'commanderinchief', 'combs', 'combining', 'combing', 'combatting', 'columns', 'columbus', 'colubrid', 'colourful', 'colors', 'colonialism', 'collocation', 'collins', 'collectively', 'collective', 'collateral', 'collapsed', 'collaborator', 'coleopteran', 'colas', 'cola', 'coined', 'coinage', 'coherent', 'coexistence', 'coercion', 'coelenterates', 'coeducation', 'codes', 'coconada', 'cocked', 'cock', 'cobra', 'coauthored', 'coatings', 'coastline', 'coast', 'coalition', 'cmla', 'clubbed', 'clove', 'cloths', 'clothes', 'closing', 'clives', 'climbing', 'climbers', 'climb', 'climaxed', 'climatic', 'climates', 'clientele', 'client', 'clicking', 'clerks', 'clerk', 'clergymen', 'clerestory', 'cleghora', 'cleavage', 'cleared', 'cleaning', 'clean', 'clayey', 'clause', 'classifications', 'classic', 'clashes', 'clash', 'clark', 'clarify', 'clam', 'claims', 'claiming', 'claimed', 'claimant', 'cladocera', 'civilisations', 'civilians', 'civilianising', 'citizen', 'circumstance', 'circumcised', 'circular', 'circuit', 'circling', 'cinemahalls', 'cinchona', 'churned', 'churches', 'churain', 'chunta', 'chunarughat', 'chumlai', 'chukainagar', 'cht', 'chronological', 'chronicles', 'chronic', 'christs', 'chowki', 'chowk', 'chowdhuri', 'chowdhary', 'chottopadhyay', 'chottobhukto', 'chota', 'choice', 'chocolatebrown', 'chnadra', 'chlorinated', 'chixtiya', 'chivar', 'chittavixuddhiprakarana', 'chittagonians', 'chittagonian', 'chitta', 'chitrangada', 'chithi', 'chisti', 'chishtiya', 'chisels', 'chiselled', 'chiradhuni', 'chintamani', 'chill', 'childrens', 'childmarriage', 'childless', 'childhood', 'childcare', 'chilahati', 'chikali', 'chihil', 'chieftains', 'chickpea', 'chickenpox', 'chicken', 'chheunriya', 'chhele', 'chhayabithi', 'chhandey', 'chhakarmar', 'chengti', 'cheese', 'checkup', 'checked', 'check', 'cheaply', 'chawk', 'chawdhury', 'chausa', 'chaumatha', 'chauddagramer', 'chatuhxatika', 'chatterjis', 'chattagrami', 'chattagram', 'chatmohor', 'chatkhil', 'chatgaon', 'chaste', 'charyagiti', 'charya', 'charvaka', 'charu', 'charter', 'charnock', 'charmer', 'charland', 'charka', 'charitamrta', 'charit', 'charghat', 'charges', 'characterized', 'characteristically', 'chaprashirhat', 'chapailya', 'chapai', 'chapa', 'chaos', 'chanted', 'changing', 'chandrima', 'chandrika', 'chandravatir', 'chandravati', 'chandravarmankot', 'chandramukhi', 'chandrakona', 'chandraketugarh', 'chandragomis', 'chandradwip', 'chandradvipa', 'chandi', 'chandannagar', 'chanchari', 'chancery', 'championship', 'champaran', 'chalukyas', 'chalta', 'challenging', 'challenged', 'chalisha', 'chalcopyrite', 'chalcocite', 'chalan', 'chakua', 'chakrayudha', 'chakran', 'chakra', 'chakla', 'chakaria', 'chak', 'chaitanyas', 'chaitanyadev', 'chaitannya', 'chairs', 'chai', 'chabuki', 'cgdf', 'cessation', 'certified', 'certainty', 'cephalopod', 'centrifugal', 'centred', 'centralism', 'centkwh', 'centers', 'center', 'centenary', 'censor', 'cemetery', 'cellulose', 'cellular', 'cell', 'celebrations', 'celebrate', 'cecil', 'cec', 'ceasefire', 'ceased', 'cdbl', 'ccs', 'cbm', 'cavalry', 'cautionary', 'causation', 'caught', 'caucasoid', 'catla', 'cation', 'cathrine', 'catholic', 'cathedral', 'caterpillar', 'cater', 'categorised', 'catching', 'catastrophic', 'cataclysm', 'casters', 'castebased', 'carvings', 'carving', 'carve', 'cartoonist', 'cartoon', 'cartilaginous', 'carries', 'carriers', 'carrier', 'carriages', 'carpet', 'carpenters', 'carpenter', 'carnelian', 'carmicheal', 'carmichael', 'caribbean', 'cargo', 'careys', 'caretaker', 'careless', 'careers', 'cards', 'cardinal', 'cardiff', 'card', 'carbonates', 'carbonaceous', 'carbohydrate', 'carbamates', 'carapace', 'capturing', 'captures', 'captivity', 'capstone', 'caps', 'capitalisation', 'cape', 'capable', 'cap', 'canvas', 'cantos', 'cantonments', 'cantonment', 'cantilever', 'canterbury', 'cannings', 'canning', 'canis', 'canine', 'canada', 'camps', 'camphor', 'campbell', 'cameroon', 'cameron', 'cameras', 'cambrian', 'caloric', 'calling', 'caliphs', 'california', 'calicut', 'calendars', 'calculations', 'calculating', 'calamities', 'cakes', 'cages', 'cage', 'cag', 'cadets', 'cable', 'cabbage', 'cab', 'c15th', 'byproducts', 'bylaws', 'bygone', 'buzurg', 'buyutat', 'buying', 'buy', 'buxar', 'buwayhid', 'butterflies', 'butter', 'butcher', 'butane', 'busstand', 'businessmen', 'buses', 'burujer', 'bursting', 'buro', 'burmese', 'burman', 'burial', 'buri', 'burhanuddins', 'burhanuddin', 'buraich', 'bunglow', 'bundles', 'bulls', 'bullion', 'bulbulsized', 'bulbous', 'bughra', 'buffaloes', 'budhhata', 'buddhatva', 'bud', 'btv', 'btulb', 'bttb', 'btcl', 'bt', 'bscic', 'bsbk', 'bryophytes', 'brutally', 'brutal', 'brtc', 'brta', 'browsing', 'brothel', 'brood', 'broker', 'brojendra', 'broadly', 'broader', 'broadbased', 'brisbane', 'brinjal', 'brings', 'brindavan', 'brihatbango', 'brigade', 'briefly', 'briefed', 'brief', 'bridgepoles', 'brides', 'bridegroom', 'bridal', 'bricks', 'brickhunters', 'brickfields', 'brickbats', 'brenan', 'breeds', 'breed', 'breath', 'break', 'bread', 'breach', 'brass', 'brandis', 'branded', 'braj', 'braided', 'brahmi', 'brahmavaivartapurana', 'brahmaputrajamuna', 'brahmanpara', 'brahmanism', 'brahmanas', 'brahmaksatriyas', 'brahmachari', 'braganca', 'brackets', 'brachial', 'brabourne', 'bpml', 'bpcc', 'boyra', 'boyalkhali', 'boxirhat', 'bowling', 'boutique', 'boulder', 'boulai', 'bou', 'bottomfeeder', 'bottle', 'botica', 'bostami', 'boses', 'borrowings', 'borrowing', 'borrowers', 'borrowed', 'boroi', 'bornite', 'bores', 'borers', 'bore', 'borat', 'boons', 'booklungs', 'booklets', 'bookish', 'bones', 'bone', 'bonding', 'bonded', 'bonazes', 'bon', 'bombs', 'bomb', 'bolpur', 'boldly', 'bolan', 'bokainagar', 'bokabil', 'boiled', 'bohera', 'bohemianism', 'boghe', 'bof', 'bodily', 'bodhisattva', 'boars', 'boards', 'boarding', 'boardbased', 'bnm', 'bnfd', 'bncc', 'bnc', 'bmet', 'blunt', 'blueprint', 'bluegreen', 'blueblack', 'blri', 'blowing', 'blossomed', 'blooming', 'blocked', 'blochmann', 'blessing', 'blanfordii', 'blacksmiths', 'blackish', 'blackandwhite', 'bl', 'bizarre', 'biwtc', 'bitter', 'bitghar', 'bites', 'bitan', 'bishwanath', 'bishuddhananda', 'bishnupur', 'bishnu', 'bisfigram', 'bisfi', 'bisf', 'biscuit', 'births', 'birthplace', 'birtan', 'birsa', 'birishiri', 'birendra', 'birdem', 'biral', 'biraha', 'birabgana', 'bipragram', 'bipradas', 'biotite', 'bioscope', 'biometrica', 'biometric', 'biology', 'biography', 'biographical', 'binp', 'binodini', 'binod', 'binnie', 'bindur', 'binds', 'bimarebulbul', 'bima', 'bilkis', 'bilaterally', 'bilateral', 'bikash', 'bigha', 'biggest', 'bifurcated', 'bidyotsahini', 'bidyamoyee', 'bidrohi', 'bidding', 'bid', 'bicolor', 'bichitra', 'bicameral', 'bible', 'bibartan', 'biased', 'bias', 'bhusna', 'bhurshut', 'bhurisristi', 'bhurishresti', 'bhupendranath', 'bhumees', 'bhukti', 'bhukailash', 'bhudev', 'bhubanchandra', 'bhuban', 'bhraman', 'bhowal', 'bholain', 'bhojavarman', 'bhimer', 'bhima', 'bheel', 'bhawa', 'bhavatarini', 'bhavani', 'bhattasalis', 'bhattacharya', 'bhatta', 'bhatiyali', 'bhatiari', 'bhatgaon', 'bhasu', 'bhaskaravarmana', 'bhashan', 'bhasaratna', 'bhasa', 'bharats', 'bhangar', 'bhangabhita', 'bhanga', 'bhaluka', 'bhairavi', 'bhai', 'bhagavat', 'bhagalpur', 'bhagabachchandras', 'bhadu', 'bhadsa', 'bhadraghat', 'bhadra', 'bhaberpara', 'bhaber', 'bhabar', 'bhaban', 'bhabadeva', 'beveridge', 'beverage', 'betbunia', 'bestowed', 'bestknown', 'beside', 'bernier', 'berlin', 'berkeley', 'bereavement', 'bera', 'bepari', 'bentinck', 'benoybadaldinesh', 'benimadhab', 'bengalee', 'benevolent', 'benensen', 'benefit', 'beneficiary', 'beneficial', 'beneath', 'benches', 'benaras', 'benapole', 'benami', 'belur', 'beluchistan', 'belongings', 'bells', 'belkuchi', 'believing', 'believes', 'belava', 'belasyse', 'belaichhari', 'bej', 'beijing', 'behrampur', 'behest', 'behaved', 'behari', 'begni', 'begin', 'begging', 'beggar', 'begar', 'beeffattening', 'bee', 'bedouin', 'bedaruddin', 'bed', 'beats', 'beatitude', 'beating', 'bearers', 'beard', 'bean', 'bcs', 'bcom', 'bbs', 'bbd', 'bbc', 'bb', 'bazly', 'bazlur', 'bayonet', 'bayejid', 'bausia', 'bauls', 'baula', 'batuta', 'battuta', 'battola', 'battles', 'batting', 'batta', 'batsmen', 'bats', 'batik', 'batidao', 'bathrooms', 'bath', 'bastions', 'bastille', 'bastian', 'bastani', 'bast', 'basketful', 'basket', 'bashiruddin', 'baset', 'basantapur', 'basana', 'basalts', 'basak', 'baruis', 'baruipur', 'baru', 'bartabaha', 'barsha', 'barsakathi', 'bars', 'barrister', 'barriers', 'barrier', 'barrels', 'barrah', 'barracks', 'baroujes', 'baronya', 'barony', 'baronet', 'baron', 'baroduari', 'baroda', 'barobhukto', 'barobazar', 'barman', 'barisalchandpur', 'bargadars', 'barga', 'bard', 'barbosa', 'barbak', 'barbados', 'barash', 'barasat', 'barani', 'baranal', 'baranai', 'barak', 'barail', 'baraichara', 'barahnagar', 'barahanagar', 'baradhul', 'barabania', 'baqr', 'baors', 'banyan', 'banur', 'banugachi', 'bansi', 'banshforh', 'bansh', 'banner', 'banna', 'bankers', 'baniachang', 'bangubandhu', 'bangshi', 'bangsha', 'bangles', 'banglar', 'banglabazar', 'bangiya', 'bangalir', 'bangalah', 'bandemataram', 'bande', 'bandar', 'bandana', 'bandaira', 'banchharampur', 'banaras', 'banani', 'bananas', 'banamali', 'banalata', 'banabibi', 'bamunpara', 'bamboos', 'bamboodance', 'balya', 'baluchistan', 'ballot', 'ballistic', 'ballad', 'balkunda', 'balkhi', 'balka', 'balika', 'baliganj', 'bali', 'balda', 'balconies', 'balban', 'balasore', 'balarampur', 'balaki', 'balaka', 'balak', 'balagazi', 'balaganj', 'bakshiganj', 'bakhtiyars', 'bakhshibazar', 'baked', 'bakarganj', 'bajikar', 'baitul', 'baitadi', 'baisuk', 'baishakhashvin', 'baish', 'baisagu', 'bais', 'bairati', 'bairan', 'bairam', 'bairagir', 'baim', 'baily', 'baijees', 'baigunbari', 'baid', 'bai', 'bahram', 'bahinis', 'bahinipati', 'bahas', 'bahadurs', 'bahadurpur', 'bagobahar', 'bagmara', 'baghra', 'baghia', 'baghbazar', 'baghbari', 'bageurdu', 'bagchi', 'baganbari', 'bagan', 'bagakain', 'bagafa', 'bag', 'baen', 'badur', 'badrudduja', 'badruddin', 'badiuzzaman', 'badhayanathtola', 'badarpur', 'badarganj', 'badamtali', 'badalgachhi', 'bad', 'bacteriology', 'backed', 'backbone', 'bacilli', 'babur', 'babul', 'babuganj', 'babington', 'babies', 'babgla', 'b4', 'b2', 'azizur', 'azimusshan', 'azimpur', 'azimabad', 'azim', 'ayr', 'ayodhya', 'ayet', 'awoes', 'awaken', 'avril', 'avoided', 'avoid', 'avesta', 'avert', 'avenues', 'avatar', 'autumn', 'autorickshaw', 'autonomous', 'autodidact', 'autocratic', 'authorities', 'authored', 'authentic', 'austric', 'australoid', 'aushadhalaya', 'aureus', 'aurangabad', 'auliyagan', 'augustus', 'augmented', 'augmentation', 'auditorgeneral', 'auditor', 'auditing', 'audience', 'audacious', 'auction', 'attributable', 'attractively', 'attract', 'attitudes', 'attires', 'attentive', 'attending', 'attendant', 'attend', 'attempted', 'attain', 'attacked', 'attache', 'atta', 'atpara', 'atmospheric', 'atman', 'atm', 'atiya', 'ather', 'atharabadi', 'atghar', 'atelier', 'ataturk', 'atapur', 'ata', 'asymptomatic', 'asylum', 'aswini', 'asvaghosa', 'asuras', 'astronomers', 'astrology', 'astrologer', 'astonishing', 'asthma', 'astadhyayi', 'astadhyai', 'assures', 'assumes', 'assorted', 'assists', 'assistantship', 'assimilation', 'assignment', 'assets', 'asset', 'assessment', 'assessed', 'assess', 'assert', 'assembled', 'assasuni', 'assassinate', 'asrc', 'asram', 'aspired', 'aspirations', 'asos', 'asoka', 'asmat', 'asma', 'asim', 'asias', 'ashrumala', 'ashraf', 'ashoka', 'ashes', 'ashavari', 'asharia', 'ashab', 'ascribing', 'asceticism', 'ascetic', 'ascertained', 'ascendancy', 'ascariasis', 'asat', 'asansol', 'asadh', 'asad', 'arzal', 'aryasaptasati', 'aryamanjucrimulakalpa', 'aryadeva', 'arya', 'artisans', 'artisan', 'artillery', 'artificial', 'artifacts', 'artifact', 'articulated', 'article7', 'arthropods', 'arthik', 'arthaxastra', 'arthasastra', 'artha', 'artesian', 'arterial', 'array', 'arousing', 'arongs', 'armlet', 'armigera', 'armies', 'armenians', 'armenian', 'armanitola', 'arm', 'arjunpurboromhati', 'arjuna', 'arithmetic', 'aristocrats', 'arisen', 'arikhola', 'arial', 'arguments', 'argument', 'argues', 'argillaceous', 'argentina', 'arenas', 'arena', 'ardistan', 'arctic', 'archives', 'archive', 'architetural', 'architects', 'archedniches', 'archedniche', 'archaeologists', 'archaeologist', 'arboreal', 'arbela', 'aranyaka', 'aranagar', 'aralia', 'aral', 'arakans', 'araishemahfil', 'araihazar', 'ar', 'aquifer', 'aqm', 'apt', 'aprilmay', 'approver', 'appropriation', 'approaches', 'apprehending', 'apprehended', 'appreciated', 'appoline', 'applications', 'applicable', 'appliance', 'appetite', 'appendages', 'appeals', 'appealing', 'apogee', 'aphids', 'apetala', 'apartment', 'apace', 'apabhrangsha', 'apabhramsa', 'ap', 'anything', 'anybody', 'anwarul', 'anuttaravanga', 'anuradhapur', 'anupama', 'anupam', 'anukrama', 'antiuntouchables', 'antisati', 'antiquarian', 'antipartition', 'antinationalist', 'antigens', 'anticorruption', 'anticolonial', 'anticlines', 'anticline', 'anticipated', 'anthropomorphic', 'anthropology', 'anthropoides', 'anthropogenic', 'anthrax', 'anthony', 'anthems', 'anteroom', 'anterior', 'antennae', 'antenatal', 'antechamber', 'antarctica', 'antaja', 'antagonistic', 'ansars', 'ansar', 'anowara', 'anopheles', 'anomalies', 'annul', 'annuity', 'announcements', 'annihilated', 'annexed', 'annexe', 'annette', 'anne', 'annaprashana', 'annada', 'ann', 'anm', 'anklet', 'anjumaniulamahibangalah', 'anjumanewayezin', 'animists', 'anil', 'angloindian', 'anglican', 'angles', 'anga', 'aner', 'anecdotes', 'anecdote', 'andrzej', 'andre', 'andor', 'andolan', 'andhakar', 'andar', 'andaman', 'anchored', 'ancestral', 'anatomy', 'anatomical', 'anas', 'anaras', 'ananya', 'anandey', 'anandamohan', 'anandabhatta', 'analyses', 'analhaq', 'amtal', 'ampthill', 'amphistegina', 'amphill', 'amphibians', 'amongst', 'amoghasiddhi', 'amnesty', 'ammunitions', 'ammans', 'amla', 'amjhupi', 'amity', 'amirul', 'amirs', 'amins', 'amini', 'amina', 'amicable', 'amherst', 'amenities', 'amendments', 'amended', 'ambulatory', 'ambulance', 'ambika', 'ambient', 'ambedkars', 'amazon', 'amateurish', 'amass', 'amar', 'amalgamation', 'amalgamated', 'amalendu', 'alyerapur', 'alumni', 'aluminium', 'altogether', 'alternates', 'alternate', 'alrd', 'alphabet', 'alpana', 'aloud', 'alongwith', 'alokjhari', 'alo', 'almustasim', 'alms', 'allwhite', 'alluviums', 'alloying', 'allows', 'allowing', 'allotment', 'allocating', 'allies', 'alliances', 'alliance', 'alleviation', 'allergy', 'allergens', 'allenburi', 'alleging', 'allegiance', 'allegations', 'allegation', 'allay', 'allama', 'alkap', 'alivardis', 'alipur', 'alimullah', 'alikadam', 'alignment', 'aligning', 'aligned', 'aligarh', 'alienation', 'alhaj', 'alhadika', 'algi', 'alfun', 'alfonsodemillo', 'alfadanga', 'alexandria', 'aleslam', 'alcohol', 'album', 'alazad', 'alaul', 'alate', 'alaols', 'alaol', 'alamgir', 'alabkarashastra', 'al', 'akthar', 'akshay', 'akram', 'akhtaruddin', 'akhira', 'akhdas', 'akhari', 'akhali', 'akcha', 'akara', 'akademi', 'ajowan', 'ajmir', 'ajlaf', 'ajker', 'ajivikas', 'ajit', 'ajgara', 'ajantrik', 'airways', 'airlines', 'airing', 'aired', 'airconditioned', 'ain', 'aiming', 'aids', 'ahwalimahabat', 'ahsanuddin', 'ahsanganj', 'ahorizon', 'ahom', 'ahmedabad', 'ahmadullah', 'ahmadul', 'ahmadnagar', 'ahmadis', 'aher', 'ahamed', 'ah1481', 'ah1435', 'agvamedha', 'agroresidues', 'agroprocessing', 'agrobased', 'agrihorticultural', 'agree', 'agrani', 'agrahayan', 'agradigun', 'agitationmixing', 'agitating', 'aggregates', 'ageold', 'agent', 'agenda', 'agence', 'agate', 'agar', 'agallocha', 'afterlife', 'aftab', 'afsoses', 'afsaruddin', 'afsani', 'afsan', 'afroasia', 'african', 'afp', 'afm', 'afghan', 'afforded', 'affluence', 'affirmed', 'affirmation', 'affects', 'aestivation', 'aesthetics', 'aesthetic', 'aedes', 'adzes', 'advocates', 'advocate', 'advocacy', 'advisor', 'advised', 'advertising', 'advertisements', 'advertisement', 'adversely', 'advantageous', 'adultery', 'adpi', 'adp', 'adoption', 'admittedly', 'admits', 'admit', 'admirers', 'admiration', 'admiral', 'administrators', 'administers', 'administer', 'adjutant', 'adjudicate', 'adjournment', 'adisura', 'adi', 'adhuya', 'adhoc', 'adhikarana', 'adhikar', 'adhered', 'adhere', 'adds', 'addressing', 'addresses', 'addressed', 'additionally', 'addiction', 'adaptive', 'adapted', 'adaptations', 'adair', 'ada', 'acumen', 'actually', 'actsrules', 'actresses', 'actor', 'activism', 'activated', 'acronym', 'acquaint', 'acknowledged', 'acidification', 'acid', 'acharangasutra', 'acetate', 'accustomed', 'accuracy', 'accumulated', 'accumulate', 'accrued', 'accounting', 'accountability', 'accordance', 'accomplishment', 'accompaniment', 'accommodates', 'acclaimed', 'acclaim', 'accidence', 'accepting', 'acceptance', 'acceptable', 'accelerated', 'acceded', 'academics', 'acacia', 'abyssinian', 'abuse', 'abusadat', 'abundantly', 'abstraction', 'absentee', 'abrasion', 'abound', 'aborigines', 'abolish', 'abodes', 'abnormal', 'ablution', 'abilities', 'abidur', 'abide', 'abhoy', 'abhir', 'abhinavabharati', 'abhijvanaxakuntalam', 'aberrations', 'abdullahil', 'abduction', 'abdominal', 'abbreviation', 'abbey', 'abbasuddin', 'abbasid', 'abakash', 'ababil', '9th', '9m', '9956', '9951043', '994', '99261', '9918', '991', '9909', '9905', '9903', '9894', '9868', '9862', '9843', '9834', '9817', '98027', '9785', '9771', '9761', '9755', '9744', '9734', '9718', '9717', '96864', '9682', '9680', '9654', '9640', '963', '96', '95m', '9575', '9563', '9561', '9559', '9548', '952', '9516', '95158', '9500', '9496', '9495', '9493', '949', '9479', '9477', '94741', '9462', '9461062', '9459', '9438', '9405', '9397', '9395', '9374', '9370', '93422', '934', '9337', '932', '930975', '9307', '92°36', '92°17', '9293', '9290', '929', '9271', '9229', '922', '91°31', '91°23', '9196', '918m', '9175', '91718', '914', '9105', '910', '91', '90°91', '90°30', '90°27', '90°15', '90°03', '90s', '90m', '909', '9081', '9056', '9044', '9039', '90334', '9029', '9027', '9024', '90000', '89°53', '89°52', '89°47', '89°45', '89°41', '89°40', '89°36', '89°34', '89°29', '89°23', '89°17', '89°16', '89°08', '89°01', '8995', '8983', '8960', '8944', '8913', '8906', '88°52', '88°51', '88°49', '88°46', '88°42', '88°38', '88°37', '88°35', '88°26', '88°19', '8876', '8874', '886', '8823', '880', '8795', '878', '8776', '8771', '877', '87574', '8750', '8748', '8746', '872', '8718', '8707', '8687', '8683', '86819', '8681', '86809', '8672', '8669', '86672', '8663', '8610', '8600', '8584', '8580', '8566', '8549', '85480', '8536', '8527', '8510', '8503', '850', '84896', '8486', '848', '8449', '8444', '8439', '8435', '843', '8403', '839', '8373', '8372', '8354', '8333', '8326', '8322', '8316', '83052', '83000', '8300', '8285', '828', '82751', '827', '826', '8244', '8231', '8226', '819', '818', '817', '8166', '8140', '814', '8130', '813', '8121', '8117', '8104', '81039', '8098', '806608', '8059', '8047', '804', '8017', '80120', '800mw', '8005', '800', '7communication', '7995', '79896', '7983', '7978', '79678', '7949', '7946', '7935', '7926', '791', '7863', '786', '7856', '7850', '7849', '784', '7839', '783', '7814', '780', '7789', '7780', '7776', '777', '775810', '7755', '7750', '7744', '7727', '772', '7718', '7713', '7710', '7708', '76m', '7661', '7639', '7638', '76325', '7619', '7614', '7605', '7601280', '76000', '7571', '7551', '7542', '7533', '7511', '750', '74920', '7485', '7483', '7464', '74592', '7444', '7443', '7414', '7412', '7409', '7396', '739', '7381', '738', '7378', '737400', '7372', '7366', '7364', '7359', '73528', '7336', '7327', '732', '7313', '7307', '73006', '7300', '727', '7269', '7267', '7265', '7263', '7259', '7258', '724', '723', '7223', '722', '71946', '7170', '71608', '713', '7121', '712', '7112', '7103', '710', '70835', '708', '7040', '7033', '702', '701', '7008', '6m', '698', '696', '69360', '6935', '6905', '6899', '689', '68800', '688', '68665', '686', '6854', '6851', '685', '6837', '6830', '68247', '682', '6816', '681', '6806', '680', '6797', '6790', '6788', '6764', '6762', '6749', '6745', '67418', '6738', '6722', '672', '67184', '6712', '671', '6704', '6703', '6701', '6693', '669', '66883', '6686', '6679', '6676', '6660', '6659', '6657', '665', '6643', '6638', '6635', '6632', '6630', '662', '6605', '6604', '6598', '6595', '6591', '6581', '6575', '6561', '65604', '6555', '6541', '6540', '654', '6535', '653', '6529', '6524', '6516', '6501', '6495', '6484', '6451', '6448', '64442', '6423', '6412', '64100', '6407', '6387', '638', '637', '6367', '63618', '6355', '635', '6332', '6322', '632', '6316', '6311', '6309', '63066', '6302', '630', '628981', '6286', '6281', '628', '6271', '6256', '625000', '6245', '62332', '62311', '6225', '6219', '6216', '6214', '6206', '62', '6193', '6181', '6180', '6174', '6168', '6167', '6165', '615', '6149', '614', '6137', '612480', '6116', '6115', '610m', '6104', '6100', '6096m', '60918', '6081', '6080', '606', '6032', '60301', '6014', '6012', '6009', '600625', '6000', '5year', '5fold', '59voice', '5994', '5992', '5984', '5951', '594', '5935', '5923', '5914', '591', '5907', '5905', '5900', '590', '5884', '5878', '5877', '5871', '5866', '58653', '5860', '5852', '5850', '5846', '5843', '584', '5838', '583', '5824', '578', '5767', '5762', '5758', '5753', '5747', '5741', '574', '5734', '5731', '5723', '5721', '5720', '572', '571', '5708', '5704', '5694', '56749', '5671', '566', '56585', '5631', '561', '5593', '5592', '559', '5589', '55837', '5580', '5571', '5568', '5556', '5548', '554', '55314', '55246', '5518', '5508', '5494', '5485', '548', '5471', '54649', '5461', '54490', '5445', '544', '543', '5427', '5408', '5407', '5406', '5404', '5400', '539', '5379', '5377', '5369', '53688', '5343', '5327', '5325', '5316', '531', '5308', '5307', '530', '5295', '5287', '5279', '526', '5250', '525', '5248', '5246', '52304m', '5225', '5223', '522', '5207', '52000', '519', '5187', '5183', '5182', '51785', '5151', '5148', '51478', '5144', '51316', '5122', '511', '50993', '508092', '50721', '507', '5053', '5050', '5041', '501000', '5008', '5004', '50018', '4th', '4party', '4noted', '4inch', '4994', '4983', '4979', '4978', '4968', '4962', '49539', '4948', '494', '4931', '492963', '492644', '492', '4911', '4909', '4905', '49027', '48981', '4880', '4876', '4860', '4850', '4833', '4826', '4816', '4813', '481', '4804', '4802', '4800', '480', '4799', '4783', '478', '4779', '4776', '476', '4755', '4749', '4741', '474', '4734277', '4722', '4706', '4697', '4692', '4687', '4665', '4662', '4659', '4657', '465', '4649', '4646', '46376', '4635', '4634', '4631', '4625', '462096', '46208', '4609', '45feet', '4598', '4595', '4593', '458m', '4588', '4587', '4583', '458', '4570', '455m', '4557', '4556', '4550', '4540', '4534', '4532', '4529', '452650', '4519', '45163', '4513', '45117', '4502', '4500', '450', '4498', '44975', '449612', '44849', '4481', '448', '44771', '4472', '447', '4469', '4466', '4464', '4458', '4454', '4451', '4443', '444', '4436', '4433', '4432', '4431', '4418', '4410', '4407', '4380', '4358', '43520', '4352', '4351', '4349', '4348', '4345', '4344', '4335', '4333', '4332', '432416', '4323', '4319', '43140', '4300', '429', '4286', '4284', '4278', '4277', '4275', '427347', '4272', '4270', '427', '426', '4247', '4244', '4242', '424', '4239', '4224', '4223', '422', '4219', '4216', '41member', '4193', '4185', '4177', '4170', '4169', '416', '41580', '4155', '415', '4143', '4140', '413488', '413', '412568', '41214', '412', '4116', '410', '4096', '4095', '409362', '4091', '40897', '4082', '408', '4078', '40720', '4069', '4065', '4062', '40608', '4059', '4058', '4054', '405', '404m', '4045', '4042', '403', '402695', '402', '4016', '4012', '4010', '4007', '4002', '40005000', '3year', '3rd', '3metre', '39m', '3993', '3991', '3988', '398', '3979', '3978', '39759', '39634m', '396', '3951', '3950', '395', '3915', '3913', '3894', '38850', '38845', '387', '3864', '3862', '386', '3846', '38456', '384', '3837', '383619', '3835', '3830', '383', '3827', '38169124', '3811', '3800', '380', '379', '3781', '3776', '377', '376', '3753', '3746', '3743', '3742', '3740', '374', '3734', '373', '3729', '3726', '3722', '3720', '371952', '3713', '371', '370850', '36840', '367660', '3662', '3658', '3656', '365', '364a', '363204', '3616', '3604', '35963', '3585', '3575', '35671m', '3566', '3565', '356', '3558', '3552', '354019', '354', '3539', '3538', '353708', '35304', '353', '3527', '35216', '35204m', '3513', '3512', '3510', '351', '350m', '3494', '34902', '34854', '3484', '3482', '3472', '34707', '34593', '3450', '3445', '3435', '343', '3425', '34247', '341m', '3401', '34000', '3390', '339', '337', '3366', '33611', '3358', '33501', '334546', '3341', '3340', '3339', '33334', '3333', '3330', '333', '3322', '3319', '331566', '3309', '33078', '330565', '330', '32843', '3282', '328122', '3281', '327015', '3267', '32576', '3249', '32418', '32400', '324', '3235', '3233', '322713', '3226', '322574', '321934', '3213', '3209', '3202', '3200094', '31m', '319854', '3190', '31778', '31733', '3152', '3149', '313971', '313', '312902', '31124', '31121936', '310751', '310092', '3100', '310', '30year', '308', '3074', '3071', '3066', '30658', '3058', '3045', '30443', '303998', '3031', '30221', '300650m', '3003', '300000', '2year', '2nd', '2metre', '2km', '2998', '2991', '2981', '298', '297842', '297', '29692', '2933047', '2931', '293', '2919000', '29104', '291', '29020', '28km', '28945', '2893', '2888', '288600', '2881', '288', '2875', '2873', '2864', '284m', '28467', '2826', '2825', '282', '2800', '27th', '279485', '27869', '2784', '2776', '2768', '2766', '2753', '27518', '2746', '27406', '27399', '2731', '2727', '2724', '271231', '27059', '27020', '2701', '26°38', '26°00', '26th', '2692', '268949', '2679', '266950', '2668', '26524', '2645', '26313', '26265', '261713', '2614', '2607', '260659', '260646', '26000', '25°46', '25°31', '25°11', '25°06', '25°03', '25m', '259856', '2594', '2588', '258208', '2574', '257392', '2573', '25686', '2562', '2559', '255668', '255472', '2553', '2542', '2533', '2530', '25269', '25268', '2526', '252443', '2521', '25204', '252', '251840', '25087', '250651', '250000', '24°59', '24°54', '24°53', '24°50', '24°41', '24°38', '24°24', '24°18', '24°14', '24°10', '24pargana', '2489', '24786', '24776', '247', '24678', '2465', '246379', '2459', '24585', '243486', '24236261', '2416', '240m', '240863', '2407', '240083', '24000', '23°46', '23°40', '23°34', '23°30', '23°24', '23°21', '23°02', '23975', '2395', '2390558', '238', '2367', '236474', '236', '2357', '2351', '2348', '2346', '2344', '2339', '23363', '233383', '23333', '232', '2316', '230902', '23074714', '23062', '230207', '2300', '22°52', '22°50', '22°48', '22°40', '22°33', '22yard', '22m', '2298', '22979', '229494', '228780', '2286', '22819', '22768', '22747', '227301', '227', '22695', '2267', '2262045', '2262', '225985', '225472', '225349', '225', '22475', '2244', '22399', '22312', '22292', '2228', '222763', '2226', '22156', '2215', '2213', '220611', '2205', '22000', '2200', '21°54', '21point', '21m', '2198', '21946', '219405', '219', '21864', '216', '2159879', '21564', '215000', '21449', '214418', '21415', '2141', '2130', '21236', '212', '2119', '2111', '210481', '20m', '20day', '208744', '2087162', '20792', '20689', '20664', '206435', '20627000', '2060', '2059', '205478', '2054', '2053', '20516', '20448', '20442', '20430', '20429', '20411', '204', '203742', '2036', '2035', '2032757', '20300', '203', '202973', '2025', '20238', '2020', '202', '2015', '2012', '201', '200910', '20082009', '20069', '200607', '200450', '200405', '200304', '20022006', '20022003', '2002', '20012006', '20002001', '20000', '19992000', '199398', '199293', '199192', '19912051', '19912021', '19909', '199', '19888', '198723', '198586', '19841988', '198386', '198288', '198283', '198081', '197980', '197889', '19781995', '197778', '19771985', '197576', '197374', '197273', '197', '19697', '19693', '196870', '1967m', '196567', '19651972', '196465', '196364', '196162', '195758', '19558', '195455', '19541958', '195253', '19503', '194962', '19481949', '194686', '19451971', '19439', '19438', '194345', '19432010', '19421969', '194041', '19401945', '1939580', '19391971', '19381976', '193798', '193746', '19361999', '19341969', '193303', '19321951', '19311979', '19271987', '19261971', '192600', '192526', '19220', '1920s', '19201982', '192', '19191969', '19191952', '191719', '19161974', '19152001', '19151983', '19151920', '191449', '191415', '191314', '19122006', '19111984', '19091994', '19083', '19061975', '19031956', '190255', '18991904', '18981981', '18977', '18971986', '18961971', '1895', '18948', '18941938', '18941934', '18921950', '1892', '189152', '18911945', '1890s', '18901976', '18871973', '1886', '18851969', '18841949', '18839', '18831', '18821964', '18820', '18811947', '18801960', '18796', '1879', '1877', '18761961', '18761953', '18761938', '18761880', '18731929', '1873', '18721936', '18681874', '186813', '186566186970', '18641966', '1864', '1863', '18621938', '18621933', '18615', '186', '18581937', '18576', '18571923', '18549', '18538', '1853', '18522', '1851', '1850s', '185', '18491928', '18481936', '1848', '1847', '1846', '18451915', '18451877', '18421916', '1841', '1840s', '18407', '1839', '18381894', '1838', '1837', '18360', '1836', '18341899', '183169', '1831', '1827', '18261904', '1826', '18241873', '1824', '18221886', '18201891', '18200', '18181883', '18181860s', '181698', '181697', '181477', '18130', '1811', '181', '18081895', '1808', '1807', '180680', '1806', '180459', '18033', '180300', '18024', '18019', '18000', '1799', '17982', '1798', '17971', '17957', '1795', '179495', '1792073', '17905', '1789', '17871848', '1787', '1783', '17811788', '1780s', '17789', '1777', '17741890', '1774', '17732', '1773', '17721785', '17721777', '17721776', '1771', '1770s', '1769', '17621', '1762', '1761000', '1759', '17585', '1756', '1755', '17545', '1753', '1750s', '17481834', '17461824', '1745', '17449', '1740155', '174', '1738', '1737', '1733', '17321809', '1730', '1728', '172152', '1720s', '171761', '1717', '17155', '171482', '1711', '1709', '17088', '17082', '1707m', '17079', '170747', '17071', '170692', '1703', '17029', '17001788', '17000', '1700', '1695', '1689', '16887', '1688', '168674', '1685', '16842', '1682', '16801770', '167879', '1678', '167647', '167607', '167604', '16741', '16716', '16693', '1668', '166638', '1666', '16630', '1662', '166000', '166', '16599', '16582', '1658', '1656', '1654', '16500', '1650', '165', '164810', '16452', '1645', '16427', '16411778', '164', '163part', '16391660', '16378', '163535', '1635', '16321701', '16321', '1630', '162785', '1626', '16237', '1623', '1622', '1621', '16201690', '162', '1619', '1617th', '16177', '16174', '16171', '1614', '161', '16071680', '1607', '16051627', '160346', '1603', '160084', '16001645', '15m', '15foot', '15967', '15930', '159178', '1591', '1590', '15893', '1586', '1580', '158', '1579', '15768', '157596', '1573', '157124', '157000', '15691', '1564', '1563ad', '1563', '156268', '15624', '15617', '156065', '155661', '15562', '15561605', '155610', '1552', '15509', '15508', '1548', '154388', '15391545', '1539', '15357', '1535', '15291599', '1527', '1523', '1522m', '15215', '152119', '15203', '1520', '151903', '151901', '1517', '1515', '151154', '1511', '15106', '15100', '15097', '15074', '15040', '150301', '1501', '1498', '14971', '1495', '14948', '14926', '149', '1487', '148625', '14861533', '148535', '1485', '1483', '14813m', '14801', '14765', '14744', '1474', '147396', '14728', '14699', '146989', '1469', '14685', '146402', '14628', '1461', '146', '145969', '1456', '14544', '14542', '14536', '1453', '1450', '14457', '14447', '14437', '14431', '1442', '14418', '14409', '144004', '14383', '143796', '14376', '14373', '14368', '14351459', '14344', '14329', '143281', '143208', '1431', '14308', '143000', '143', '14292', '14275', '142676', '14177', '14151432', '14141431', '14101', '1407', '140647', '1406', '140463', '14039', '14017', '1400030000', '14000', '1400', '13th14th', '139m', '13933', '139271', '13918', '13911410', '13901410', '13894', '13836', '13821', '1380', '138', '137m', '13798', '13794', '13793', '13751460', '137464', '13741460', '13734', '1372m', '13701', '137', '13665', '13659', '13636', '13632', '13609', '136056', '135987', '135747', '13566', '135484', '13546592', '135285', '1352', '13518', '13511388', '13511', '135', '1346', '13426', '1342', '13413', '13406', '13394', '13391', '13356', '1334', '13336', '13317', '13316', '133', '13298', '1329', '13289', '1328', '13278', '13240', '132347', '13203', '13200', '13182', '1318', '13136', '13131319', '1313', '1312', '13111', '13093', '1309', '130894', '130716', '1307', '1306', '13059', '13026', '13000', '1300', '12th', '12993', '1297', '12918', '12891', '1287', '12864', '1286', '12841', '1284', '1282', '128037', '128025', '128', '12795', '127815', '127643', '1275', '12722', '12693', '12668', '12654', '126464', '12630', '12621', '1262', '126', '12597', '12586', '1257', '12556', '12541', '125390', '125306', '12521', '12503', '1250', '125', '12480', '124571', '12420', '1242', '12418', '12403', '12400', '123919', '12380', '12361', '12325', '1230', '122984', '12294', '12292', '122884', '12249', '12245', '12232', '12225', '12224', '12219', '12190', '1218', '121727', '12156', '12141', '1214', '121204', '1212', '12118', '12105', '1210', '12096', '12079259', '120000', '12000', '1200', '11th12th', '11987', '11967', '11939', '11916', '11905', '118935', '1188', '1187', '11854', '118380', '1183', '1181', '11809', '118', '11794', '1179', '11766', '11751', '11723', '117199', '11708', '11693', '1167', '116553', '11629', '11577', '1156235', '115623', '11544', '1152', '11504', '11492', '11475', '11441', '1144', '11422', '114161', '11355', '11339', '113133', '1131', '11309', '11308', '11307', '11286', '11277', '11256', '112556', '11241', '11234', '112330', '11229', '11210', '112000', '11177', '11172', '1115', '1113m', '11133', '11113', '1111', '11090', '11083', '11064', '1104', '11034', '11028', '1101', '11008', '11004', '11000', '10992', '10981', '10971260', '10971150', '10965', '10963', '10950', '10936', '10930', '1093', '10928', '109213', '10916', '109', '10880', '10874', '10873', '1087000', '10855', '1085', '10846', '10842', '10821124', '107m', '10789', '10778', '10770', '1076', '1072', '107172', '107123', '10704', '106956', '10691', '10680', '10678', '10654', '10652', '10651', '10650', '10628', '10616', '105c', '10577', '1056', '105596', '10516', '10501150', '104930', '104861', '1048', '10467', '10452', '1044', '10429', '104246', '10413', '10411', '10388', '10385', '1038', '1035', '103316', '103293', '10321', '1032', '10319', '1031', '10297', '10270', '10251', '10249', '10233', '10214', '10196', '1019', '101776', '101683', '10167', '1016', '10151', '1014', '101', '10083', '1006m', '10057', '100426', '100240', '1000011000', '09m12m', '087', '0850m', '085', '084', '078', '077', '074m', '074', '071m', '07', '066', '065', '064', '061', '060', '0580m', '055', '0535', '050', '05', '048', '047', '043', '025', '023', '022', '021', '02', '018', '017', '0162', '016', '015', '011', '006', '000']\n",
            "Max Tokens: 50000\n",
            "Output Sequence Length: 30\n",
            "Output Mode: int\n",
            "Standardization: lower_and_strip_punctuation\n"
          ]
        }
      ],
      "source": [
        "\n",
        "vocabulary = source_vectorization.get_vocabulary()\n",
        "\n",
        "# Access other relevant information\n",
        "max_tokens = source_vectorization.get_config()['max_tokens']\n",
        "output_sequence_length = source_vectorization.get_config()['output_sequence_length']\n",
        "output_mode = source_vectorization.get_config()['output_mode']\n",
        "standardization = source_vectorization.get_config()['standardize']\n",
        "\n",
        "# Print or inspect the information\n",
        "print(\"Vocabulary:\", vocabulary)\n",
        "print(\"Max Tokens:\", max_tokens)\n",
        "print(\"Output Sequence Length:\", output_sequence_length)\n",
        "print(\"Output Mode:\", output_mode)\n",
        "print(\"Standardization:\", standardization)\n"
      ]
    },
    {
      "cell_type": "code",
      "execution_count": 31,
      "metadata": {
        "colab": {
          "base_uri": "https://localhost:8080/"
        },
        "id": "Zb9NMQzJ4peG",
        "outputId": "01a2ef92-a518-4b59-b9f0-cddbf0ca29e0"
      },
      "outputs": [
        {
          "name": "stdout",
          "output_type": "stream",
          "text": [
            "decoder_outputs_onehot shape: (6513, 19, 5243)\n"
          ]
        }
      ],
      "source": [
        " # zeros(( len(inputs), c, outputs_numwords),  dtype='float32')\n",
        "\n",
        "# replaced this line with tf.onehot\n",
        "import tensorflow as tf\n",
        "\n",
        "# requires the padded output sequence to make the onehot output ...\n",
        "decoder_outputs_onehot  = tf.one_hot(decoder_output_sequences, depth=outputs_numwords)\n",
        "print('decoder_outputs_onehot shape:', decoder_outputs_onehot.shape)\n"
      ]
    },
    {
      "cell_type": "code",
      "execution_count": 32,
      "metadata": {
        "id": "kMvWODEQ4srU"
      },
      "outputs": [],
      "source": [
        "decoder_outputs = [[156, 410, 2], [21, 1609, 2], [21, 680, 2], [21, 798, 2], [21, 2475, 2]]\n",
        "padded_decoder_outputs = pad_sequences(decoder_outputs, padding='post')\n",
        "\n"
      ]
    },
    {
      "cell_type": "markdown",
      "metadata": {
        "id": "0AoVJXW5EMb0"
      },
      "source": [
        "**MODEL>>>>>>>>>>>>>>>>>>>**"
      ]
    },
    {
      "cell_type": "code",
      "execution_count": 161,
      "metadata": {
        "id": "HSGS4sZiEPAL"
      },
      "outputs": [],
      "source": [
        "from tensorflow.keras import layers\n",
        "\n",
        "encoder_inputs = Input(shape=(inputs_maxlen,),name=\"eng\")\n",
        "encoder_inputs_emb = encoder_embedding_layer(encoder_inputs)\n",
        "\n",
        "# attentiion\n",
        "attention = layers.MultiHeadAttention( num_heads=8, key_dim=64 )\n",
        "norm=layers.LayerNormalization()\n",
        "\n",
        "attention_output = attention(encoder_inputs_emb, encoder_inputs_emb, attention_mask=None)\n",
        "proj_input = norm(encoder_inputs_emb+ attention_output)\n",
        "# attention END\n",
        "\n",
        "# encoder\n",
        "encoder_lstm_1 = layers.LSTM(LSTM_NEURONS, return_sequences=True, return_state=True)\n",
        "encoder_outputs_1, _, _ = encoder_lstm_1(proj_input)\n",
        "\n",
        "# Add a second LSTM layer\n",
        "encoder_lstm_2 = layers.LSTM(LSTM_NEURONS, return_state=True)\n",
        "encoder_outputs, h, c = encoder_lstm_2(encoder_outputs_1)\n",
        "encoder_states = [h, c]\n",
        "\n",
        "encoder_outputs = layers.BatchNormalization()(encoder_outputs)\n",
        "encoder_outputs = layers.Dropout(0.3)(encoder_outputs)\n",
        "# encoder END\n",
        "\n",
        "# decoder\n",
        "decoder_inputs = Input(shape=(outputs_maxlen,),name=\"ben\")\n",
        "decoder_inputs_emb = decoder_embedding_layer(decoder_inputs)\n",
        "decoder = LSTM(LSTM_NEURONS, return_sequences=True, return_state=True)\n",
        "decoder_outputs, _, _ = decoder(decoder_inputs_emb, initial_state=encoder_states)\n",
        "\n",
        "\n",
        "decoder_outputs = layers.BatchNormalization()(decoder_outputs)\n",
        "decoder_outputs = layers.Dropout(0.8)(decoder_outputs)\n",
        "\n",
        "# decoder END\n",
        "\n",
        "output_dense_layer = Dense(outputs_numwords, activation='softmax')\n",
        "outputs = output_dense_layer(decoder_outputs)"
      ]
    },
    {
      "cell_type": "code",
      "execution_count": 69,
      "metadata": {
        "id": "4gyxXOS6zwI5"
      },
      "outputs": [],
      "source": [
        "# encoder_inputs = Input(shape=(inputs_maxlen,))\n",
        "# encoder_inputs_emb = encoder_embedding_layer(encoder_inputs)\n",
        "# encoder = LSTM(LSTM_NEURONS, return_state=True)\n",
        "# encoder_outputs, h, c = encoder(encoder_inputs_emb)\n",
        "# encoder_states = [h, c]\n",
        "\n",
        "# decoder_inputs = Input(shape=(outputs_maxlen,))\n",
        "# decoder_inputs_emb = decoder_embedding_layer(decoder_inputs)\n",
        "# decoder = LSTM(LSTM_NEURONS, return_sequences=True, return_state=True)\n",
        "# decoder_outputs, _, _ = decoder(decoder_inputs_emb, initial_state=encoder_states)\n",
        "\n",
        "# output_dense_layer = Dense(outputs_numwords, activation='softmax')\n",
        "# outputs = output_dense_layer(decoder_outputs)"
      ]
    },
    {
      "cell_type": "code",
      "execution_count": 70,
      "metadata": {
        "colab": {
          "base_uri": "https://localhost:8080/"
        },
        "id": "Yby8Edq1tH0g",
        "outputId": "22af14e6-8a55-4996-ae7a-ceea36854bb2"
      },
      "outputs": [
        {
          "data": {
            "text/plain": [
              "(6513, 19)"
            ]
          },
          "execution_count": 70,
          "metadata": {},
          "output_type": "execute_result"
        }
      ],
      "source": [
        "decoder_output_sequences.shape"
      ]
    },
    {
      "cell_type": "code",
      "execution_count": 162,
      "metadata": {
        "colab": {
          "base_uri": "https://localhost:8080/"
        },
        "id": "LQ_WlXT9Ehi_",
        "outputId": "5bb39d97-b67f-41a4-f7dc-13061b177d9d"
      },
      "outputs": [
        {
          "name": "stdout",
          "output_type": "stream",
          "text": [
            "Model: \"model_18\"\n",
            "__________________________________________________________________________________________________\n",
            " Layer (type)                Output Shape                 Param #   Connected to                  \n",
            "==================================================================================================\n",
            " eng (InputLayer)            [(None, 20)]                 0         []                            \n",
            "                                                                                                  \n",
            " embedding_4 (Embedding)     (None, 20, 100)              271600    ['eng[0][0]']                 \n",
            "                                                                                                  \n",
            " multi_head_attention_12 (M  (None, 20, 100)              206436    ['embedding_4[0][0]',         \n",
            " ultiHeadAttention)                                                  'embedding_4[0][0]']         \n",
            "                                                                                                  \n",
            " tf.__operators__.add_12 (T  (None, 20, 100)              0         ['embedding_4[0][0]',         \n",
            " FOpLambda)                                                          'multi_head_attention_12[0][0\n",
            "                                                                    ]']                           \n",
            "                                                                                                  \n",
            " layer_normalization_12 (La  (None, 20, 100)              200       ['tf.__operators__.add_12[0][0\n",
            " yerNormalization)                                                  ]']                           \n",
            "                                                                                                  \n",
            " ben (InputLayer)            [(None, 19)]                 0         []                            \n",
            "                                                                                                  \n",
            " lstm_25 (LSTM)              [(None, 20, 100),            80400     ['layer_normalization_12[0][0]\n",
            "                              (None, 100),                          ']                            \n",
            "                              (None, 100)]                                                        \n",
            "                                                                                                  \n",
            " embedding_5 (Embedding)     (None, 19, 100)              524300    ['ben[0][0]']                 \n",
            "                                                                                                  \n",
            " lstm_26 (LSTM)              [(None, 100),                80400     ['lstm_25[0][0]']             \n",
            "                              (None, 100),                                                        \n",
            "                              (None, 100)]                                                        \n",
            "                                                                                                  \n",
            " lstm_27 (LSTM)              [(None, 19, 100),            80400     ['embedding_5[0][0]',         \n",
            "                              (None, 100),                           'lstm_26[0][1]',             \n",
            "                              (None, 100)]                           'lstm_26[0][2]']             \n",
            "                                                                                                  \n",
            " batch_normalization_25 (Ba  (None, 19, 100)              400       ['lstm_27[0][0]']             \n",
            " tchNormalization)                                                                                \n",
            "                                                                                                  \n",
            " dropout_22 (Dropout)        (None, 19, 100)              0         ['batch_normalization_25[0][0]\n",
            "                                                                    ']                            \n",
            "                                                                                                  \n",
            " dense_12 (Dense)            (None, 19, 5243)             529543    ['dropout_22[0][0]']          \n",
            "                                                                                                  \n",
            "==================================================================================================\n",
            "Total params: 1773679 (6.77 MB)\n",
            "Trainable params: 1773479 (6.77 MB)\n",
            "Non-trainable params: 200 (800.00 Byte)\n",
            "__________________________________________________________________________________________________\n",
            "None\n"
          ]
        }
      ],
      "source": [
        "from keras.models import Model\n",
        "\n",
        "model = Model([encoder_inputs, decoder_inputs], outputs)\n",
        "model.compile(\n",
        "          optimizer='rmsprop',\n",
        "         loss=\"sparse_categorical_crossentropy\",\n",
        "\n",
        "              metrics=['accuracy'])\n",
        "print(model.summary())\n",
        "\n",
        "\n",
        "\n"
      ]
    },
    {
      "cell_type": "code",
      "execution_count": 164,
      "metadata": {
        "colab": {
          "base_uri": "https://localhost:8080/"
        },
        "id": "Fsr53DRB0DFH",
        "outputId": "dd260a68-911e-4bee-c396-d57372d30ef0"
      },
      "outputs": [
        {
          "name": "stdout",
          "output_type": "stream",
          "text": [
            "Epoch 1/20\n",
            "72/72 [==============================] - 2s 28ms/step - loss: 1.1178 - accuracy: 0.8333 - val_loss: 2.4132 - val_accuracy: 0.6811\n",
            "Epoch 2/20\n",
            "72/72 [==============================] - 2s 25ms/step - loss: 1.1106 - accuracy: 0.8336 - val_loss: 2.3754 - val_accuracy: 0.6852\n",
            "Epoch 3/20\n",
            "72/72 [==============================] - 2s 24ms/step - loss: 1.1059 - accuracy: 0.8354 - val_loss: 2.4183 - val_accuracy: 0.6802\n",
            "Epoch 4/20\n",
            "72/72 [==============================] - 2s 31ms/step - loss: 1.0994 - accuracy: 0.8361 - val_loss: 2.3724 - val_accuracy: 0.6854\n",
            "Epoch 5/20\n",
            "72/72 [==============================] - 2s 30ms/step - loss: 1.0950 - accuracy: 0.8360 - val_loss: 2.3516 - val_accuracy: 0.6866\n",
            "Epoch 6/20\n",
            "72/72 [==============================] - 2s 25ms/step - loss: 1.0851 - accuracy: 0.8368 - val_loss: 2.3737 - val_accuracy: 0.6852\n",
            "Epoch 7/20\n",
            "72/72 [==============================] - 2s 23ms/step - loss: 1.0799 - accuracy: 0.8379 - val_loss: 2.3707 - val_accuracy: 0.6846\n",
            "Epoch 8/20\n",
            "72/72 [==============================] - 2s 23ms/step - loss: 1.0773 - accuracy: 0.8381 - val_loss: 2.3444 - val_accuracy: 0.6893\n",
            "Epoch 9/20\n",
            "72/72 [==============================] - 2s 27ms/step - loss: 1.0726 - accuracy: 0.8388 - val_loss: 2.3572 - val_accuracy: 0.6884\n",
            "Epoch 10/20\n",
            "72/72 [==============================] - 2s 27ms/step - loss: 1.0636 - accuracy: 0.8403 - val_loss: 2.3483 - val_accuracy: 0.6902\n",
            "Epoch 11/20\n",
            "72/72 [==============================] - 2s 24ms/step - loss: 1.0640 - accuracy: 0.8394 - val_loss: 2.3198 - val_accuracy: 0.6907\n",
            "Epoch 12/20\n",
            "72/72 [==============================] - 2s 31ms/step - loss: 1.0550 - accuracy: 0.8407 - val_loss: 2.3475 - val_accuracy: 0.6888\n",
            "Epoch 13/20\n",
            "72/72 [==============================] - 2s 31ms/step - loss: 1.0519 - accuracy: 0.8409 - val_loss: 2.3292 - val_accuracy: 0.6909\n",
            "Epoch 14/20\n",
            "72/72 [==============================] - 2s 28ms/step - loss: 1.0461 - accuracy: 0.8425 - val_loss: 2.3236 - val_accuracy: 0.6931\n",
            "Epoch 15/20\n",
            "72/72 [==============================] - 2s 22ms/step - loss: 1.0451 - accuracy: 0.8425 - val_loss: 2.3400 - val_accuracy: 0.6890\n",
            "Epoch 16/20\n",
            "72/72 [==============================] - 2s 23ms/step - loss: 1.0382 - accuracy: 0.8429 - val_loss: 2.3210 - val_accuracy: 0.6934\n",
            "Epoch 17/20\n",
            "72/72 [==============================] - 2s 26ms/step - loss: 1.0347 - accuracy: 0.8434 - val_loss: 2.3179 - val_accuracy: 0.6924\n",
            "Epoch 18/20\n",
            "72/72 [==============================] - 2s 27ms/step - loss: 1.0313 - accuracy: 0.8442 - val_loss: 2.3338 - val_accuracy: 0.6902\n",
            "Epoch 19/20\n",
            "72/72 [==============================] - 2s 28ms/step - loss: 1.0296 - accuracy: 0.8440 - val_loss: 2.3107 - val_accuracy: 0.6929\n",
            "Epoch 20/20\n",
            "72/72 [==============================] - 2s 30ms/step - loss: 1.0228 - accuracy: 0.8447 - val_loss: 2.3158 - val_accuracy: 0.6938\n"
          ]
        }
      ],
      "source": [
        "trn = model.fit([encoder_input_sequences, decoder_input_sequences],\n",
        "               decoder_output_sequences,\n",
        "               batch_size=BATCH_SIZE, epochs=20, validation_split=0.3\n",
        "               )\n",
        "\n",
        "\n"
      ]
    },
    {
      "cell_type": "code",
      "execution_count": 165,
      "metadata": {
        "colab": {
          "base_uri": "https://localhost:8080/",
          "height": 489
        },
        "id": "VPTRkdlJ7uYz",
        "outputId": "5d330bab-5e68-4cc4-f6ac-e0e3bfce9b36"
      },
      "outputs": [
        {
          "name": "stdout",
          "output_type": "stream",
          "text": [
            "dict_keys(['loss', 'accuracy', 'val_loss', 'val_accuracy'])\n"
          ]
        },
        {
          "data": {
            "image/png": "[encoded data removed]",
            "text/plain": [
              "<Figure size 640x480 with 1 Axes>"
            ]
          },
          "metadata": {},
          "output_type": "display_data"
        }
      ],
      "source": [
        "history=trn\n",
        "print(history.history.keys())\n",
        "\n",
        "# Plot training and validation accuracy\n",
        "import matplotlib.pyplot as plt\n",
        "\n",
        "plt.plot(history.history['accuracy'])\n",
        "plt.plot(history.history['val_accuracy'])\n",
        "plt.title('Model Accuracy')\n",
        "plt.xlabel('Epoch')\n",
        "plt.ylabel('Accuracy')\n",
        "plt.legend(['Train', 'Validation'], loc='upper left')\n",
        "plt.show()"
      ]
    },
    {
      "cell_type": "code",
      "execution_count": null,
      "metadata": {
        "colab": {
          "base_uri": "https://localhost:8080/",
          "height": 490
        },
        "id": "TaUBnDa_BTgx",
        "outputId": "cd6c19a5-c579-4b28-9a6f-9a32281f635c"
      },
      "outputs": [
        {
          "name": "stdout",
          "output_type": "stream",
          "text": [
            "dict_keys(['loss', 'accuracy', 'val_loss', 'val_accuracy'])\n"
          ]
        },
        {
          "data": {
            "image/png": "[encoded data removed]",
            "text/plain": [
              "<Figure size 640x480 with 1 Axes>"
            ]
          },
          "metadata": {},
          "output_type": "display_data"
        }
      ],
      "source": [
        "history=trn\n",
        "print(history.history.keys())\n",
        "\n",
        "# Plot training and validation accuracy\n",
        "import matplotlib.pyplot as plt\n",
        "\n",
        "plt.plot(history.history['accuracy'])\n",
        "plt.plot(history.history['val_accuracy'])\n",
        "plt.title('Model Accuracy')\n",
        "plt.xlabel('Epoch')\n",
        "plt.ylabel('Accuracy')\n",
        "plt.legend(['Train', 'Validation'], loc='upper left')\n",
        "plt.show()"
      ]
    },
    {
      "cell_type": "code",
      "execution_count": null,
      "metadata": {
        "id": "1czW86zKFNUh"
      },
      "outputs": [],
      "source": [
        "from keras.callbacks import ModelCheckpoint\n",
        "checkpoint = ModelCheckpoint('model_checkpoint.h5', monitor='val_loss', save_best_only=True, mode='min', verbose=1)\n",
        "model.save('/content/model_ep-5.h5')"
      ]
    },
    {
      "cell_type": "markdown",
      "metadata": {
        "id": "RHLTJuB9FrpP"
      },
      "source": [
        "**TEST PHASE!!!**"
      ]
    },
    {
      "cell_type": "code",
      "execution_count": 196,
      "metadata": {
        "colab": {
          "base_uri": "https://localhost:8080/",
          "height": 262
        },
        "id": "l_V8UzimpcTd",
        "outputId": "bd4868b7-a4d2-49e4-b294-8bd412661231"
      },
      "outputs": [
        {
          "name": "stdout",
          "output_type": "stream",
          "text": [
            "decoder_output_sequences shape: (6513, 19)\n"
          ]
        },
        {
          "ename": "NameError",
          "evalue": "name 'target_vectorization' is not defined",
          "output_type": "error",
          "traceback": [
            "\u001b[0;31m---------------------------------------------------------------------------\u001b[0m",
            "\u001b[0;31mNameError\u001b[0m                                 Traceback (most recent call last)",
            "\u001b[0;32m<ipython-input-196-3dc5c1cab323>\u001b[0m in \u001b[0;36m<cell line: 14>\u001b[0;34m()\u001b[0m\n\u001b[1;32m     12\u001b[0m \u001b[0;34m\u001b[0m\u001b[0m\n\u001b[1;32m     13\u001b[0m \u001b[0;32mimport\u001b[0m \u001b[0mnumpy\u001b[0m \u001b[0;32mas\u001b[0m \u001b[0mnp\u001b[0m\u001b[0;34m\u001b[0m\u001b[0;34m\u001b[0m\u001b[0m\n\u001b[0;32m---> 14\u001b[0;31m \u001b[0mspa_vocab\u001b[0m \u001b[0;34m=\u001b[0m \u001b[0mtarget_vectorization\u001b[0m\u001b[0;34m.\u001b[0m\u001b[0mget_vocabulary\u001b[0m\u001b[0;34m(\u001b[0m\u001b[0;34m)\u001b[0m\u001b[0;34m\u001b[0m\u001b[0;34m\u001b[0m\u001b[0m\n\u001b[0m\u001b[1;32m     15\u001b[0m \u001b[0mspa_index_lookup\u001b[0m \u001b[0;34m=\u001b[0m \u001b[0mdict\u001b[0m\u001b[0;34m(\u001b[0m\u001b[0mzip\u001b[0m\u001b[0;34m(\u001b[0m\u001b[0mrange\u001b[0m\u001b[0;34m(\u001b[0m\u001b[0mlen\u001b[0m\u001b[0;34m(\u001b[0m\u001b[0mspa_vocab\u001b[0m\u001b[0;34m)\u001b[0m\u001b[0;34m)\u001b[0m\u001b[0;34m,\u001b[0m \u001b[0mspa_vocab\u001b[0m\u001b[0;34m)\u001b[0m\u001b[0;34m)\u001b[0m\u001b[0;34m\u001b[0m\u001b[0;34m\u001b[0m\u001b[0m\n\u001b[1;32m     16\u001b[0m \u001b[0mmax_decoded_sentence_length\u001b[0m \u001b[0;34m=\u001b[0m \u001b[0;36m20\u001b[0m\u001b[0;34m\u001b[0m\u001b[0;34m\u001b[0m\u001b[0m\n",
            "\u001b[0;31mNameError\u001b[0m: name 'target_vectorization' is not defined"
          ]
        }
      ],
      "source": [
        "from keras.preprocessing.sequence import pad_sequences\n",
        "\n",
        "\n",
        "def padder_enc(inp):\n",
        "  decoder_input_sequences = pad_sequences(inp, maxlen=outputs_maxlen, padding='post')\n",
        "  print('decoder_inputs_sequences shape:', decoder_input_sequences.shape)\n",
        "  return decoder_input_sequences\n",
        "\n",
        "import numpy as np\n",
        "\n",
        "\n",
        "def decode_sequence(input_sentence):\n",
        "    tokenized_input_sentence = source_vectorization([input_sentence])\n",
        "    decoded_sentence = \"[start]\"\n",
        "    for i in range(20):\n",
        "        tokenized_target_sentence = target_vectorization([decoded_sentence])\n",
        "\n",
        "\n",
        "        next_token_predictions = seq2seq_rnn.predict(\n",
        "            [tokenized_input_sentence, tokenized_target_sentence])\n",
        "\n",
        "        sampled_token_index = np.argmax(next_token_predictions[0, i, :])\n",
        "        sampled_token = spa_index_lookup[sampled_token_index]\n",
        "        decoded_sentence += \" \" + sampled_token\n",
        "        if sampled_token == \"[end]\":\n",
        "            break\n",
        "    return decoded_sentence\n",
        "\n",
        "test_eng_texts = [pair[0] for pair in test_pairs]\n",
        "for _ in range(20):\n",
        "    input_sentence = random.choice(test_eng_texts)\n",
        "    print(\"-\")\n",
        "    print(input_sentence)\n",
        "    print(decode_sequence(input_sentence))"
      ]
    },
    {
      "cell_type": "code",
      "execution_count": 167,
      "metadata": {
        "colab": {
          "base_uri": "https://localhost:8080/"
        },
        "id": "SQCzxkZKGKiJ",
        "outputId": "390d051b-22dc-4de3-9bbf-2aae02ee24c8"
      },
      "outputs": [
        {
          "name": "stdout",
          "output_type": "stream",
          "text": [
            "Model: \"model_19\"\n",
            "__________________________________________________________________________________________________\n",
            " Layer (type)                Output Shape                 Param #   Connected to                  \n",
            "==================================================================================================\n",
            " eng (InputLayer)            [(None, 20)]                 0         []                            \n",
            "                                                                                                  \n",
            " embedding_4 (Embedding)     (None, 20, 100)              271600    ['eng[0][0]']                 \n",
            "                                                                                                  \n",
            " multi_head_attention_12 (M  (None, 20, 100)              206436    ['embedding_4[0][0]',         \n",
            " ultiHeadAttention)                                                  'embedding_4[0][0]']         \n",
            "                                                                                                  \n",
            " tf.__operators__.add_12 (T  (None, 20, 100)              0         ['embedding_4[0][0]',         \n",
            " FOpLambda)                                                          'multi_head_attention_12[0][0\n",
            "                                                                    ]']                           \n",
            "                                                                                                  \n",
            " layer_normalization_12 (La  (None, 20, 100)              200       ['tf.__operators__.add_12[0][0\n",
            " yerNormalization)                                                  ]']                           \n",
            "                                                                                                  \n",
            " lstm_25 (LSTM)              [(None, 20, 100),            80400     ['layer_normalization_12[0][0]\n",
            "                              (None, 100),                          ']                            \n",
            "                              (None, 100)]                                                        \n",
            "                                                                                                  \n",
            " lstm_26 (LSTM)              [(None, 100),                80400     ['lstm_25[0][0]']             \n",
            "                              (None, 100),                                                        \n",
            "                              (None, 100)]                                                        \n",
            "                                                                                                  \n",
            "==================================================================================================\n",
            "Total params: 639036 (2.44 MB)\n",
            "Trainable params: 639036 (2.44 MB)\n",
            "Non-trainable params: 0 (0.00 Byte)\n",
            "__________________________________________________________________________________________________\n",
            "None\n"
          ]
        }
      ],
      "source": [
        "encoder_model = Model(encoder_inputs, encoder_states) #onion\n",
        "print(encoder_model.summary())"
      ]
    },
    {
      "cell_type": "code",
      "execution_count": 168,
      "metadata": {
        "id": "PLaV-6-aFwsC"
      },
      "outputs": [],
      "source": [
        "decoder_input_h = Input(shape=(LSTM_NEURONS,))\n",
        "decoder_input_c = Input(shape=(LSTM_NEURONS,))\n",
        "decoder_input_states = [decoder_input_h, decoder_input_c]\n",
        "\n",
        "decoder_input_word = Input(shape=(1,))\n",
        "decoder_input_word_emb = decoder_embedding_layer(decoder_input_word)\n",
        "\n",
        "decoder_outputs, h, c = decoder(decoder_input_word_emb, initial_state=decoder_input_states)\n",
        "decoder_states = [h, c]\n",
        "\n",
        "outputs = output_dense_layer(decoder_outputs)"
      ]
    },
    {
      "cell_type": "code",
      "execution_count": 169,
      "metadata": {
        "colab": {
          "base_uri": "https://localhost:8080/"
        },
        "id": "95GTJsh2FyId",
        "outputId": "9dd2a87b-bbe4-4bd1-c859-ebe055147846"
      },
      "outputs": [
        {
          "name": "stdout",
          "output_type": "stream",
          "text": [
            "Model: \"model_20\"\n",
            "__________________________________________________________________________________________________\n",
            " Layer (type)                Output Shape                 Param #   Connected to                  \n",
            "==================================================================================================\n",
            " input_15 (InputLayer)       [(None, 1)]                  0         []                            \n",
            "                                                                                                  \n",
            " embedding_5 (Embedding)     multiple                     524300    ['input_15[0][0]']            \n",
            "                                                                                                  \n",
            " input_13 (InputLayer)       [(None, 100)]                0         []                            \n",
            "                                                                                                  \n",
            " input_14 (InputLayer)       [(None, 100)]                0         []                            \n",
            "                                                                                                  \n",
            " lstm_27 (LSTM)              multiple                     80400     ['embedding_5[1][0]',         \n",
            "                                                                     'input_13[0][0]',            \n",
            "                                                                     'input_14[0][0]']            \n",
            "                                                                                                  \n",
            " dense_12 (Dense)            multiple                     529543    ['lstm_27[1][0]']             \n",
            "                                                                                                  \n",
            "==================================================================================================\n",
            "Total params: 1134243 (4.33 MB)\n",
            "Trainable params: 1134243 (4.33 MB)\n",
            "Non-trainable params: 0 (0.00 Byte)\n",
            "__________________________________________________________________________________________________\n",
            "None\n"
          ]
        }
      ],
      "source": [
        "decoder_model = Model([decoder_input_word]+decoder_input_states, [outputs]+decoder_states)\n",
        "print(decoder_model.summary())"
      ]
    },
    {
      "cell_type": "code",
      "execution_count": 194,
      "metadata": {
        "id": "edxo2dPmF2Vs"
      },
      "outputs": [],
      "source": [
        "from numpy import argmax\n",
        "\n",
        "index_to_word_input = {v:k for k,v in inputs_word2index.items()}\n",
        "index_to_word_output = {v:k for k,v in outputs_word2index.items()}\n",
        "\n",
        "def translate(input_seq):\n",
        "    states = encoder_model.predict(input_seq)\n",
        "\n",
        "    sos = outputs_word2index['<sos>']\n",
        "    eos = outputs_word2index['<eos>']\n",
        "\n",
        "    output_seq = zeros((1, 1))\n",
        "    output_seq[0, 0] = sos\n",
        "\n",
        "    output_sentence = []\n",
        "\n",
        "    for _ in range(outputs_maxlen):\n",
        "\n",
        "        \n",
        "        output_tokens, h, c = decoder_model.predict([output_seq]+states)\n",
        "        print(output_tokens.shape)\n",
        "        idx = argmax(output_tokens[0, 0, :])\n",
        "\n",
        "        if idx == eos:\n",
        "            break\n",
        "        word = ''\n",
        "        if idx > 0:\n",
        "            word = index_to_word_output[idx]\n",
        "            output_sentence.append(word)\n",
        "\n",
        "        states = [h, c]\n",
        "        output_seq[0, 0] = idx\n",
        "\n",
        "    return ' '.join(output_sentence)"
      ]
    },
    {
      "cell_type": "code",
      "execution_count": 191,
      "metadata": {
        "colab": {
          "base_uri": "https://localhost:8080/"
        },
        "id": "hUiskCJwnvPa",
        "outputId": "a78e2b12-4931-45dc-8eee-ad6b099e2f25"
      },
      "outputs": [
        {
          "data": {
            "text/plain": [
              "array([96,  0,  0,  0,  0,  0,  0,  0,  0,  0,  0,  0,  0,  0,  0,  0,  0,\n",
              "        0,  0,  0], dtype=int32)"
            ]
          },
          "execution_count": 191,
          "metadata": {},
          "output_type": "execute_result"
        }
      ],
      "source": [
        "encoder_input_sequences[12]"
      ]
    },
    {
      "cell_type": "code",
      "execution_count": 195,
      "metadata": {
        "colab": {
          "base_uri": "https://localhost:8080/"
        },
        "id": "SHIKTApjF4eB",
        "outputId": "14d2f7a1-b735-4675-c88d-6cf82dd055cb"
      },
      "outputs": [
        {
          "name": "stdout",
          "output_type": "stream",
          "text": [
            "[[  1 165  20  87 815   0   0   0   0   0   0   0   0   0   0   0   0   0\n",
            "    0   0]]\n",
            "1/1 [==============================] - 0s 22ms/step\n",
            "1/1 [==============================] - 0s 21ms/step\n",
            "(1, 1, 5243)\n",
            "1/1 [==============================] - 0s 22ms/step\n",
            "(1, 1, 5243)\n",
            "1/1 [==============================] - 0s 23ms/step\n",
            "(1, 1, 5243)\n",
            "1/1 [==============================] - 0s 23ms/step\n",
            "(1, 1, 5243)\n",
            "1/1 [==============================] - 0s 22ms/step\n",
            "(1, 1, 5243)\n",
            "1/1 [==============================] - 0s 21ms/step\n",
            "(1, 1, 5243)\n",
            "1/1 [==============================] - 0s 29ms/step\n",
            "(1, 1, 5243)\n",
            "1/1 [==============================] - 0s 23ms/step\n",
            "(1, 1, 5243)\n",
            "1/1 [==============================] - 0s 21ms/step\n",
            "(1, 1, 5243)\n",
            "1/1 [==============================] - 0s 24ms/step\n",
            "(1, 1, 5243)\n",
            "1/1 [==============================] - 0s 23ms/step\n",
            "(1, 1, 5243)\n",
            "1/1 [==============================] - 0s 20ms/step\n",
            "(1, 1, 5243)\n",
            "1/1 [==============================] - 0s 22ms/step\n",
            "(1, 1, 5243)\n",
            "1/1 [==============================] - 0s 21ms/step\n",
            "(1, 1, 5243)\n",
            "1/1 [==============================] - 0s 22ms/step\n",
            "(1, 1, 5243)\n",
            "1/1 [==============================] - 0s 24ms/step\n",
            "(1, 1, 5243)\n",
            "1/1 [==============================] - 0s 23ms/step\n",
            "(1, 1, 5243)\n",
            "1/1 [==============================] - 0s 21ms/step\n",
            "(1, 1, 5243)\n",
            "1/1 [==============================] - 0s 21ms/step\n",
            "(1, 1, 5243)\n",
            "Input: I only have one blanket.\n",
            "Response: আমার একটা একটা জন্য ভালো আছে? আছে? না। আছে? আছে? হয়ে\n"
          ]
        }
      ],
      "source": [
        "from numpy import random\n",
        "\n",
        "i = random.choice(len(inputs))\n",
        "input_seq = encoder_input_sequences[i:i+1]\n",
        "print(input_seq)\n",
        "translation = translate(input_seq)\n",
        "\n",
        "print('Input:', inputs[i])\n",
        "\n",
        "print('Response:', translation)\n",
        "# input_seq"
      ]
    },
    {
      "cell_type": "markdown",
      "metadata": {
        "id": "xTKguh3Y_XoQ"
      },
      "source": [
        "# THE **SEQ2SEQ** model with **` Attention mechanism `**"
      ]
    },
    {
      "cell_type": "code",
      "execution_count": null,
      "metadata": {
        "colab": {
          "base_uri": "https://localhost:8080/"
        },
        "id": "ukzcWmoRv3eK",
        "outputId": "e90b346a-faf9-4f89-ba1f-350a3eabdb75"
      },
      "outputs": [
        {
          "name": "stdout",
          "output_type": "stream",
          "text": [
            "--2023-12-27 14:55:27--  https://www.manythings.org/anki/ben-eng.zip\n",
            "Resolving www.manythings.org (www.manythings.org)... 173.254.30.110\n",
            "Connecting to www.manythings.org (www.manythings.org)|173.254.30.110|:443... connected.\n",
            "HTTP request sent, awaiting response... 200 OK\n",
            "Length: 223209 (218K) [application/zip]\n",
            "Saving to: ‘ben-eng.zip’\n",
            "\n",
            "ben-eng.zip         100%[===================>] 217.98K  1.32MB/s    in 0.2s    \n",
            "\n",
            "2023-12-27 14:55:27 (1.32 MB/s) - ‘ben-eng.zip’ saved [223209/223209]\n",
            "\n"
          ]
        }
      ],
      "source": [
        "!wget https://www.manythings.org/anki/ben-eng.zip\n",
        "!unzip -q ben-eng.zip"
      ]
    },
    {
      "cell_type": "code",
      "execution_count": null,
      "metadata": {
        "colab": {
          "base_uri": "https://localhost:8080/"
        },
        "id": "nlGb4EDPw9r4",
        "outputId": "f1cec062-355c-497e-d471-6e2c5a0a800b"
      },
      "outputs": [
        {
          "data": {
            "text/plain": [
              "6513"
            ]
          },
          "execution_count": 2,
          "metadata": {},
          "output_type": "execute_result"
        }
      ],
      "source": [
        "text_file = \"/content/ben.txt\"\n",
        "with open(text_file) as f:\n",
        " lines = f.read().split(\"\\n\")[:-1]\n",
        "text_pairs = []\n",
        "len(lines)"
      ]
    },
    {
      "cell_type": "code",
      "execution_count": null,
      "metadata": {
        "id": "C86-XbBwxEgb"
      },
      "outputs": [],
      "source": [
        "for line in lines:\n",
        "  eng, ben,_ = line.split(\"\\t\")\n",
        "  ben = \"[start] \" + ben + \" [end]\"\n",
        "  text_pairs.append((eng,ben))\n",
        "\n",
        "\n"
      ]
    },
    {
      "cell_type": "code",
      "execution_count": null,
      "metadata": {
        "id": "7r8IyuV4yvgK"
      },
      "outputs": [],
      "source": [
        "import random\n",
        "random.shuffle(text_pairs)\n",
        "num_val_samples = int(0.15 * len(text_pairs))\n",
        "num_train_samples = len(text_pairs) - 2 * num_val_samples\n",
        "train_pairs = text_pairs[:num_train_samples]\n",
        "val_pairs = text_pairs[num_train_samples:num_train_samples + num_val_samples]\n",
        "test_pairs = text_pairs[num_train_samples + num_val_samples:]"
      ]
    },
    {
      "cell_type": "code",
      "execution_count": null,
      "metadata": {
        "colab": {
          "base_uri": "https://localhost:8080/"
        },
        "id": "4B6U1nNtzDJ-",
        "outputId": "e71380c4-9405-4574-98bb-6580731f79a1"
      },
      "outputs": [
        {
          "data": {
            "text/plain": [
              "[(\"I'll come along.\", '[start] আমি সঙ্গে সঙ্গে যাবো। [end]'),\n",
              " (\"Don't underestimate me.\", '[start] আমাকে কোন অংশে কম মনে কোরো না। [end]'),\n",
              " ('They screamed.', '[start] ওরা চিৎকার করলো। [end]'),\n",
              " ('Leave it.', '[start] ছাড়। [end]'),\n",
              " ('Did you speak at all?', '[start] আপনি কি আদৌ কথা বলেছেন? [end]'),\n",
              " (\"You'll have to wait at least an hour to get a ticket.\",\n",
              "  '[start] টিকিট পেতে হলে আপনাকে অন্তত এক ঘন্টা অপেক্ষা করতে হবে। [end]'),\n",
              " ('What do you want to be when you grow up?',\n",
              "  '[start] তুই বড়ো হয়ে কী হতে চাস? [end]'),\n",
              " (\"I can't see.\", '[start] আমি দেখতে পাই না। [end]'),\n",
              " ('Have fun.', '[start] আনন্দ করুন। [end]'),\n",
              " (\"We're going to see if we can do that.\",\n",
              "  '[start] আমরা তা করতে পারি কিনা তা দেখতে যাচ্ছি। [end]')]"
            ]
          },
          "execution_count": 5,
          "metadata": {},
          "output_type": "execute_result"
        }
      ],
      "source": [
        "val_pairs[:10]"
      ]
    },
    {
      "cell_type": "code",
      "execution_count": null,
      "metadata": {
        "id": "E3n5bduC1_en"
      },
      "outputs": [],
      "source": [
        "# strip_chars = strip_chars.replace(\"[\", \"\")\n",
        "# strip_chars = strip_chars.replace(\"]\", \"\")\n",
        "def custom_standardization(input_string):\n",
        "  lowercase = tf.strings.lower(input_string)\n",
        "  return tf.strings.regex_replace(\n",
        "  lowercase, f\"[{re.escape(strip_chars)}]\", \"\")"
      ]
    },
    {
      "cell_type": "markdown",
      "metadata": {
        "id": "keR1SS0V8fzH"
      },
      "source": [
        "**TOKENS>>>>>>>>>>>>>>>>>>**"
      ]
    },
    {
      "cell_type": "code",
      "execution_count": null,
      "metadata": {
        "id": "RxHnNoDnzUBK"
      },
      "outputs": [],
      "source": [
        "import tensorflow as tf\n",
        "import string\n",
        "import re\n",
        "from tensorflow.keras import layers\n",
        "sequence_length=50\n",
        "\n",
        "source_vectorization = layers.TextVectorization(\n",
        "  max_tokens=30000,\n",
        "  output_mode=\"int\",\n",
        "  output_sequence_length=sequence_length,\n",
        "  # standardize=custom_standardization\n",
        ")\n",
        "target_vectorization = layers.TextVectorization(\n",
        "  max_tokens=30000,\n",
        "  output_mode=\"int\",\n",
        "  output_sequence_length=sequence_length + 1,\n",
        "\n",
        ")"
      ]
    },
    {
      "cell_type": "code",
      "execution_count": null,
      "metadata": {
        "id": "eozPYf562_y1"
      },
      "outputs": [],
      "source": [
        "train_eng_texts = [pair[0] for pair in train_pairs]\n",
        "train_ben_texts = [pair[1] for pair in train_pairs]\n",
        "source_vectorization.adapt(train_eng_texts)\n",
        "target_vectorization.adapt(train_ben_texts)\n"
      ]
    },
    {
      "cell_type": "code",
      "execution_count": null,
      "metadata": {
        "colab": {
          "base_uri": "https://localhost:8080/"
        },
        "id": "u_8wOVgg3Twh",
        "outputId": "9fc7b63f-7ba0-4a33-b7c4-4bd1fe4c606d"
      },
      "outputs": [
        {
          "data": {
            "text/plain": [
              "2289"
            ]
          },
          "execution_count": 9,
          "metadata": {},
          "output_type": "execute_result"
        }
      ],
      "source": [
        "source_vocab=source_vectorization.get_vocabulary()\n",
        "# Create word-to-index dictionaries\n",
        "word_to_index_source = {word: index for index, word in enumerate(source_vocab)}\n",
        "len(word_to_index_source)\n"
      ]
    },
    {
      "cell_type": "code",
      "execution_count": null,
      "metadata": {
        "id": "yRiM3Uow7Bvb"
      },
      "outputs": [],
      "source": [
        "import tensorflow as tf\n",
        "\n",
        "# Assuming source_vectorization and target_vectorization are TextVectorization layers\n",
        "\n",
        "batch_size = 64\n",
        "\n",
        "def format_dataset(eng, ben):\n",
        "    eng = source_vectorization(eng)\n",
        "    ben = target_vectorization(ben)\n",
        "    # Ensure ben has the expected shape before slicing\n",
        "    # ben = tf.reshape(ben, [tf.shape(ben)[0], -1])  # Reshape to 2D\n",
        "    return {\"eng\": eng, \"ben\": ben[:, :-1]}, ben[:, 1:]\n",
        "\n",
        "def make_dataset(pairs):\n",
        "    eng_texts, ben_texts = zip(*pairs)\n",
        "    eng_texts = list(eng_texts)\n",
        "    ben_texts = list(ben_texts)\n",
        "    dataset = tf.data.Dataset.from_tensor_slices((eng_texts, ben_texts))\n",
        "    dataset = dataset.batch(batch_size)\n",
        "    dataset = dataset.map(format_dataset, num_parallel_calls=tf.data.experimental.AUTOTUNE)\n",
        "    return dataset.shuffle(2048).prefetch(16).cache()\n"
      ]
    },
    {
      "cell_type": "code",
      "execution_count": null,
      "metadata": {
        "colab": {
          "base_uri": "https://localhost:8080/"
        },
        "id": "azFsm8XpLojW",
        "outputId": "28166e5a-39e3-4eaa-c869-d464be029c09"
      },
      "outputs": [
        {
          "name": "stdout",
          "output_type": "stream",
          "text": [
            "English: Hello, Bengali: [start] Bonjour [end]\n",
            "English: How are you, Bengali: [start] Kemon achho [end]\n",
            "English: Goodbye, Bengali: [start] Bidaye [end]\n"
          ]
        }
      ],
      "source": [
        "\n",
        "\n",
        "import tensorflow as tf\n",
        "\n",
        "# Sample data\n",
        "eng_texts = [\"Hello\", \"How are you\", \"Goodbye\"]\n",
        "ben_texts = [\"[start] Bonjour [end]\", \"[start] Kemon achho [end]\", \"[start] Bidaye [end]\"]\n",
        "\n",
        "# Create a dataset from the parallel sequences\n",
        "dataset = tf.data.Dataset.from_tensor_slices((eng_texts, ben_texts))\n",
        "\n",
        "# Iterate through the dataset\n",
        "for eng_text, ben_text in dataset:\n",
        "    print(f\"English: {eng_text.numpy().decode('utf-8')}, Bengali: {ben_text.numpy().decode('utf-8')}\")\n",
        "\n",
        "\n",
        "\n"
      ]
    },
    {
      "cell_type": "code",
      "execution_count": null,
      "metadata": {
        "id": "f_dfjxgZ7Y8i"
      },
      "outputs": [],
      "source": [
        "import numpy as np\n",
        "train_ds = make_dataset(train_pairs)\n",
        "val_ds = make_dataset(val_pairs)\n",
        "\n"
      ]
    },
    {
      "cell_type": "code",
      "execution_count": null,
      "metadata": {
        "colab": {
          "base_uri": "https://localhost:8080/"
        },
        "id": "CM2rewsD-OOs",
        "outputId": "9a0927d9-37d9-4fd5-9594-cf73afc0d512"
      },
      "outputs": [
        {
          "name": "stdout",
          "output_type": "stream",
          "text": [
            "inputs['english'].shape: (17, 50)\n"
          ]
        }
      ],
      "source": [
        "for inputs, targets in train_ds.take(1):\n",
        "  print(f\"inputs['english'].shape: {inputs['eng'].shape}\")"
      ]
    },
    {
      "cell_type": "code",
      "execution_count": null,
      "metadata": {
        "id": "lwqU3XFh-T1b"
      },
      "outputs": [],
      "source": [
        "from tensorflow import keras\n",
        "from tensorflow.keras import layers\n",
        "vocab_size = 7000"
      ]
    },
    {
      "cell_type": "code",
      "execution_count": null,
      "metadata": {
        "id": "--Bof1c4-YeB"
      },
      "outputs": [],
      "source": [
        "embed_dim = 256\n",
        "latent_dim = 1024\n",
        "source = keras.Input(shape=(None,), dtype=\"int64\", name=\"eng\")\n",
        "x = layers.Embedding(vocab_size, embed_dim, mask_zero=True)(source)\n",
        "encoded_source = layers.Bidirectional(\n",
        " layers.GRU(latent_dim), merge_mode=\"sum\")(x)\n"
      ]
    },
    {
      "cell_type": "code",
      "execution_count": null,
      "metadata": {
        "id": "tX2yQjoC-1u-"
      },
      "outputs": [],
      "source": [
        "past_target = keras.Input(shape=(None,), dtype=\"int64\", name=\"ben\")\n",
        "x = layers.Embedding(vocab_size, embed_dim, mask_zero=True)(past_target)\n",
        "decoder_gru = layers.GRU(latent_dim, return_sequences=True)\n",
        "x = decoder_gru(x, initial_state=encoded_source)\n",
        "x = layers.Dropout(0.5)(x)\n",
        "target_next_step = layers.Dense(vocab_size, activation=\"softmax\")(x)\n",
        "\n",
        "\n",
        "seq2seq_rnn = keras.Model([source, past_target], target_next_step)"
      ]
    },
    {
      "cell_type": "code",
      "execution_count": null,
      "metadata": {
        "colab": {
          "base_uri": "https://localhost:8080/"
        },
        "id": "B9_7rWtS-4oF",
        "outputId": "d2bfa24e-a523-4762-e827-faa15c503aa7"
      },
      "outputs": [
        {
          "name": "stdout",
          "output_type": "stream",
          "text": [
            "Epoch 1/50\n",
            "72/72 [==============================] - 33s 232ms/step - loss: 6.1391 - accuracy: 0.2544 - val_loss: 5.0788 - val_accuracy: 0.3212\n",
            "Epoch 2/50\n",
            "72/72 [==============================] - 5s 72ms/step - loss: 4.9602 - accuracy: 0.3347 - val_loss: 4.7858 - val_accuracy: 0.3488\n",
            "Epoch 3/50\n",
            "72/72 [==============================] - 6s 79ms/step - loss: 4.7257 - accuracy: 0.3410 - val_loss: 4.6085 - val_accuracy: 0.3610\n",
            "Epoch 4/50\n",
            "72/72 [==============================] - 5s 72ms/step - loss: 4.5167 - accuracy: 0.3577 - val_loss: 4.4895 - val_accuracy: 0.3695\n",
            "Epoch 5/50\n",
            "72/72 [==============================] - 5s 72ms/step - loss: 4.3283 - accuracy: 0.3711 - val_loss: 4.3488 - val_accuracy: 0.3842\n",
            "Epoch 6/50\n",
            "72/72 [==============================] - 6s 78ms/step - loss: 4.1604 - accuracy: 0.3795 - val_loss: 4.2435 - val_accuracy: 0.3942\n",
            "Epoch 7/50\n",
            "72/72 [==============================] - 5s 71ms/step - loss: 4.0098 - accuracy: 0.3887 - val_loss: 4.1452 - val_accuracy: 0.4005\n",
            "Epoch 8/50\n",
            "72/72 [==============================] - 6s 77ms/step - loss: 3.8575 - accuracy: 0.3963 - val_loss: 4.0602 - val_accuracy: 0.4070\n",
            "Epoch 9/50\n",
            "72/72 [==============================] - 5s 72ms/step - loss: 3.7199 - accuracy: 0.4091 - val_loss: 3.9928 - val_accuracy: 0.4163\n",
            "Epoch 10/50\n",
            "72/72 [==============================] - 6s 79ms/step - loss: 3.5907 - accuracy: 0.4178 - val_loss: 3.9595 - val_accuracy: 0.4200\n",
            "Epoch 11/50\n",
            "72/72 [==============================] - 5s 75ms/step - loss: 3.4657 - accuracy: 0.4297 - val_loss: 3.8757 - val_accuracy: 0.4326\n",
            "Epoch 12/50\n",
            "72/72 [==============================] - 5s 73ms/step - loss: 3.3276 - accuracy: 0.4404 - val_loss: 3.8120 - val_accuracy: 0.4405\n",
            "Epoch 13/50\n",
            "72/72 [==============================] - 6s 80ms/step - loss: 3.2057 - accuracy: 0.4489 - val_loss: 3.7848 - val_accuracy: 0.4433\n",
            "Epoch 14/50\n",
            "72/72 [==============================] - 5s 74ms/step - loss: 3.0824 - accuracy: 0.4598 - val_loss: 3.7216 - val_accuracy: 0.4544\n",
            "Epoch 15/50\n",
            "72/72 [==============================] - 6s 80ms/step - loss: 2.9546 - accuracy: 0.4732 - val_loss: 3.6821 - val_accuracy: 0.4553\n",
            "Epoch 16/50\n",
            "72/72 [==============================] - 5s 74ms/step - loss: 2.8328 - accuracy: 0.4832 - val_loss: 3.6338 - val_accuracy: 0.4641\n",
            "Epoch 17/50\n",
            "72/72 [==============================] - 6s 81ms/step - loss: 2.7164 - accuracy: 0.4953 - val_loss: 3.6057 - val_accuracy: 0.4674\n",
            "Epoch 18/50\n",
            "72/72 [==============================] - 6s 78ms/step - loss: 2.5989 - accuracy: 0.5072 - val_loss: 3.5718 - val_accuracy: 0.4698\n",
            "Epoch 19/50\n",
            "72/72 [==============================] - 6s 77ms/step - loss: 2.4892 - accuracy: 0.5198 - val_loss: 3.5490 - val_accuracy: 0.4749\n",
            "Epoch 20/50\n",
            "72/72 [==============================] - 5s 74ms/step - loss: 2.3718 - accuracy: 0.5315 - val_loss: 3.5116 - val_accuracy: 0.4820\n",
            "Epoch 21/50\n",
            "72/72 [==============================] - 6s 83ms/step - loss: 2.2511 - accuracy: 0.5480 - val_loss: 3.4925 - val_accuracy: 0.4829\n",
            "Epoch 22/50\n",
            "72/72 [==============================] - 5s 74ms/step - loss: 2.1401 - accuracy: 0.5625 - val_loss: 3.4842 - val_accuracy: 0.4850\n",
            "Epoch 23/50\n",
            "72/72 [==============================] - 5s 75ms/step - loss: 2.0353 - accuracy: 0.5764 - val_loss: 3.4695 - val_accuracy: 0.4914\n",
            "Epoch 24/50\n",
            "72/72 [==============================] - 6s 79ms/step - loss: 1.9413 - accuracy: 0.5882 - val_loss: 3.4506 - val_accuracy: 0.4971\n",
            "Epoch 25/50\n",
            "72/72 [==============================] - 5s 76ms/step - loss: 1.8360 - accuracy: 0.6055 - val_loss: 3.4472 - val_accuracy: 0.4988\n",
            "Epoch 26/50\n",
            "72/72 [==============================] - 5s 74ms/step - loss: 1.7472 - accuracy: 0.6203 - val_loss: 3.4202 - val_accuracy: 0.5055\n",
            "Epoch 27/50\n",
            "72/72 [==============================] - 6s 80ms/step - loss: 1.6459 - accuracy: 0.6401 - val_loss: 3.4160 - val_accuracy: 0.5056\n",
            "Epoch 28/50\n",
            "72/72 [==============================] - 6s 77ms/step - loss: 1.5468 - accuracy: 0.6558 - val_loss: 3.4200 - val_accuracy: 0.5076\n",
            "Epoch 29/50\n",
            "72/72 [==============================] - 6s 82ms/step - loss: 1.4672 - accuracy: 0.6728 - val_loss: 3.3943 - val_accuracy: 0.5140\n",
            "Epoch 30/50\n",
            "72/72 [==============================] - 6s 76ms/step - loss: 1.3743 - accuracy: 0.6908 - val_loss: 3.3893 - val_accuracy: 0.5172\n",
            "Epoch 31/50\n",
            "72/72 [==============================] - 5s 75ms/step - loss: 1.2947 - accuracy: 0.7079 - val_loss: 3.3947 - val_accuracy: 0.5177\n",
            "Epoch 32/50\n",
            "72/72 [==============================] - 6s 80ms/step - loss: 1.2194 - accuracy: 0.7262 - val_loss: 3.3892 - val_accuracy: 0.5174\n",
            "Epoch 33/50\n",
            "72/72 [==============================] - 5s 76ms/step - loss: 1.1414 - accuracy: 0.7427 - val_loss: 3.3866 - val_accuracy: 0.5221\n",
            "Epoch 34/50\n",
            "72/72 [==============================] - 5s 74ms/step - loss: 1.0667 - accuracy: 0.7582 - val_loss: 3.4153 - val_accuracy: 0.5197\n",
            "Epoch 35/50\n",
            "72/72 [==============================] - 6s 81ms/step - loss: 1.0039 - accuracy: 0.7704 - val_loss: 3.4023 - val_accuracy: 0.5279\n",
            "Epoch 36/50\n",
            "72/72 [==============================] - 5s 74ms/step - loss: 0.9360 - accuracy: 0.7855 - val_loss: 3.4043 - val_accuracy: 0.5240\n",
            "Epoch 37/50\n",
            "72/72 [==============================] - 6s 79ms/step - loss: 0.8694 - accuracy: 0.8013 - val_loss: 3.4201 - val_accuracy: 0.5255\n",
            "Epoch 38/50\n",
            "72/72 [==============================] - 5s 73ms/step - loss: 0.8113 - accuracy: 0.8138 - val_loss: 3.4276 - val_accuracy: 0.5291\n",
            "Epoch 39/50\n",
            "72/72 [==============================] - 6s 77ms/step - loss: 0.7604 - accuracy: 0.8253 - val_loss: 3.4417 - val_accuracy: 0.5280\n",
            "Epoch 40/50\n",
            "72/72 [==============================] - 6s 78ms/step - loss: 0.7212 - accuracy: 0.8321 - val_loss: 3.4418 - val_accuracy: 0.5333\n",
            "Epoch 41/50\n",
            "72/72 [==============================] - 5s 74ms/step - loss: 0.6688 - accuracy: 0.8445 - val_loss: 3.4544 - val_accuracy: 0.5328\n",
            "Epoch 42/50\n",
            "72/72 [==============================] - 6s 81ms/step - loss: 0.6256 - accuracy: 0.8530 - val_loss: 3.4585 - val_accuracy: 0.5328\n",
            "Epoch 43/50\n",
            "72/72 [==============================] - 5s 75ms/step - loss: 0.5914 - accuracy: 0.8600 - val_loss: 3.4780 - val_accuracy: 0.5340\n",
            "Epoch 44/50\n",
            "72/72 [==============================] - 5s 73ms/step - loss: 0.5512 - accuracy: 0.8684 - val_loss: 3.4983 - val_accuracy: 0.5326\n",
            "Epoch 45/50\n",
            "72/72 [==============================] - 5s 75ms/step - loss: 0.5187 - accuracy: 0.8762 - val_loss: 3.4995 - val_accuracy: 0.5373\n",
            "Epoch 46/50\n",
            "72/72 [==============================] - 6s 81ms/step - loss: 0.4958 - accuracy: 0.8776 - val_loss: 3.5278 - val_accuracy: 0.5334\n",
            "Epoch 47/50\n",
            "72/72 [==============================] - 6s 77ms/step - loss: 0.4695 - accuracy: 0.8849 - val_loss: 3.5180 - val_accuracy: 0.5368\n",
            "Epoch 48/50\n",
            "72/72 [==============================] - 5s 75ms/step - loss: 0.4403 - accuracy: 0.8908 - val_loss: 3.5574 - val_accuracy: 0.5331\n",
            "Epoch 49/50\n",
            "72/72 [==============================] - 6s 78ms/step - loss: 0.4170 - accuracy: 0.8972 - val_loss: 3.5594 - val_accuracy: 0.5353\n",
            "Epoch 50/50\n",
            "72/72 [==============================] - 6s 76ms/step - loss: 0.3959 - accuracy: 0.9023 - val_loss: 3.5702 - val_accuracy: 0.5331\n"
          ]
        },
        {
          "data": {
            "text/plain": [
              "<keras.src.callbacks.History at 0x7dfd0cf9b580>"
            ]
          },
          "execution_count": 17,
          "metadata": {},
          "output_type": "execute_result"
        }
      ],
      "source": [
        "seq2seq_rnn.compile(\n",
        " optimizer=\"rmsprop\",\n",
        " loss=\"sparse_categorical_crossentropy\",\n",
        " metrics=[\"accuracy\"])\n",
        "seq2seq_rnn.fit(train_ds, epochs=50, validation_data=val_ds)"
      ]
    },
    {
      "cell_type": "code",
      "execution_count": null,
      "metadata": {
        "id": "TclDjwZzCore"
      },
      "outputs": [],
      "source": [
        "# Save the entire model (encoder and decoder together)\n",
        "seq2seq_rnn.save(\"seq2seq_model.h5\")\n",
        "\n",
        "# # Save the encoder and decoder models separately\n",
        "# encoder_model.save(\"encoder_model.h5\")\n",
        "# decoder_model.save(\"decoder_model.h5\")\n"
      ]
    },
    {
      "cell_type": "code",
      "execution_count": null,
      "metadata": {
        "id": "BBHmMs5sDbAH"
      },
      "outputs": [],
      "source": [
        "from keras.models import load_model\n",
        "\n",
        "# Load the entire seq2seq model\n",
        "loaded_seq2seq_rnn = load_model(\"/content/seq2seq_model.h5\")\n",
        "\n",
        "# Extract the encoder and decoder models from the loaded seq2seq model\n",
        "loaded_encoder_model = loaded_seq2seq_rnn.layers[2]  # Adjust the layer index accordingly\n",
        "loaded_decoder_model = loaded_seq2seq_rnn.layers[3]  # Adjust the layer index accordingly\n"
      ]
    },
    {
      "cell_type": "code",
      "execution_count": null,
      "metadata": {
        "id": "viJgKY-3BP6t"
      },
      "outputs": [],
      "source": [
        "import numpy as np\n",
        "spa_vocab = target_vectorization.get_vocabulary()\n",
        "spa_index_lookup = dict(zip(range(len(spa_vocab)), spa_vocab))\n",
        "max_decoded_sentence_length = 20\n",
        "\n",
        "def decode_sequence(input_sentence):\n",
        "    tokenized_input_sentence = source_vectorization([input_sentence])\n",
        "    decoded_sentence = \"[start]\"\n",
        "    for i in range(max_decoded_sentence_length):\n",
        "        tokenized_target_sentence = target_vectorization([decoded_sentence])\n",
        "        next_token_predictions = seq2seq_rnn.predict(\n",
        "            [tokenized_input_sentence, tokenized_target_sentence])\n",
        "        sampled_token_index = np.argmax(next_token_predictions[0, i, :])\n",
        "        sampled_token = spa_index_lookup[sampled_token_index]\n",
        "        decoded_sentence += \" \" + sampled_token\n",
        "        if sampled_token == \"end\":\n",
        "            break\n",
        "    return decoded_sentence"
      ]
    },
    {
      "cell_type": "code",
      "execution_count": null,
      "metadata": {
        "colab": {
          "base_uri": "https://localhost:8080/"
        },
        "id": "uTDKJqJ_Ba8g",
        "outputId": "c2553501-c385-4e76-ccef-983be26748d3"
      },
      "outputs": [
        {
          "name": "stdout",
          "output_type": "stream",
          "text": [
            "-\n",
            "Take me to the hospital.\n",
            "1/1 [==============================] - 0s 25ms/step\n",
            "1/1 [==============================] - 0s 23ms/step\n",
            "1/1 [==============================] - 0s 23ms/step\n",
            "1/1 [==============================] - 0s 23ms/step\n",
            "1/1 [==============================] - 0s 23ms/step\n",
            "[start] আমাকে হাসপাতালে নিয়ে চলো। end\n",
            "-\n",
            "He hasn't come yet.\n",
            "1/1 [==============================] - 0s 22ms/step\n",
            "1/1 [==============================] - 0s 23ms/step\n",
            "1/1 [==============================] - 0s 23ms/step\n",
            "1/1 [==============================] - 0s 24ms/step\n",
            "[start] সে এখনো আসেনি। end\n",
            "-\n",
            "He was giving a speech.\n",
            "1/1 [==============================] - 0s 37ms/step\n",
            "1/1 [==============================] - 0s 43ms/step\n",
            "1/1 [==============================] - 0s 76ms/step\n",
            "1/1 [==============================] - 0s 26ms/step\n",
            "[start] উনি বক্তৃতা দিচ্ছিলেন। end\n",
            "-\n",
            "Japan is in Asia.\n",
            "1/1 [==============================] - 0s 22ms/step\n",
            "1/1 [==============================] - 0s 23ms/step\n",
            "1/1 [==============================] - 0s 22ms/step\n",
            "[start] ভবনটিতে কোথায় end\n",
            "-\n",
            "She married him.\n",
            "1/1 [==============================] - 0s 23ms/step\n",
            "1/1 [==============================] - 0s 24ms/step\n",
            "1/1 [==============================] - 0s 23ms/step\n",
            "1/1 [==============================] - 0s 27ms/step\n",
            "1/1 [==============================] - 0s 34ms/step\n",
            "[start] সে তাকে কথা বলে। end\n",
            "-\n",
            "Tom lied about his age to get into the club.\n",
            "1/1 [==============================] - 0s 24ms/step\n",
            "1/1 [==============================] - 0s 23ms/step\n",
            "1/1 [==============================] - 0s 24ms/step\n",
            "1/1 [==============================] - 0s 23ms/step\n",
            "1/1 [==============================] - 0s 27ms/step\n",
            "1/1 [==============================] - 0s 25ms/step\n",
            "1/1 [==============================] - 0s 24ms/step\n",
            "1/1 [==============================] - 0s 25ms/step\n",
            "1/1 [==============================] - 0s 27ms/step\n",
            "1/1 [==============================] - 0s 24ms/step\n",
            "[start] টম বলেছিল যে সে ব্যবস্থাপককে মেরি এড়িয়ে দেখতে পেল। end\n",
            "-\n",
            "May I open the window?\n",
            "1/1 [==============================] - 0s 24ms/step\n",
            "1/1 [==============================] - 0s 25ms/step\n",
            "1/1 [==============================] - 0s 23ms/step\n",
            "1/1 [==============================] - 0s 23ms/step\n",
            "1/1 [==============================] - 0s 24ms/step\n",
            "1/1 [==============================] - 0s 28ms/step\n",
            "1/1 [==============================] - 0s 26ms/step\n",
            "[start] আমি কি একটা ছবি তুলতে পারি end\n",
            "-\n",
            "You look sick.\n",
            "1/1 [==============================] - 0s 25ms/step\n",
            "1/1 [==============================] - 0s 24ms/step\n",
            "1/1 [==============================] - 0s 23ms/step\n",
            "1/1 [==============================] - 0s 24ms/step\n",
            "1/1 [==============================] - 0s 24ms/step\n",
            "1/1 [==============================] - 0s 23ms/step\n",
            "1/1 [==============================] - 0s 24ms/step\n",
            "[start] তোমাকে দেখে অসুস্থ বলে মনে হচ্ছে। end\n",
            "-\n",
            "We'll work on that.\n",
            "1/1 [==============================] - 0s 24ms/step\n",
            "1/1 [==============================] - 0s 24ms/step\n",
            "1/1 [==============================] - 0s 22ms/step\n",
            "1/1 [==============================] - 0s 22ms/step\n",
            "1/1 [==============================] - 0s 23ms/step\n",
            "[start] আমরা যুদ্ধ একসাথে খাই। end\n",
            "-\n",
            "I'm eating now.\n",
            "1/1 [==============================] - 0s 35ms/step\n",
            "1/1 [==============================] - 0s 34ms/step\n",
            "1/1 [==============================] - 0s 37ms/step\n",
            "1/1 [==============================] - 0s 36ms/step\n",
            "[start] আমি এখন গরীব। end\n"
          ]
        }
      ],
      "source": [
        "test_eng_texts = [pair[0] for pair in test_pairs]\n",
        "for _ in range(10):\n",
        " input_sentence = random.choice(test_eng_texts)\n",
        " print(\"-\")\n",
        " print(input_sentence)\n",
        " print(decode_sequence(input_sentence))"
      ]
    },
    {
      "cell_type": "code",
      "execution_count": null,
      "metadata": {
        "id": "d1Y2qtaKBrNo"
      },
      "outputs": [],
      "source": [
        "import tensorflow as tf\n",
        "\n",
        "\n",
        "print('\\n\\n\\n\\n\\n\\n\\n')\n",
        "\n",
        "def format_dataset(eng, ben):\n",
        "    eng = source_vectorization(eng)\n",
        "\n",
        "    # Print the original Bengali sentence before tokenization\n",
        "    tf.print(\"Original Bengali Sentence:\", ben)\n",
        "\n",
        "    ben = target_vectorization(ben)\n",
        "    print('kire mama')\n",
        "    # Print the tokenized Bengali sentence\n",
        "    tf.print(\"Tokenized Bengali Sentence:\", ben)\n",
        "\n",
        "    # Ensure ben has the expected shape before slicing\n",
        "    ben = tf.reshape(ben, [tf.shape(ben)[0], -1])  # Reshape to 2D\n",
        "\n",
        "    # Prepare inputs and targets for the model\n",
        "    inputs = {\"eng\": eng, \"ben\": ben[:, :-1]}\n",
        "    targets = ben[:, 1:]\n",
        "\n",
        "    return inputs, targets\n",
        "\n",
        "\n",
        "\n",
        "eng_texts = [\"Hello\", \"How are you\", \"Goodbye\"]\n",
        "ben_texts = [\"[start] Bonjour [end]\", \"[start] Kemon achho [end]\", \"[start] Bidaye [end]\"]\n",
        "\n",
        "# Create a dataset from the parallel sequences\n",
        "dataset = tf.data.Dataset.from_tensor_slices((eng_texts, ben_texts))\n",
        "\n",
        "dataset = dataset.map(format_dataset)"
      ]
    },
    {
      "cell_type": "code",
      "execution_count": null,
      "metadata": {
        "id": "t-WFnheX2NZu"
      },
      "outputs": [],
      "source": [
        "# !gdown 'https://docs.google.com/uc?export=download&id=1FLlC0NNXFKVGaVM3-cYW-XEx8p8eV3Wm'\n",
        "!bunzip2 '/content/hasan-etal-2020-low.tar.bz2'"
      ]
    },
    {
      "cell_type": "code",
      "execution_count": null,
      "metadata": {
        "id": "7J2bDREx3u49"
      },
      "outputs": [],
      "source": [
        "import shutil\n",
        "shutil.unpack_archive('/content/hasan-etal-2020-low.tar', '/content/drive/MyDrive/translt') # this will extract the file to the myfolder directory\n"
      ]
    },
    {
      "cell_type": "code",
      "execution_count": null,
      "metadata": {
        "colab": {
          "base_uri": "https://localhost:8080/"
        },
        "id": "26mjqyoJ5S6f",
        "outputId": "dd83a1b5-458d-4e66-f629-5779f68cdfb0"
      },
      "outputs": [
        {
          "data": {
            "text/plain": [
              "2753069"
            ]
          },
          "execution_count": 11,
          "metadata": {},
          "output_type": "execute_result"
        }
      ],
      "source": [
        "\n",
        "text_file ='/content/drive/MyDrive/translt/hasan-etal-2020-low/2.75M/ben.txt'\n",
        "with open(text_file) as f:\n",
        " lines = f.read().split(\"\\n\")[:-1]\n",
        "text_pairs = []\n",
        "len(lines)"
      ]
    },
    {
      "cell_type": "code",
      "execution_count": null,
      "metadata": {
        "colab": {
          "base_uri": "https://localhost:8080/"
        },
        "id": "DOAF45fY6efa",
        "outputId": "66d7c3f2-3def-4c36-dc6c-4c6d31be5eb7"
      },
      "outputs": [
        {
          "data": {
            "text/plain": [
              "['সে ঘুরে ল্যাংডনের চোখের দিকে তাকায়।',\n",
              " 'সব মানুষের মধ্যে সমতা আনতে হলে কারও না কারও স্বাধীনতায় হস্তক্ষেপ করতেই হবে।',\n",
              " 'যাই জিজ্ঞেস কর না কেন, সব প্রশ্নের জবাব দিব ডিনারের পর।',\n",
              " 'ঠিক যখন আমি সভাকে শুভরাত জানিয়ে বিদায় নিতে উদ্যত, একজন লোক সত্বর আমার কাছে এসে নিজের পরিচয় দেয়।',\n",
              " 'যেতে দিন!',\n",
              " 'এবার ক্যামারলেনগো ঘুরে দাঁড়াল আবার, তাকাল অন্য সৈনিকদের দিকে, জোয়ানগণ, আমি আর কোন প্রাণঘাতি ঘটনা দেখতে চাই না এই সন্ধ্যায়।',\n",
              " 'তাদের ট্যাক্সি এখন কোথায়?',\n",
              " 'বেশিরভাগ গবেষকই মনে করেন যে, এতসব গুরুত্বপূর্ণ আবিষ্কারের পেছনে নিশ্চয়ই সেপিয়েন্সদের বুদ্ধিবৃত্তিক দক্ষতার কোনো পরিবর্তন দায়ী।',\n",
              " 'দশকের পর দশক ধরে এসব প্রাণীর জীবাশ্ম আর দেহাবশেষের খোঁজে দুই আমেরিকার পাহাড় ও সমতলে চষে বেড়াচ্ছেন বিশেষজ্ঞরা। যখনই তাঁরা কোনো কিছু খুঁজে পাচ্ছেন পরম যত্নে সেগুলো পাঠিয়ে দিচ্ছেন গবেষণাগারে।',\n",
              " 'এটা প্রাপ্ত বয়স্কদের জন্য এক রকমের স্কুলও বলা চলে।',\n",
              " 'বলে চললেন হোয়াইট ম্যাসোন, বন্দুকটা আমেরিকান শট গানই বটে।',\n",
              " \"মা'র অসুখের শেষের দিকে একবার ভিয়েনায় গিয়েছিলাম আকাদমি অফ্ ফাইন আর্টসে প্রবেশিকা পরীক্ষা দেওয়ার জন্য।\",\n",
              " 'একই দলের লোকজন নিজেদের সাথে বেশি সময় কাটায়, নিজেদের খাবার ভাগাভাগি করে খায় এবং বিপদে একে অন্যকে সাহায্য সহযোগিতা করে।',\n",
              " 'আর ২০০০ সালে এসে সেটা প্রায় চারগুণ হয়ে হলো ৬০০ কোটি।',\n",
              " 'তার ফলে ছুতোরমিস্ত্রি আসার ব্যাপারটা আগে থেকে আমাদের কেউ জানিয়ে দিতে পারেনি।',\n",
              " 'উল্লাসের একটা ঝলক খেলে গেল ল্যাঙডনের চোখেমুখে, সান্তা এনার গেটের ঠিক পিছনে।',\n",
              " 'সে তাদেরকে ফোন করে এই অবস্থাটার কথাও জানাতে পারছে না।',\n",
              " 'ষষ্ঠ এবং চূড়ান্ত ব্র্যান্ড...',\n",
              " 'পিটার এখনও নীচে নামছে।',\n",
              " 'বিবর্তনীয় সাফল্য আর ব্যাক্তিগত যন্ত্রণার মধ্যের এই দ্বন্দ্বটাই কৃষি বিপ্লব থেকে আমাদের পাওয়া সবচেয়ে গুরুত্বপূর্ণ শিক্ষা।']"
            ]
          },
          "execution_count": 25,
          "metadata": {},
          "output_type": "execute_result"
        }
      ],
      "source": [
        "lines[:20]"
      ]
    },
    {
      "cell_type": "markdown",
      "metadata": {
        "id": "JAmLKNruTSYK"
      },
      "source": [
        "### **the 2mil dataset!!!!**"
      ]
    },
    {
      "cell_type": "code",
      "execution_count": null,
      "metadata": {
        "colab": {
          "base_uri": "https://localhost:8080/"
        },
        "id": "5ARyj0R_Tcl2",
        "outputId": "9ccb6cdf-9823-4b14-8f4c-f9b0eeb6d921"
      },
      "outputs": [
        {
          "data": {
            "text/plain": [
              "2753069"
            ]
          },
          "execution_count": 1,
          "metadata": {},
          "output_type": "execute_result"
        }
      ],
      "source": [
        "text_file = \"/content/drive/MyDrive/translt/hasan-etal-2020-low/2.75M/ben.txt\"\n",
        "with open(text_file) as f:\n",
        " lines = f.read().split(\"\\n\")[:-1]\n",
        "text_pairs = []\n",
        "len(lines)"
      ]
    },
    {
      "cell_type": "code",
      "execution_count": null,
      "metadata": {
        "colab": {
          "base_uri": "https://localhost:8080/"
        },
        "id": "-pJrG7SSTiX1",
        "outputId": "bfde52ae-0f8e-430e-f724-b719fee586c2"
      },
      "outputs": [
        {
          "data": {
            "text/plain": [
              "2753069"
            ]
          },
          "execution_count": 2,
          "metadata": {},
          "output_type": "execute_result"
        }
      ],
      "source": [
        "len(lines)"
      ]
    },
    {
      "cell_type": "code",
      "execution_count": null,
      "metadata": {
        "colab": {
          "base_uri": "https://localhost:8080/"
        },
        "id": "BJIFr2kPTmrF",
        "outputId": "de47cd21-7d35-4254-9d0e-0b6cca1079b7"
      },
      "outputs": [
        {
          "name": "stdout",
          "output_type": "stream",
          "text": [
            "over 25310 under 2725725 %=0.9285602912986453\n"
          ]
        }
      ],
      "source": [
        "mx = 0\n",
        "snt = ''\n",
        "pos = 0\n",
        "ave = 0\n",
        "nlst = []\n",
        "overnt=0\n",
        "undr=0\n",
        "limit=50\n",
        "for i, s in enumerate(lines):\n",
        "    ln = len(s.split())\n",
        "    if ln<=limit:\n",
        "      undr+=1\n",
        "\n",
        "    if ln > limit:\n",
        "        overnt+=1\n",
        "        continue  # Skip sentences with length greater than 250\n",
        "\n",
        "    nlst.append(s)  # Append the sentence to nlst if length is less than or equal to 250\n",
        "\n",
        "    ave += ln\n",
        "\n",
        "    if mx < ln:\n",
        "        mx = ln\n",
        "        snt = s\n",
        "        pos = i\n",
        "\n",
        "# Print or use mx, snt, pos, ave as needed\n",
        "\n",
        "# Print the new list nlst\n",
        "print(\"over {} under {} %={}\".format(overnt,undr,(overnt/undr)*100))\n"
      ]
    },
    {
      "cell_type": "code",
      "execution_count": null,
      "metadata": {
        "colab": {
          "base_uri": "https://localhost:8080/"
        },
        "id": "B3Wa4gZkTnvO",
        "outputId": "15341523-1539-4490-8472-1865367894dc"
      },
      "outputs": [
        {
          "data": {
            "text/plain": [
              "(2752306, 2751035)"
            ]
          },
          "execution_count": 9,
          "metadata": {},
          "output_type": "execute_result"
        }
      ],
      "source": [
        "len(lines),len(nlst)"
      ]
    },
    {
      "cell_type": "code",
      "execution_count": null,
      "metadata": {
        "colab": {
          "base_uri": "https://localhost:8080/",
          "height": 472
        },
        "id": "lJPZQ6gGTxow",
        "outputId": "f3fcfa9c-92db-4a58-ac87-2a5d85727590"
      },
      "outputs": [
        {
          "data": {
            "image/png": "[encoded data removed]",
            "text/plain": [
              "<Figure size 640x480 with 1 Axes>"
            ]
          },
          "metadata": {},
          "output_type": "display_data"
        }
      ],
      "source": [
        "import matplotlib.pyplot as plt\n",
        "from collections import Counter\n",
        "\n",
        "lines=nlst\n",
        "\n",
        "sentence_lengths = [len(sentence.split()) for sentence in lines]\n",
        "\n",
        "# Count the occurrences of each length\n",
        "length_counts = Counter(sentence_lengths)\n",
        "\n",
        "# Extract unique lengths and their counts\n",
        "unique_lengths = list(length_counts.keys())\n",
        "counts = list(length_counts.values())\n",
        "\n",
        "# Plotting\n",
        "plt.bar(unique_lengths[:70], counts[:70], color='blue')\n",
        "plt.xlabel('Sentence Length')\n",
        "plt.ylabel('Number of Sentences')\n",
        "plt.title('Distribution of Sentence Lengths')\n",
        "plt.show()"
      ]
    },
    {
      "cell_type": "code",
      "execution_count": null,
      "metadata": {
        "id": "RtziaAyrkXn6"
      },
      "outputs": [],
      "source": []
    },
    {
      "cell_type": "code",
      "execution_count": null,
      "metadata": {
        "colab": {
          "base_uri": "https://localhost:8080/"
        },
        "id": "yUxEGXStjH9s",
        "outputId": "78680c0c-b444-48d7-9347-8eb9ca7d4744"
      },
      "outputs": [
        {
          "data": {
            "text/plain": [
              "(2753069, 2753069)"
            ]
          },
          "execution_count": 1,
          "metadata": {},
          "output_type": "execute_result"
        }
      ],
      "source": [
        "ben_txt='/content/drive/MyDrive/translt/hasan-etal-2020-low/2.75M/ben.txt'\n",
        "eng_txt='/content/drive/MyDrive/translt/hasan-etal-2020-low/2.75M/eng.txt'\n",
        "\n",
        "\n",
        "with open(ben_txt) as f:\n",
        " ben_lst = f.read().split(\"\\n\")[:-1]\n",
        "with open(eng_txt) as f:\n",
        " en_lst = f.read().split(\"\\n\")[:-1]\n",
        "len(ben_lst),len(en_lst)"
      ]
    },
    {
      "cell_type": "code",
      "execution_count": null,
      "metadata": {
        "colab": {
          "base_uri": "https://localhost:8080/"
        },
        "id": "3gw0tTVxjMtE",
        "outputId": "2e58cb48-467b-4792-8ef5-4b03225a783f"
      },
      "outputs": [
        {
          "data": {
            "text/plain": [
              "[('He turned to look Langdon in the eye.',\n",
              "  '[start] সে ঘুরে ল্যাংডনের চোখের দিকে তাকায়। [end]'),\n",
              " ('better o . Guaranteeing that every individual will be free to do as he wishes',\n",
              "  '[start] সব মানুষের মধ্যে সমতা আনতে হলে কারও না কারও স্বাধীনতায় হস্তক্ষেপ করতেই হবে। [end]'),\n",
              " ('\"What do you say I tell you over dinner.\"',\n",
              "  '[start] যাই জিজ্ঞেস কর না কেন, সব প্রশ্নের জবাব দিব ডিনারের পর। [end]'),\n",
              " ('When I was just about to say good-night to the assembly and to leave, a man came after me quickly and introduced himself.',\n",
              "  '[start] ঠিক যখন আমি সভাকে শুভরাত জানিয়ে বিদায় নিতে উদ্যত, একজন লোক সত্বর আমার কাছে এসে নিজের পরিচয় দেয়। [end]'),\n",
              " ('Let me pass.\"', '[start] যেতে দিন! [end]'),\n",
              " ('Now the camerlegno turned and addressed the remaining guards.',\n",
              "  '[start] এবার ক্যামারলেনগো ঘুরে দাঁড়াল আবার, তাকাল অন্য সৈনিকদের দিকে, জোয়ানগণ, আমি আর কোন প্রাণঘাতি ঘটনা দেখতে চাই না এই সন্ধ্যায়। [end]'),\n",
              " ('\"Where is their taxi now?', '[start] তাদের ট্যাক্সি এখন কোথায়? [end]'),\n",
              " (\"evidence for religion, commerce and social stratification. Most researchers believe that these unprecedented accomplishments were the product of a revolution in Sapiens' cognitive abilities.\",\n",
              "  '[start] বেশিরভাগ গবেষকই মনে করেন যে, এতসব গুরুত্বপূর্ণ আবিষ্কারের পেছনে নিশ্চয়ই সেপিয়েন্সদের বুদ্ধিবৃত্তিক দক্ষতার কোনো পরিবর্তন দায়ী। [end]'),\n",
              " ('For decades, palaeontologists and zooarchaeologists - people who search for and study animal remains - have been combing the plains and mountains of the Americas in search of the fossilised bones of ancient camels and the petri ed faeces of giant ground sloths.',\n",
              "  '[start] দশকের পর দশক ধরে এসব প্রাণীর জীবাশ্ম আর দেহাবশেষের খোঁজে দুই আমেরিকার পাহাড় ও সমতলে চষে বেড়াচ্ছেন বিশেষজ্ঞরা। যখনই তাঁরা কোনো কিছু খুঁজে পাচ্ছেন পরম যত্নে সেগুলো পাঠিয়ে দিচ্ছেন গবেষণাগারে। [end]'),\n",
              " ('It represents a kind of school for adults.',\n",
              "  '[start] এটা প্রাপ্ত বয়স্কদের জন্য এক রকমের স্কুলও বলা চলে। [end]')]"
            ]
          },
          "execution_count": 15,
          "metadata": {},
          "output_type": "execute_result"
        }
      ],
      "source": [
        "text_pairs=[]\n",
        "for eng,ben in zip(en_lst,ben_lst):\n",
        "  if len(ben.split())>50:\n",
        "    continue\n",
        "  ben = \"[start] \" + ben + \" [end]\"\n",
        "  text_pairs.append((eng,ben))\n",
        "len(text_pairs)\n",
        "\n",
        "text_pairs[:10]\n"
      ]
    },
    {
      "cell_type": "code",
      "execution_count": null,
      "metadata": {
        "colab": {
          "base_uri": "https://localhost:8080/"
        },
        "id": "Ez9RaaYikk7K",
        "outputId": "fb5061b7-b830-4d89-87da-84ca2875a484"
      },
      "outputs": [
        {
          "name": "stdout",
          "output_type": "stream",
          "text": [
            "Unique words in English sentences: 1055685\n",
            "Unique words in Bengali sentences: 1271342\n"
          ]
        }
      ],
      "source": [
        "eng_sentences, ben_sentences = zip(*text_pairs)\n",
        "\n",
        "# Tokenize and count unique words in English sentences\n",
        "eng_unique_words = set(word for sentence in eng_sentences for word in sentence.split())\n",
        "\n",
        "# Tokenize and count unique words in Bengali sentences\n",
        "ben_unique_words = set(word for sentence in ben_sentences for word in sentence.split())\n",
        "\n",
        "# Print or use the counts as needed\n",
        "print(\"Unique words in English sentences:\", len(eng_unique_words))\n",
        "print(\"Unique words in Bengali sentences:\", len(ben_unique_words))\n"
      ]
    },
    {
      "cell_type": "code",
      "execution_count": null,
      "metadata": {
        "colab": {
          "base_uri": "https://localhost:8080/",
          "height": 145
        },
        "id": "LC5-ddBangF0",
        "outputId": "e8623fd9-63b6-43c6-ac04-58bd12775c8c"
      },
      "outputs": [
        {
          "ename": "SyntaxError",
          "evalue": "ignored",
          "output_type": "error",
          "traceback": [
            "\u001b[0;36m  File \u001b[0;32m\"<ipython-input-34-c30f7b1f0787>\"\u001b[0;36m, line \u001b[0;32m2\u001b[0m\n\u001b[0;31m    ls=list(eng _unique_words)\u001b[0m\n\u001b[0m            ^\u001b[0m\n\u001b[0;31mSyntaxError\u001b[0m\u001b[0;31m:\u001b[0m invalid syntax. Perhaps you forgot a comma?\n"
          ]
        }
      ],
      "source": [
        "lim=100\n",
        "ls=list(eng _unique_words)\n",
        "for x in range(len(ls)):\n",
        "  print(ls[x])\n",
        "  if x>lim:break"
      ]
    },
    {
      "cell_type": "code",
      "execution_count": null,
      "metadata": {
        "colab": {
          "base_uri": "https://localhost:8080/",
          "height": 367
        },
        "id": "VMI7JxuANfav",
        "outputId": "74efd304-f704-4284-dbaf-ec76672254b5"
      },
      "outputs": [
        {
          "ename": "TypeError",
          "evalue": "'ellipsis' object is not iterable",
          "output_type": "error",
          "traceback": [
            "\u001b[0;31m---------------------------------------------------------------------------\u001b[0m",
            "\u001b[0;31mTypeError\u001b[0m                                 Traceback (most recent call last)",
            "\u001b[0;32m<ipython-input-6-eb980729c1cb>\u001b[0m in \u001b[0;36m<cell line: 8>\u001b[0;34m()\u001b[0m\n\u001b[1;32m      6\u001b[0m \u001b[0;34m\u001b[0m\u001b[0m\n\u001b[1;32m      7\u001b[0m \u001b[0;31m# Tokenize the references\u001b[0m\u001b[0;34m\u001b[0m\u001b[0;34m\u001b[0m\u001b[0m\n\u001b[0;32m----> 8\u001b[0;31m \u001b[0mtokenized_references\u001b[0m \u001b[0;34m=\u001b[0m \u001b[0;34m[\u001b[0m\u001b[0;34m[\u001b[0m\u001b[0mreference\u001b[0m\u001b[0;34m.\u001b[0m\u001b[0msplit\u001b[0m\u001b[0;34m(\u001b[0m\u001b[0;34m)\u001b[0m \u001b[0;32mfor\u001b[0m \u001b[0mreference\u001b[0m \u001b[0;32min\u001b[0m \u001b[0mreference_set\u001b[0m\u001b[0;34m]\u001b[0m \u001b[0;32mfor\u001b[0m \u001b[0mreference_set\u001b[0m \u001b[0;32min\u001b[0m \u001b[0mreferences\u001b[0m\u001b[0;34m]\u001b[0m\u001b[0;34m\u001b[0m\u001b[0;34m\u001b[0m\u001b[0m\n\u001b[0m\u001b[1;32m      9\u001b[0m \u001b[0;34m\u001b[0m\u001b[0m\n\u001b[1;32m     10\u001b[0m \u001b[0;31m# Tokenize the candidates\u001b[0m\u001b[0;34m\u001b[0m\u001b[0;34m\u001b[0m\u001b[0m\n",
            "\u001b[0;32m<ipython-input-6-eb980729c1cb>\u001b[0m in \u001b[0;36m<listcomp>\u001b[0;34m(.0)\u001b[0m\n\u001b[1;32m      6\u001b[0m \u001b[0;34m\u001b[0m\u001b[0m\n\u001b[1;32m      7\u001b[0m \u001b[0;31m# Tokenize the references\u001b[0m\u001b[0;34m\u001b[0m\u001b[0;34m\u001b[0m\u001b[0m\n\u001b[0;32m----> 8\u001b[0;31m \u001b[0mtokenized_references\u001b[0m \u001b[0;34m=\u001b[0m \u001b[0;34m[\u001b[0m\u001b[0;34m[\u001b[0m\u001b[0mreference\u001b[0m\u001b[0;34m.\u001b[0m\u001b[0msplit\u001b[0m\u001b[0;34m(\u001b[0m\u001b[0;34m)\u001b[0m \u001b[0;32mfor\u001b[0m \u001b[0mreference\u001b[0m \u001b[0;32min\u001b[0m \u001b[0mreference_set\u001b[0m\u001b[0;34m]\u001b[0m \u001b[0;32mfor\u001b[0m \u001b[0mreference_set\u001b[0m \u001b[0;32min\u001b[0m \u001b[0mreferences\u001b[0m\u001b[0;34m]\u001b[0m\u001b[0;34m\u001b[0m\u001b[0;34m\u001b[0m\u001b[0m\n\u001b[0m\u001b[1;32m      9\u001b[0m \u001b[0;34m\u001b[0m\u001b[0m\n\u001b[1;32m     10\u001b[0m \u001b[0;31m# Tokenize the candidates\u001b[0m\u001b[0;34m\u001b[0m\u001b[0;34m\u001b[0m\u001b[0m\n",
            "\u001b[0;31mTypeError\u001b[0m: 'ellipsis' object is not iterable"
          ]
        }
      ],
      "source": [
        "import nltk\n",
        "\n",
        "# Example reference translations and candidate translations\n",
        "references = [['i was the best'], ['who are you']]  # List of lists, each containing reference translations\n",
        "candidates = ['i am the best', 'who are they']  # List of candidate translations\n",
        "\n",
        "# Tokenize the references\n",
        "tokenized_references = [[reference.split() for reference in reference_set] for reference_set in references]\n",
        "\n",
        "# Tokenize the candidates\n",
        "tokenized_candidates = [candidate.split() for candidate in candidates]\n",
        "\n",
        "# Compute corpus-level BLEU score\n",
        "corpus_bleu_score = nltk.translate.bleu_score.corpus_bleu(tokenized_references, tokenized_candidates)\n",
        "print(f\"Corpus BLEU Score: {corpus_bleu_score}\")\n"
      ]
    },
    {
      "cell_type": "code",
      "execution_count": null,
      "metadata": {
        "colab": {
          "base_uri": "https://localhost:8080/",
          "height": 228
        },
        "id": "fpk01TK8Nf9t",
        "outputId": "866ec1a9-35ab-4075-cb52-90da673f4886"
      },
      "outputs": [
        {
          "ename": "TypeError",
          "evalue": "'ellipsis' object is not iterable",
          "output_type": "error",
          "traceback": [
            "\u001b[0;31m---------------------------------------------------------------------------\u001b[0m",
            "\u001b[0;31mTypeError\u001b[0m                                 Traceback (most recent call last)",
            "\u001b[0;32m<ipython-input-8-094687976311>\u001b[0m in \u001b[0;36m<cell line: 1>\u001b[0;34m()\u001b[0m\n\u001b[0;32m----> 1\u001b[0;31m \u001b[0;34m[\u001b[0m\u001b[0;34m[\u001b[0m\u001b[0mreference\u001b[0m \u001b[0;32mfor\u001b[0m \u001b[0mreference\u001b[0m \u001b[0;32min\u001b[0m \u001b[0mreference_set\u001b[0m\u001b[0;34m]\u001b[0m \u001b[0;32mfor\u001b[0m \u001b[0mreference_set\u001b[0m \u001b[0;32min\u001b[0m \u001b[0mreferences\u001b[0m\u001b[0;34m]\u001b[0m\u001b[0;34m\u001b[0m\u001b[0;34m\u001b[0m\u001b[0m\n\u001b[0m",
            "\u001b[0;32m<ipython-input-8-094687976311>\u001b[0m in \u001b[0;36m<listcomp>\u001b[0;34m(.0)\u001b[0m\n\u001b[0;32m----> 1\u001b[0;31m \u001b[0;34m[\u001b[0m\u001b[0;34m[\u001b[0m\u001b[0mreference\u001b[0m \u001b[0;32mfor\u001b[0m \u001b[0mreference\u001b[0m \u001b[0;32min\u001b[0m \u001b[0mreference_set\u001b[0m\u001b[0;34m]\u001b[0m \u001b[0;32mfor\u001b[0m \u001b[0mreference_set\u001b[0m \u001b[0;32min\u001b[0m \u001b[0mreferences\u001b[0m\u001b[0;34m]\u001b[0m\u001b[0;34m\u001b[0m\u001b[0;34m\u001b[0m\u001b[0m\n\u001b[0m",
            "\u001b[0;31mTypeError\u001b[0m: 'ellipsis' object is not iterable"
          ]
        }
      ],
      "source": [
        " [[reference for reference in reference_set] for reference_set in references]"
      ]
    },
    {
      "cell_type": "code",
      "execution_count": null,
      "metadata": {
        "id": "tDPu5MU3OF0Z"
      },
      "outputs": [],
      "source": []
    }
  ],
  "metadata": {
    "accelerator": "GPU",
    "colab": {
      "gpuType": "T4",
      "provenance": []
    },
    "kernelspec": {
      "display_name": "Python 3",
      "name": "python3"
    },
    "language_info": {
      "codemirror_mode": {
        "name": "ipython",
        "version": 3
      },
      "file_extension": ".py",
      "mimetype": "text/x-python",
      "name": "python",
      "nbconvert_exporter": "python",
      "pygments_lexer": "ipython3",
      "version": "3.11.5"
    }
  },
  "nbformat": 4,
  "nbformat_minor": 0
}
